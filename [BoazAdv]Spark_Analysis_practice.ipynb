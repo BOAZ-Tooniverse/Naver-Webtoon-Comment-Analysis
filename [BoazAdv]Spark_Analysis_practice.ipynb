{
  "nbformat": 4,
  "nbformat_minor": 0,
  "metadata": {
    "colab": {
      "provenance": [],
      "toc_visible": true
    },
    "kernelspec": {
      "name": "python3",
      "display_name": "Python 3"
    },
    "language_info": {
      "name": "python"
    }
  },
  "cells": [
    {
      "cell_type": "markdown",
      "source": [
        "# ✅ Environment Setting"
      ],
      "metadata": {
        "id": "uQ0VHUkcidJC"
      }
    },
    {
      "cell_type": "code",
      "execution_count": 3,
      "metadata": {
        "colab": {
          "base_uri": "https://localhost:8080/"
        },
        "id": "wD9nEV81AjQu",
        "outputId": "80220361-6166-44a8-acfe-f77630c524b4"
      },
      "outputs": [
        {
          "output_type": "stream",
          "name": "stdout",
          "text": [
            "--2023-05-24 08:47:40--  https://repo1.maven.org/maven2/org/apache/hadoop/hadoop-aws/3.3.1/hadoop-aws-3.3.1.jar\n",
            "Resolving repo1.maven.org (repo1.maven.org)... 199.232.192.209, 199.232.196.209, 2a04:4e42:4c::209, ...\n",
            "Connecting to repo1.maven.org (repo1.maven.org)|199.232.192.209|:443... connected.\n",
            "HTTP request sent, awaiting response... 200 OK\n",
            "Length: 870644 (850K) [application/java-archive]\n",
            "Saving to: ‘hadoop-aws-3.3.1.jar.1’\n",
            "\n",
            "\rhadoop-aws-3.3.1.ja   0%[                    ]       0  --.-KB/s               \rhadoop-aws-3.3.1.ja 100%[===================>] 850.24K  --.-KB/s    in 0.01s   \n",
            "\n",
            "2023-05-24 08:47:41 (85.0 MB/s) - ‘hadoop-aws-3.3.1.jar.1’ saved [870644/870644]\n",
            "\n",
            "--2023-05-24 08:47:46--  https://repo1.maven.org/maven2/org/apache/hadoop/hadoop-aws/3.3.1/hadoop-aws-3.3.1.jar\n",
            "Resolving repo1.maven.org (repo1.maven.org)... 199.232.192.209, 199.232.196.209, 2a04:4e42:4c::209, ...\n",
            "Connecting to repo1.maven.org (repo1.maven.org)|199.232.192.209|:443... connected.\n",
            "HTTP request sent, awaiting response... 200 OK\n",
            "Length: 870644 (850K) [application/java-archive]\n",
            "Saving to: ‘hadoop-aws-3.3.1.jar.2’\n",
            "\n",
            "hadoop-aws-3.3.1.ja 100%[===================>] 850.24K  --.-KB/s    in 0.01s   \n",
            "\n",
            "2023-05-24 08:47:46 (87.0 MB/s) - ‘hadoop-aws-3.3.1.jar.2’ saved [870644/870644]\n",
            "\n"
          ]
        }
      ],
      "source": [
        "!wget https://repo1.maven.org/maven2/org/apache/hadoop/hadoop-aws/3.3.1/hadoop-aws-3.3.1.jar"
      ]
    },
    {
      "cell_type": "markdown",
      "source": [],
      "metadata": {
        "id": "HaA7g2zKDm7T"
      }
    },
    {
      "cell_type": "code",
      "source": [
        "pip install pyspark"
      ],
      "metadata": {
        "colab": {
          "base_uri": "https://localhost:8080/"
        },
        "id": "QDdgn9cAA1pP",
        "outputId": "a3b1e206-983b-4211-c371-67e806615ab1"
      },
      "execution_count": 4,
      "outputs": [
        {
          "output_type": "stream",
          "name": "stdout",
          "text": [
            "Looking in indexes: https://pypi.org/simple, https://us-python.pkg.dev/colab-wheels/public/simple/\n",
            "Requirement already satisfied: pyspark in /usr/local/lib/python3.10/dist-packages (3.4.0)\n",
            "Requirement already satisfied: py4j==0.10.9.7 in /usr/local/lib/python3.10/dist-packages (from pyspark) (0.10.9.7)\n",
            "Looking in indexes: https://pypi.org/simple, https://us-python.pkg.dev/colab-wheels/public/simple/\n",
            "Requirement already satisfied: pyspark in /usr/local/lib/python3.10/dist-packages (3.4.0)\n",
            "Requirement already satisfied: py4j==0.10.9.7 in /usr/local/lib/python3.10/dist-packages (from pyspark) (0.10.9.7)\n"
          ]
        }
      ]
    },
    {
      "cell_type": "code",
      "source": [
        "import os\n",
        "os.environ['PYSPARK_SUBMIT_ARGS'] = '--packages \"org.apache.hadoop:hadoop-aws:3.3.1\" pyspark-shell'"
      ],
      "metadata": {
        "id": "Jv7rweXjE_xE"
      },
      "execution_count": 5,
      "outputs": []
    },
    {
      "cell_type": "markdown",
      "source": [
        "# ✅ SparkSession 생성 및 데이터 불러오기"
      ],
      "metadata": {
        "id": "1f7UqD5YigYd"
      }
    },
    {
      "cell_type": "code",
      "source": [
        "from pyspark.sql import SparkSession\n",
        "\n",
        "spark = SparkSession.builder \\\n",
        "    .appName(\"Read from S3\") \\\n",
        "    .config(\"spark.jars.packages\", \"org.apache.hadoop:hadoop-aws:3.3.1\") \\\n",
        "    .config(\"spark.hadoop.fs.s3a.impl\",\"org.apache.hadoop.fs.s3a.S3AFileSystem\") \\\n",
        "    .config(\"spark.hadoop.fs.s3a.access.key\",\"(access_key)\") \\\n",
        "    .config(\"spark.hadoop.fs.s3a.secret.key\",\"(secret_key)\") \\\n",
        "    .getOrCreate()\n"
      ],
      "metadata": {
        "id": "he44u6XHAmE4"
      },
      "execution_count": 6,
      "outputs": []
    },
    {
      "cell_type": "code",
      "source": [
        "# # s3 bucket에서 데이터 읽어오기 (10개 웹툰)\n",
        "# df = spark.read \\\n",
        "#     .option(\"header\", \"true\") \\\n",
        "#     .option(\"inferSchema\", \"true\") \\\n",
        "#     .json(\"s3a://(버킷명)/{805691,805893,805437,570506,644112,648419,64997,671421,676695,687915}/*.json\")"
      ],
      "metadata": {
        "id": "w66t_tqrAySx"
      },
      "execution_count": 7,
      "outputs": []
    },
    {
      "cell_type": "code",
      "source": [
        "# s3 bucket에서 데이터 읽어오기 (5개 웹툰)\n",
        "df = spark.read \\\n",
        "    .option(\"header\", \"true\") \\\n",
        "    .option(\"inferSchema\", \"true\") \\\n",
        "    .json(\"s3a://(버킷명)/{805691,805893,805437,804862,804868}/*.json\")"
      ],
      "metadata": {
        "id": "2WcLAXqw4wOk"
      },
      "execution_count": 76,
      "outputs": []
    },
    {
      "cell_type": "code",
      "source": [
        "# # s3 bucket에서 데이터 읽어오기 (2개 웹툰)\n",
        "# df = spark.read \\\n",
        "#     .option(\"header\", \"true\") \\\n",
        "#     .option(\"inferSchema\", \"true\") \\\n",
        "#     .json(\"s3a://(버킷명)/{805893,805437}/*.json\")"
      ],
      "metadata": {
        "id": "dB-oKJOi6Sru"
      },
      "execution_count": 44,
      "outputs": []
    },
    {
      "cell_type": "markdown",
      "source": [
        "> ## 총 레코드 수 (best 댓글 수)"
      ],
      "metadata": {
        "id": "1xYw8UoHf98r"
      }
    },
    {
      "cell_type": "code",
      "source": [
        "df.count()"
      ],
      "metadata": {
        "id": "5UTT5FM7fFvs",
        "colab": {
          "base_uri": "https://localhost:8080/"
        },
        "outputId": "7e5b3f2f-c26c-4175-a7bf-aeec20459b3d"
      },
      "execution_count": 77,
      "outputs": [
        {
          "output_type": "execute_result",
          "data": {
            "text/plain": [
              "815"
            ]
          },
          "metadata": {},
          "execution_count": 77
        }
      ]
    },
    {
      "cell_type": "code",
      "source": [
        "# 스키마 형태\n",
        "df.printSchema()"
      ],
      "metadata": {
        "id": "GFnt6nDCA_j_",
        "colab": {
          "base_uri": "https://localhost:8080/"
        },
        "outputId": "917636d8-ef7d-41a9-9737-8c79c61ab841"
      },
      "execution_count": 78,
      "outputs": [
        {
          "output_type": "stream",
          "name": "stdout",
          "text": [
            "root\n",
            " |-- comment: string (nullable = true)\n",
            " |-- comment_id: string (nullable = true)\n",
            " |-- epi_no: long (nullable = true)\n",
            " |-- is_best: boolean (nullable = true)\n",
            " |-- login_id: string (nullable = true)\n",
            " |-- nickname: string (nullable = true)\n",
            " |-- recomm_cnt: string (nullable = true)\n",
            " |-- reply_cnt: string (nullable = true)\n",
            " |-- save_date: string (nullable = true)\n",
            " |-- title_id: string (nullable = true)\n",
            " |-- unrecomm_cnt: string (nullable = true)\n",
            " |-- write_date: string (nullable = true)\n",
            "\n"
          ]
        }
      ]
    },
    {
      "cell_type": "code",
      "source": [
        "df.show()"
      ],
      "metadata": {
        "id": "zcchHwAgBqGd",
        "colab": {
          "base_uri": "https://localhost:8080/"
        },
        "outputId": "e8686cee-0187-4a66-b059-b8f2a8857046"
      },
      "execution_count": 79,
      "outputs": [
        {
          "output_type": "stream",
          "name": "stdout",
          "text": [
            "+-------------------------------------+----------+------+-------+--------+------------------+----------+---------+-----------------+--------+------------+--------------------+\n",
            "|                              comment|comment_id|epi_no|is_best|login_id|          nickname|recomm_cnt|reply_cnt|        save_date|title_id|unrecomm_cnt|          write_date|\n",
            "+-------------------------------------+----------+------+-------+--------+------------------+----------+---------+-----------------+--------+------------+--------------------+\n",
            "|   결국 낙하산은 낙하산으로 끝내는...| 452407213|    13|   true|jhw0****|아꽁치조림먹고싶다|       810|        5|1683147027.928622|  805893|           3|2023-03-24T03:03:...|\n",
            "|    이 웹툰은 로맨스 중심으로 돌아...| 453760787|    13|   true|pril****|              프릴|       285|        0|1683147030.885027|  805893|           1|2023-04-27T23:12:...|\n",
            "|   그래도 주연은 아니라도 비중있는...| 453493549|    13|   true|seoj****|               seo|       205|        0|1683147032.881402|  805893|           2|2023-04-21T10:39:...|\n",
            "|드러워서안가드러워서안가드러워서안...| 453765691|    13|   true|bunn****|               bun|       114|        2|1683147035.607522|  805893|           1|2023-04-27T23:43:...|\n",
            "|    아니 ㅋㅋㅋㅋ 작가의 말이 너무...| 452394062|    13|   true|bbon****|            김봉지|        91|        0|1683147037.603453|  805893|           0|2023-03-23T23:12:...|\n",
            "|   재밌어요 ㅠㅅㅠ 주연은 정은빛이...| 452393486|    13|   true|0010****|              쑨녜|        56|        0|1683147040.484538|  805893|           0|2023-03-23T23:10:...|\n",
            "|    시아는 연기에 재능 있는거 같아...| 452391083|    13|   true|gsns****|               gsn|        45|        0|1683147042.480446|  805893|           0|2023-03-23T23:04:...|\n",
            "|      작가님 고의로 50편만 더 내주...| 453769230|    13|   true|abcd****|               abc|        37|        0|1683147044.519265|  805893|           0|2023-04-28T00:28:...|\n",
            "|    은빛이가 약간 경하랑 비슷한 것...| 453541156|    13|   true|dnjs****|              혜원|        36|        0|1683147047.290502|  805893|           1|2023-04-22T18:30:...|\n",
            "|      아니? 난 형처럼 당당히 내 실...| 452953600|    13|   true|xyz9****|                유|        26|        0|1683147049.332115|  805893|           0|2023-04-07T13:47:...|\n",
            "|               작가의 말 개웃기네ㅋㅋ| 453769161|    13|   true|jaee****|               jae|        17|        0|1683147051.335653|  805893|           0|2023-04-28T00:27:...|\n",
            "|    ㅎㅎ 심사위원님 저희 시아 짱이...| 453765956|    13|   true|lina****|               lin|        16|        0|1683147054.263319|  805893|           0|2023-04-27T23:45:...|\n",
            "|    그렇게 시아는 유명 배우들만 있...| 453564068|    13|   true|99aq****|               99a|        16|        0|1683147056.349125|  805893|           0|2023-04-23T01:29:...|\n",
            "|                               와갓툰| 453761653|    13|   true|pyj9****|               pyj|        15|        0|1683147059.315759|  805893|           0|2023-04-27T23:15:...|\n",
            "|        와...다들 안자세요?...그래...| 453756996|    13|   true|yuki****|          yuki****|        15|        0|1683147061.469495|  805893|           1|2023-04-27T23:01:...|\n",
            "|    와 태발 씨준이형 이렇게 낭심울...| 450589699|     9|   true|gund****|             Cfoot|      4978|       30|1684514622.643797|  804862|          71|2023-02-07T22:36:...|\n",
            "|      그냥 다 버리고 이거 주2회 연...| 450590047|     9|   true|litt****|            A2ceji|      3418|       15|1684514625.524065|  804862|          48|2023-02-07T22:46:...|\n",
            "|   백도경 태산 보스되는과정 외전으...| 450601265|     9|   true|dlac****|          dlac****|      2646|        9|1684514627.598504|  804862|          30|2023-02-08T00:08:...|\n",
            "|    우리 ㅈ의 숙주들의 마음을 울리...| 450589777|     9|   true|hyun****|               shk|      1976|        9|1684514630.315788|  804862|          37|2023-02-07T22:38:...|\n",
            "|                  베댓, 여심도 울린다| 450589975|     9|   true|ttt0****|          배고프다|      1299|       15| 1684514632.43548|  804862|          28|2023-02-07T22:44:...|\n",
            "+-------------------------------------+----------+------+-------+--------+------------------+----------+---------+-----------------+--------+------------+--------------------+\n",
            "only showing top 20 rows\n",
            "\n"
          ]
        }
      ]
    },
    {
      "cell_type": "code",
      "source": [
        "# 웹툰 별 댓글 개수 \n",
        "from pyspark.sql.functions import count\n",
        "\n",
        "comments_cnt = df.groupBy(\"title_id\").agg(\n",
        "    count(\"epi_no\").alias(\"epi_no_cnt\")\n",
        "    )"
      ],
      "metadata": {
        "id": "NjGRvdD-1l7J"
      },
      "execution_count": 80,
      "outputs": []
    },
    {
      "cell_type": "code",
      "source": [
        "comments_cnt.show()"
      ],
      "metadata": {
        "id": "ck0uA4sq2CBb",
        "colab": {
          "base_uri": "https://localhost:8080/"
        },
        "outputId": "8db67939-503e-4acb-8533-b945328ae518"
      },
      "execution_count": 81,
      "outputs": [
        {
          "output_type": "stream",
          "name": "stdout",
          "text": [
            "+--------+----------+\n",
            "|title_id|epi_no_cnt|\n",
            "+--------+----------+\n",
            "|  805437|       192|\n",
            "|  804862|       228|\n",
            "|  804868|       189|\n",
            "|  805893|       113|\n",
            "|  805691|        93|\n",
            "+--------+----------+\n",
            "\n"
          ]
        }
      ]
    },
    {
      "cell_type": "code",
      "source": [
        "# # DataFrame의 모든 내용 확인\n",
        "# rows = df.collect()\n",
        "# for row in rows:\n",
        "#     print(row)\n"
      ],
      "metadata": {
        "id": "0IpXmfnjyUMb"
      },
      "execution_count": 82,
      "outputs": []
    },
    {
      "cell_type": "markdown",
      "source": [
        "\n",
        "\n"
      ],
      "metadata": {
        "id": "BlM_Lohbnt2S"
      }
    },
    {
      "cell_type": "markdown",
      "source": [
        "# ️✅ 분석: 답글(unrecomm_cnt) 수 "
      ],
      "metadata": {
        "id": "XJo2j05agFVt"
      }
    },
    {
      "cell_type": "markdown",
      "source": [
        "#### 사전작업"
      ],
      "metadata": {
        "id": "fw_zYp7urmLK"
      }
    },
    {
      "cell_type": "code",
      "source": [
        "from pyspark.sql.functions import col, avg, expr, desc"
      ],
      "metadata": {
        "id": "qwJKUncMqzBH"
      },
      "execution_count": 83,
      "outputs": []
    },
    {
      "cell_type": "code",
      "source": [
        "df = df.withColumn(\"reply_cnt\", col(\"reply_cnt\").cast(\"integer\"))"
      ],
      "metadata": {
        "id": "3Vwj0vmYro0h"
      },
      "execution_count": 84,
      "outputs": []
    },
    {
      "cell_type": "markdown",
      "source": [
        "> ## 1. 답글 수의 평균"
      ],
      "metadata": {
        "id": "oQfRDL6egPay"
      }
    },
    {
      "cell_type": "markdown",
      "source": [
        ">> ### 1) 전체 답글 수의 평균\n",
        "\n",
        "\n",
        "\n"
      ],
      "metadata": {
        "id": "_Dm1h7BhgUjK"
      }
    },
    {
      "cell_type": "code",
      "source": [
        "avg_reply_cnt = df.select(\n",
        "    avg(\"reply_cnt\").alias(\"avg_reply_cnt\")\n",
        ").selectExpr(\n",
        "    \"avg_reply_cnt\"\n",
        ")"
      ],
      "metadata": {
        "id": "2ooJuxbNqhFt"
      },
      "execution_count": 85,
      "outputs": []
    },
    {
      "cell_type": "code",
      "source": [
        "avg_reply_cnt.show()"
      ],
      "metadata": {
        "id": "7fGd5Mt2wyQ5",
        "colab": {
          "base_uri": "https://localhost:8080/"
        },
        "outputId": "3179b985-6435-4d46-fca4-440e6137e733"
      },
      "execution_count": 86,
      "outputs": [
        {
          "output_type": "stream",
          "name": "stdout",
          "text": [
            "+-----------------+\n",
            "|    avg_reply_cnt|\n",
            "+-----------------+\n",
            "|5.743558282208589|\n",
            "+-----------------+\n",
            "\n"
          ]
        }
      ]
    },
    {
      "cell_type": "markdown",
      "source": [
        ">> ### 2)  답글 수의 평균이 높은 웹툰 Top10"
      ],
      "metadata": {
        "id": "iy0j0ZzlhCe1"
      }
    },
    {
      "cell_type": "code",
      "source": [
        "top10_reply_by_toon= df.groupBy(\"title_id\").agg(\n",
        "                            avg(\"reply_cnt\").alias(\"avg_reply_cnt\")\n",
        "                        ).orderBy(desc(\"avg_reply_cnt\")) \\\n",
        "                        .limit(10)"
      ],
      "metadata": {
        "id": "XsJz5WOJw3CV"
      },
      "execution_count": 87,
      "outputs": []
    },
    {
      "cell_type": "code",
      "source": [
        "top10_reply_by_toon.show()"
      ],
      "metadata": {
        "id": "5JEmvvZFyz-O",
        "colab": {
          "base_uri": "https://localhost:8080/"
        },
        "outputId": "aaf28092-21c2-4d3c-c68b-266c91327b75"
      },
      "execution_count": 88,
      "outputs": [
        {
          "output_type": "stream",
          "name": "stdout",
          "text": [
            "+--------+------------------+\n",
            "|title_id|     avg_reply_cnt|\n",
            "+--------+------------------+\n",
            "|  804862|13.833333333333334|\n",
            "|  805691| 3.086021505376344|\n",
            "|  804868|2.8095238095238093|\n",
            "|  805437|          2.359375|\n",
            "|  805893| 2.265486725663717|\n",
            "+--------+------------------+\n",
            "\n"
          ]
        }
      ]
    },
    {
      "cell_type": "markdown",
      "source": [
        ">> ### 3) 답글 수의 평균이 높은 회차 Top 10"
      ],
      "metadata": {
        "id": "HIlvn3q8hIi2"
      }
    },
    {
      "cell_type": "code",
      "source": [
        "top10_reply_by_epi = df.groupBy(\"epi_no\").agg(\n",
        "                  avg(\"reply_cnt\").alias(\"avg_reply_cnt\")\n",
        "                  ).orderBy(desc(\"avg_reply_cnt\")) \\\n",
        "                  .limit(10)"
      ],
      "metadata": {
        "id": "eX7dGYIR_aMb"
      },
      "execution_count": 89,
      "outputs": []
    },
    {
      "cell_type": "code",
      "source": [
        "top10_reply_by_epi.show()"
      ],
      "metadata": {
        "id": "IYGzi8L2y25f",
        "colab": {
          "base_uri": "https://localhost:8080/"
        },
        "outputId": "29d38b32-8b16-41e7-c421-f78d4b85d7e3"
      },
      "execution_count": 90,
      "outputs": [
        {
          "output_type": "stream",
          "name": "stdout",
          "text": [
            "+------+-----------------+\n",
            "|epi_no|    avg_reply_cnt|\n",
            "+------+-----------------+\n",
            "|    18|             21.0|\n",
            "|     1|8.266666666666667|\n",
            "|     5|          8.21875|\n",
            "|     6|7.979591836734694|\n",
            "|    12|7.254901960784314|\n",
            "|     7| 6.74468085106383|\n",
            "|     3|6.714285714285714|\n",
            "|    17|5.608695652173913|\n",
            "|     4|             4.95|\n",
            "|    16|4.882352941176471|\n",
            "+------+-----------------+\n",
            "\n"
          ]
        }
      ]
    },
    {
      "cell_type": "markdown",
      "source": [
        "> ## 2. 답글 수 분포"
      ],
      "metadata": {
        "id": "L_Nv6fE_l9ht"
      }
    },
    {
      "cell_type": "markdown",
      "source": [
        ">> ### 1) 답글 수 Top 10"
      ],
      "metadata": {
        "id": "5OAl_QOCmCcw"
      }
    },
    {
      "cell_type": "code",
      "source": [
        "top_10_records = df.orderBy(col(\"reply_cnt\").desc()).limit(10)"
      ],
      "metadata": {
        "id": "_7Qj9di2sOjf"
      },
      "execution_count": 91,
      "outputs": []
    },
    {
      "cell_type": "code",
      "source": [
        "top_10_records.show()"
      ],
      "metadata": {
        "id": "nRnhf_MHsS2k",
        "colab": {
          "base_uri": "https://localhost:8080/"
        },
        "outputId": "1d1b60ca-9f3d-4315-9bdc-b93617bd1649"
      },
      "execution_count": 92,
      "outputs": [
        {
          "output_type": "stream",
          "name": "stdout",
          "text": [
            "+----------------------------------+----------+------+-------+--------+--------+----------+---------+-----------------+--------+------------+--------------------+\n",
            "|                           comment|comment_id|epi_no|is_best|login_id|nickname|recomm_cnt|reply_cnt|        save_date|title_id|unrecomm_cnt|          write_date|\n",
            "+----------------------------------+----------+------+-------+--------+--------+----------+---------+-----------------+--------+------------+--------------------+\n",
            "|  님들 근데 이거 웹툰 뭐라고 읽...| 451512366|    12|   true|pkp8****|    태성|      1104|      149|1684514913.300666|  804862|          18|2023-03-01T00:48:...|\n",
            "| 이거 드라마로 만들어서 원빈이 ...| 449696399|     6|   true|bomi****|    보민|      3969|      114|1684514373.418594|  804862|         191|2023-01-18T00:40:...|\n",
            "|    월:퀘지주화:김부장 수:백XX ...| 449678801|     1|   true|jswo****|   white|      8534|      111| 1684514027.73187|  804862|         100|2023-01-17T22:13:...|\n",
            "|   캐슬 따라한 것만 같달까.. 최...| 450055677|     7|   true|hwam****|  신규진|       702|      101|1684514481.514997|  804862|          80|2023-01-26T10:22:...|\n",
            "| 백도경 부활시켜주면 내일 학교 ...| 453125969|    18|   true|jhyo****|     jhy|      5859|       76|1684515440.030216|  804862|          65|2023-04-11T23:04:...|\n",
            "| 중학생이 어케 저런 가오가 가능...| 452583072|    16|   true|seon****|     seo|      5053|       74|1684515233.610659|  804862|          21|2023-03-28T23:00:...|\n",
            "|백도경 부활시켜주면 내일 대학가...| 453133851|    18|   true|sipa****|     sip|      1995|       62|1684515447.548892|  804862|          77|2023-04-12T00:08:...|\n",
            "|  태준이형 이젠 수요일 1등도 하...| 449678286|     1|   true|jswo****|   white|     10802|       53|1684514024.895106|  804862|          91|2023-01-17T22:03:...|\n",
            "| 죽은건 아닌 듯 교묘하게 죽었단...| 449706475|     5|   true|rok1****|  아방방|      7303|       52|1684514312.140385|  804862|          63|2023-01-18T08:16:...|\n",
            "|  아니 누가 내 취향 알려줬나봐 ...| 449680474|     1|   true|subi****|  이수빈|      1607|       50|1684514037.057357|  804862|          50|2023-01-17T22:54:...|\n",
            "+----------------------------------+----------+------+-------+--------+--------+----------+---------+-----------------+--------+------------+--------------------+\n",
            "\n"
          ]
        }
      ]
    },
    {
      "cell_type": "markdown",
      "source": [
        "# ️✅ 분석: '댓글'의 좋아요/싫어요 수 "
      ],
      "metadata": {
        "id": "yow5TSF0l3cp"
      }
    },
    {
      "cell_type": "markdown",
      "source": [
        "사전 작업"
      ],
      "metadata": {
        "id": "Yl4SjdeW3Bvr"
      }
    },
    {
      "cell_type": "code",
      "source": [
        "df = df.withColumn(\"recomm_cnt\", col(\"recomm_cnt\").cast(\"integer\"))\n",
        "df = df.withColumn(\"unrecomm_cnt\", col(\"unrecomm_cnt\").cast(\"integer\"))"
      ],
      "metadata": {
        "id": "N74dSkWy3DFf"
      },
      "execution_count": 93,
      "outputs": []
    },
    {
      "cell_type": "markdown",
      "source": [
        "> ## 0. 좋아요/싫어요 수 분포"
      ],
      "metadata": {
        "id": "hpvuXtEq4N7k"
      }
    },
    {
      "cell_type": "markdown",
      "source": [
        ">> ### 1) 좋아요/싫어요 수 Top 10"
      ],
      "metadata": {
        "id": "SzM0fMY44Tg7"
      }
    },
    {
      "cell_type": "code",
      "source": [
        "top_10_recomm = df.orderBy(col(\"recomm_cnt\").desc()).limit(10)\n",
        "top_10_unrecomm = df.orderBy(col(\"unrecomm_cnt\").desc()).limit(10)"
      ],
      "metadata": {
        "id": "-0FXf1mX4beK"
      },
      "execution_count": 94,
      "outputs": []
    },
    {
      "cell_type": "code",
      "source": [
        "top_10_recomm.show()"
      ],
      "metadata": {
        "id": "N-Xr8vOR4hyg",
        "colab": {
          "base_uri": "https://localhost:8080/"
        },
        "outputId": "926dca28-f9a9-4ec6-bc29-6a78bc252ab2"
      },
      "execution_count": 95,
      "outputs": [
        {
          "output_type": "stream",
          "name": "stdout",
          "text": [
            "+----------------------------------+----------+------+-------+--------+------------+----------+---------+-----------------+--------+------------+--------------------+\n",
            "|                           comment|comment_id|epi_no|is_best|login_id|    nickname|recomm_cnt|reply_cnt|        save_date|title_id|unrecomm_cnt|          write_date|\n",
            "+----------------------------------+----------+------+-------+--------+------------+----------+---------+-----------------+--------+------------+--------------------+\n",
            "| 아니 에바잖아 지금 죽기엔 너무...| 449713451|     4|   true|aiub****|        파도|     11071|       33|1684514187.471901|  804862|          45|2023-01-18T12:54:...|\n",
            "|  태준이형 이젠 수요일 1등도 하...| 449678286|     1|   true|jswo****|       white|     10802|       53|1684514024.895106|  804862|          91|2023-01-17T22:03:...|\n",
            "|   진짜 죽은 거야? 내 최애된지 ...| 449689770|     5|   true|clai****|      하련솔|      9663|       47|1684514309.224483|  804862|          23|2023-01-17T23:29:...|\n",
            "| 근데 개쳐발린거 보고 ㅈㄴ 건방...| 450291622|     8|   true|wotj****|그니깐그니깐|      8663|       25|1684514535.735319|  804862|          41|2023-01-31T22:43:...|\n",
            "|    월:퀘지주화:김부장 수:백XX ...| 449678801|     1|   true|jswo****|       white|      8534|      111| 1684514027.73187|  804862|         100|2023-01-17T22:13:...|\n",
            "|형이 흑막인줄 알았는데 동생바보...| 449679184|     1|   true|wowo****|         wow|      8181|       14|1684514029.735065|  804862|          55|2023-01-17T22:24:...|\n",
            "|         살아남은 팀원 쫌 수상한디| 449710964|     4|   true|bjw4****|      배지우|      7391|       23|1684514191.465623|  804862|          38|2023-01-18T11:11:...|\n",
            "| 죽은건 아닌 듯 교묘하게 죽었단...| 449706475|     5|   true|rok1****|      아방방|      7303|       52|1684514312.140385|  804862|          63|2023-01-18T08:16:...|\n",
            "|              백도경 부활이냐 설마| 453123850|    18|   true|kshw****|      삐질이|      6093|       32|  1684515437.2356|  804862|           9|2023-04-11T22:56:...|\n",
            "|                  오늘 지린다 진짜| 449992038|     7|   true|suyo****|      김수영|      6036|       11|1684514448.147077|  804862|          23|2023-01-24T22:52:...|\n",
            "+----------------------------------+----------+------+-------+--------+------------+----------+---------+-----------------+--------+------------+--------------------+\n",
            "\n"
          ]
        }
      ]
    },
    {
      "cell_type": "code",
      "source": [
        "top_10_unrecomm.show()"
      ],
      "metadata": {
        "id": "xDjtgRHQ4jbd",
        "colab": {
          "base_uri": "https://localhost:8080/"
        },
        "outputId": "b3a60367-0351-4af4-87c1-df78c0621c03"
      },
      "execution_count": 96,
      "outputs": [
        {
          "output_type": "stream",
          "name": "stdout",
          "text": [
            "+---------------------------------+----------+------+-------+--------+------------+----------+---------+-----------------+--------+------------+--------------------+\n",
            "|                          comment|comment_id|epi_no|is_best|login_id|    nickname|recomm_cnt|reply_cnt|        save_date|title_id|unrecomm_cnt|          write_date|\n",
            "+---------------------------------+----------+------+-------+--------+------------+----------+---------+-----------------+--------+------------+--------------------+\n",
            "|이거 드라마로 만들어서 원빈이 ...| 449696399|     6|   true|bomi****|        보민|      3969|      114|1684514373.418594|  804862|         191|2023-01-18T00:40:...|\n",
            "|   작가님 저희가 10시30분에 올...| 451182092|    11|   true|maca****|         mac|      2845|       25| 1684514802.42765|  804862|         149|2023-02-21T22:35:...|\n",
            "|캐슬이 더 무개감있다.캐슬은 넘...| 452323755|    15|   true|dlwj****|         dlw|      1556|       33|1684515157.294156|  804862|         126|2023-03-21T23:26:...|\n",
            "|   머리타령좀 그만했으면.........| 450519474|     9|   true|mono****|        마냐|      1366|       26|1683187453.709379|  805437|         119|2023-02-06T00:08:...|\n",
            "|   위험하다.... 캐슬 너의 빈자...| 450897035|    10|   true|gksw****|      한진희|       413|       14|1684514723.048889|  804862|         118|2023-02-15T00:05:...|\n",
            "|        캐슬의 빈자리 너가 채워라| 449702008|     3|   true|mins****|      김민석|      4663|       46|1684514118.594149|  804862|         105|2023-01-18T02:54:...|\n",
            "|   미쳤다.. 난 확신한다. 이건 ...| 450240010|     7|   true|ghdr****|          달|       935|       25|1684514477.297969|  804862|         104|2023-01-30T14:50:...|\n",
            "|웹툰에서 일본어 불어 정확하게 ...| 451185541|    11|   true|0813****|무료쿠키 2개|      3854|       49|1684514797.591104|  804862|         101|2023-02-21T23:03:...|\n",
            "| 메인 애들 헤어 왜이래? 길안내...| 450516069|     9|   true|keys****|        HOPE|       777|        5|1683187455.710629|  805437|         101|2023-02-05T23:30:...|\n",
            "|   월:퀘지주화:김부장 수:백XX ...| 449678801|     1|   true|jswo****|       white|      8534|      111| 1684514027.73187|  804862|         100|2023-01-17T22:13:...|\n",
            "+---------------------------------+----------+------+-------+--------+------------+----------+---------+-----------------+--------+------------+--------------------+\n",
            "\n"
          ]
        }
      ]
    },
    {
      "cell_type": "markdown",
      "source": [
        "> ## 1. 좋아요/싫어요 수의 평균"
      ],
      "metadata": {
        "id": "BRgUYWwamKah"
      }
    },
    {
      "cell_type": "markdown",
      "source": [
        "\n",
        "\n",
        ">> ### 1) 전체 좋아요/싫어요 수의 평균\n",
        "\n"
      ],
      "metadata": {
        "id": "mSEqu1XVmPwX"
      }
    },
    {
      "cell_type": "code",
      "source": [
        "avg_recomm_cnt = df.select(\n",
        "    avg(\"recomm_cnt\").alias(\"avg_recomm_cnt\")\n",
        ").selectExpr(\n",
        "    \"avg_recomm_cnt\"\n",
        ")\n",
        "\n",
        "avg_unrecomm_cnt = df.select(\n",
        "    avg(\"unrecomm_cnt\").alias(\"avg_unrecomm_cnt\")\n",
        ").selectExpr(\n",
        "    \"avg_unrecomm_cnt\"\n",
        ")"
      ],
      "metadata": {
        "id": "x1gCcsIV2sIK"
      },
      "execution_count": 97,
      "outputs": []
    },
    {
      "cell_type": "code",
      "source": [
        "avg_recomm_cnt.show()"
      ],
      "metadata": {
        "id": "zzCwv2ra2x5Z",
        "colab": {
          "base_uri": "https://localhost:8080/"
        },
        "outputId": "5d17ad7b-ccfa-4547-f115-cf79ba61008d"
      },
      "execution_count": 98,
      "outputs": [
        {
          "output_type": "stream",
          "name": "stdout",
          "text": [
            "+----------------+\n",
            "|  avg_recomm_cnt|\n",
            "+----------------+\n",
            "|857.198773006135|\n",
            "+----------------+\n",
            "\n"
          ]
        }
      ]
    },
    {
      "cell_type": "code",
      "source": [
        "avg_unrecomm_cnt.show()"
      ],
      "metadata": {
        "id": "27PK2VpU3NUQ",
        "colab": {
          "base_uri": "https://localhost:8080/"
        },
        "outputId": "3ad444ea-a297-4359-da7d-d7d86f8e530b"
      },
      "execution_count": 99,
      "outputs": [
        {
          "output_type": "stream",
          "name": "stdout",
          "text": [
            "+------------------+\n",
            "|  avg_unrecomm_cnt|\n",
            "+------------------+\n",
            "|13.231901840490798|\n",
            "+------------------+\n",
            "\n"
          ]
        }
      ]
    },
    {
      "cell_type": "markdown",
      "source": [
        ">>  ### 2) 좋아요/싫어요 수의 평균이 높은 웹툰 Top10"
      ],
      "metadata": {
        "id": "QlExNUPamiOc"
      }
    },
    {
      "cell_type": "code",
      "source": [
        "top10_recomm_by_toon= df.groupBy(\"title_id\").agg(\n",
        "                            avg(\"recomm_cnt\").alias(\"avg_recomm_cnt\")\n",
        "                        ).orderBy(desc(\"avg_recomm_cnt\")) \\\n",
        "                        .limit(10)\n",
        "\n",
        "top10_unrecomm_by_toon= df.groupBy(\"title_id\").agg(\n",
        "                            avg(\"unrecomm_cnt\").alias(\"avg_unrecomm_cnt\")\n",
        "                        ).orderBy(desc(\"avg_unrecomm_cnt\")) \\\n",
        "                        .limit(10)"
      ],
      "metadata": {
        "id": "wgzsFEkI3R8V"
      },
      "execution_count": 100,
      "outputs": []
    },
    {
      "cell_type": "code",
      "source": [
        "top10_recomm_by_toon.show()"
      ],
      "metadata": {
        "id": "szbMrUV73jtC",
        "colab": {
          "base_uri": "https://localhost:8080/"
        },
        "outputId": "4ab27f5e-9440-48e8-d25c-2a0ab068f60a"
      },
      "execution_count": 101,
      "outputs": [
        {
          "output_type": "stream",
          "name": "stdout",
          "text": [
            "+--------+------------------+\n",
            "|title_id|    avg_recomm_cnt|\n",
            "+--------+------------------+\n",
            "|  804862|1537.5657894736842|\n",
            "|  804868| 960.2380952380952|\n",
            "|  805893| 531.7433628318585|\n",
            "|  805437|        450.296875|\n",
            "|  805691|215.30107526881721|\n",
            "+--------+------------------+\n",
            "\n"
          ]
        }
      ]
    },
    {
      "cell_type": "code",
      "source": [
        "top10_unrecomm_by_toon.show()"
      ],
      "metadata": {
        "id": "26JBICSS3k6W",
        "colab": {
          "base_uri": "https://localhost:8080/"
        },
        "outputId": "84c92ce7-14d1-4d15-aa97-81f46cf68727"
      },
      "execution_count": 102,
      "outputs": [
        {
          "output_type": "stream",
          "name": "stdout",
          "text": [
            "+--------+------------------+\n",
            "|title_id|  avg_unrecomm_cnt|\n",
            "+--------+------------------+\n",
            "|  804862|31.666666666666668|\n",
            "|  805437| 8.276041666666666|\n",
            "|  804868| 6.634920634920635|\n",
            "|  805691| 5.172043010752688|\n",
            "|  805893|2.1238938053097347|\n",
            "+--------+------------------+\n",
            "\n"
          ]
        }
      ]
    },
    {
      "cell_type": "markdown",
      "source": [
        ">> ### 3) 좋아요/싫어요 수의 평균이 높은 회차 Top 10"
      ],
      "metadata": {
        "id": "wLGMlIAAmvRu"
      }
    },
    {
      "cell_type": "code",
      "source": [
        "top10_recomm_by_epi = df.groupBy(\"epi_no\").agg(\n",
        "                  avg(\"recomm_cnt\").alias(\"avg_recomm_cnt\")\n",
        "                  ).orderBy(desc(\"avg_recomm_cnt\")) \\\n",
        "                  .limit(10)\n",
        "\n",
        "top10_unrecomm_by_epi = df.groupBy(\"epi_no\").agg(\n",
        "                  avg(\"unrecomm_cnt\").alias(\"avg_unrecomm_cnt\")\n",
        "                  ).orderBy(desc(\"avg_unrecomm_cnt\")) \\\n",
        "                  .limit(10)"
      ],
      "metadata": {
        "id": "OMDdAfzLAHiM"
      },
      "execution_count": 103,
      "outputs": []
    },
    {
      "cell_type": "code",
      "source": [
        "top10_recomm_by_epi.show()"
      ],
      "metadata": {
        "id": "cXhVG7rb36oD",
        "colab": {
          "base_uri": "https://localhost:8080/"
        },
        "outputId": "8879797f-fcb4-4afd-d3f0-37d9b0a0cda6"
      },
      "execution_count": 104,
      "outputs": [
        {
          "output_type": "stream",
          "name": "stdout",
          "text": [
            "+------+------------------+\n",
            "|epi_no|    avg_recomm_cnt|\n",
            "+------+------------------+\n",
            "|    18|2121.4545454545455|\n",
            "|     1|           1346.15|\n",
            "|     5|        1345.21875|\n",
            "|     4|            1220.0|\n",
            "|     3|1057.4489795918366|\n",
            "|     2| 902.8222222222222|\n",
            "|     7| 866.8085106382979|\n",
            "|    15| 799.8461538461538|\n",
            "|     8|             788.4|\n",
            "|    17| 740.9565217391304|\n",
            "+------+------------------+\n",
            "\n"
          ]
        }
      ]
    },
    {
      "cell_type": "code",
      "source": [
        "top10_unrecomm_by_epi.show()"
      ],
      "metadata": {
        "id": "DDpIb1X44E43",
        "colab": {
          "base_uri": "https://localhost:8080/"
        },
        "outputId": "cc214ed3-fe82-4c14-dfa4-b45838173ab4"
      },
      "execution_count": 105,
      "outputs": [
        {
          "output_type": "stream",
          "name": "stdout",
          "text": [
            "+------+------------------+\n",
            "|epi_no|  avg_unrecomm_cnt|\n",
            "+------+------------------+\n",
            "|    18|24.545454545454547|\n",
            "|     1|18.716666666666665|\n",
            "|     5|          18.09375|\n",
            "|     9|16.280701754385966|\n",
            "|    10|15.055555555555555|\n",
            "|     6|14.938775510204081|\n",
            "|    17|14.565217391304348|\n",
            "|     8|              13.6|\n",
            "|     2| 13.11111111111111|\n",
            "|     3| 12.89795918367347|\n",
            "+------+------------------+\n",
            "\n"
          ]
        }
      ]
    },
    {
      "cell_type": "markdown",
      "source": [
        "# ️✅ 분석: 댓글의 길이"
      ],
      "metadata": {
        "id": "VTqKbjw36Ek9"
      }
    },
    {
      "cell_type": "markdown",
      "source": [
        "## 0. 전체 댓글의 길이의 평균"
      ],
      "metadata": {
        "id": "nMAMl-f06vfk"
      }
    },
    {
      "cell_type": "code",
      "source": [
        "from pyspark.sql.functions import avg, length\n",
        "\n",
        "avg_comment_length = df.select(avg(length(\"comment\")).alias(\"avg_comment_length\"))"
      ],
      "metadata": {
        "id": "h15vV5vA6G15"
      },
      "execution_count": 106,
      "outputs": []
    },
    {
      "cell_type": "code",
      "source": [
        "avg_comment_length.show()"
      ],
      "metadata": {
        "id": "o6_YgFqO6s-C",
        "colab": {
          "base_uri": "https://localhost:8080/"
        },
        "outputId": "ef3d84b2-c4e3-4865-b82b-f7f414653413"
      },
      "execution_count": 107,
      "outputs": [
        {
          "output_type": "stream",
          "name": "stdout",
          "text": [
            "+------------------+\n",
            "|avg_comment_length|\n",
            "+------------------+\n",
            "|40.750920245398774|\n",
            "+------------------+\n",
            "\n"
          ]
        }
      ]
    },
    {
      "cell_type": "code",
      "source": [],
      "metadata": {
        "id": "0kFvHNCj9OmK"
      },
      "execution_count": 107,
      "outputs": []
    }
  ]
}