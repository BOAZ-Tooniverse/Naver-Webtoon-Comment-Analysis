{
 "cells": [
  {
   "cell_type": "code",
   "execution_count": 1,
   "id": "c1871f00",
   "metadata": {},
   "outputs": [],
   "source": [
    "from pyspark.sql import SparkSession"
   ]
  },
  {
   "cell_type": "code",
   "execution_count": 2,
   "id": "5e4c406e",
   "metadata": {},
   "outputs": [],
   "source": [
    "# 버킷명 읽어오기\n",
    "import os\n",
    "\n",
    "bucket_name = os.environ.get('S3_BUCKET_NAME')"
   ]
  },
  {
   "cell_type": "code",
   "execution_count": 3,
   "id": "9b912912",
   "metadata": {},
   "outputs": [],
   "source": [
    "import os\n",
    "os.environ['PYSPARK_SUBMIT_ARGS'] = '--packages \"org.apache.hadoop:hadoop-aws:3.3.4\" pyspark-shell'"
   ]
  },
  {
   "cell_type": "code",
   "execution_count": 4,
   "id": "367f5783",
   "metadata": {},
   "outputs": [
    {
     "name": "stderr",
     "output_type": "stream",
     "text": [
      "/spark/bin/load-spark-env.sh: line 68: ps: command not found\n"
     ]
    },
    {
     "name": "stdout",
     "output_type": "stream",
     "text": [
      ":: loading settings :: url = jar:file:/spark/jars/ivy-2.5.1.jar!/org/apache/ivy/core/settings/ivysettings.xml\n"
     ]
    },
    {
     "name": "stderr",
     "output_type": "stream",
     "text": [
      "Ivy Default Cache set to: /root/.ivy2/cache\n",
      "The jars for the packages stored in: /root/.ivy2/jars\n",
      "org.apache.hadoop#hadoop-aws added as a dependency\n",
      ":: resolving dependencies :: org.apache.spark#spark-submit-parent-f47fc3ed-5ea8-4671-9af0-3a1a5e00befd;1.0\n",
      "\tconfs: [default]\n",
      "\tfound org.apache.hadoop#hadoop-aws;3.3.4 in central\n",
      "\tfound com.amazonaws#aws-java-sdk-bundle;1.12.262 in central\n",
      "\tfound org.wildfly.openssl#wildfly-openssl;1.0.7.Final in central\n",
      ":: resolution report :: resolve 677ms :: artifacts dl 98ms\n",
      "\t:: modules in use:\n",
      "\tcom.amazonaws#aws-java-sdk-bundle;1.12.262 from central in [default]\n",
      "\torg.apache.hadoop#hadoop-aws;3.3.4 from central in [default]\n",
      "\torg.wildfly.openssl#wildfly-openssl;1.0.7.Final from central in [default]\n",
      "\t---------------------------------------------------------------------\n",
      "\t|                  |            modules            ||   artifacts   |\n",
      "\t|       conf       | number| search|dwnlded|evicted|| number|dwnlded|\n",
      "\t---------------------------------------------------------------------\n",
      "\t|      default     |   3   |   0   |   0   |   0   ||   3   |   0   |\n",
      "\t---------------------------------------------------------------------\n",
      ":: retrieving :: org.apache.spark#spark-submit-parent-f47fc3ed-5ea8-4671-9af0-3a1a5e00befd\n",
      "\tconfs: [default]\n",
      "\t0 artifacts copied, 3 already retrieved (0kB/48ms)\n",
      "23/05/28 18:09:56 WARN NativeCodeLoader: Unable to load native-hadoop library for your platform... using builtin-java classes where applicable\n",
      "Setting default log level to \"WARN\".\n",
      "To adjust logging level use sc.setLogLevel(newLevel). For SparkR, use setLogLevel(newLevel).\n"
     ]
    }
   ],
   "source": [
    "spark = SparkSession.builder \\\n",
    "    .appName(\"S3JSONAnalysis\") \\\n",
    "    .config(\"spark.jars.packages\", \"org.apache.hadoop:hadoop-aws:3.3.4\") \\\n",
    "    .getOrCreate()"
   ]
  },
  {
   "cell_type": "code",
   "execution_count": 7,
   "id": "44cb2803",
   "metadata": {},
   "outputs": [
    {
     "name": "stderr",
     "output_type": "stream",
     "text": [
      "23/05/28 18:10:50 WARN MetricsConfig: Cannot locate configuration: tried hadoop-metrics2-s3a-file-system.properties,hadoop-metrics2.properties\n",
      "                                                                                \r"
     ]
    }
   ],
   "source": [
    "# s3 bucket에서 데이터 읽어오기\n",
    "df = spark.read \\\n",
    "    .option(\"header\", \"true\") \\\n",
    "    .option(\"inferSchema\", \"true\") \\\n",
    "    .json(f\"s3a://{bucket_name}/802079/802079_1_best.json\")"
   ]
  },
  {
   "cell_type": "code",
   "execution_count": 8,
   "id": "90d9af14",
   "metadata": {},
   "outputs": [
    {
     "name": "stdout",
     "output_type": "stream",
     "text": [
      "root\n",
      " |-- comment: string (nullable = true)\n",
      " |-- comment_id: string (nullable = true)\n",
      " |-- epi_no: long (nullable = true)\n",
      " |-- is_best: boolean (nullable = true)\n",
      " |-- login_id: string (nullable = true)\n",
      " |-- nickname: string (nullable = true)\n",
      " |-- recomm_cnt: string (nullable = true)\n",
      " |-- reply_cnt: string (nullable = true)\n",
      " |-- save_date: string (nullable = true)\n",
      " |-- title_id: string (nullable = true)\n",
      " |-- unrecomm_cnt: string (nullable = true)\n",
      " |-- write_date: string (nullable = true)\n",
      "\n"
     ]
    }
   ],
   "source": [
    "df.printSchema()"
   ]
  },
  {
   "cell_type": "code",
   "execution_count": 9,
   "id": "0c63f3f7",
   "metadata": {},
   "outputs": [
    {
     "name": "stderr",
     "output_type": "stream",
     "text": [
      "\r",
      "[Stage 1:>                                                          (0 + 1) / 1]\r",
      "\r",
      "                                                                                \r"
     ]
    },
    {
     "name": "stdout",
     "output_type": "stream",
     "text": [
      "+-----------------------------------+----------+------+-------+--------+--------------------+----------+---------+-----------------+--------+------------+--------------------+\n",
      "|                            comment|comment_id|epi_no|is_best|login_id|            nickname|recomm_cnt|reply_cnt|        save_date|title_id|unrecomm_cnt|          write_date|\n",
      "+-----------------------------------+----------+------+-------+--------+--------------------+----------+---------+-----------------+--------+------------+--------------------+\n",
      "|   사이비 남주는 처음이다..근데 ...| 446672521|     1|   true|cy07****|자기야나이러다텅장됨|     13149|       16|1683178607.273069|  802079|          12|2022-11-05T22:05:...|\n",
      "|  사이비 교주 아들이 사기 당해서...| 446672539|     1|   true|jooa****|              WeekAh|     10268|       12|1683178610.585746|  802079|           8|2022-11-05T22:05:...|\n",
      "|      웹툰이 재밌고 남주가 맛있어요| 446672488|     1|   true|jang****|                 jan|      5417|       27|1683178612.702568|  802079|          48|2022-11-05T22:04:...|\n",
      "|                    신박하다 신박해| 446672589|     1|   true|jenn****|                한담|      3229|        5|1683178614.663434|  802079|           7|2022-11-05T22:06:...|\n",
      "|               그림체 엄청 예쁘당..| 446672537|     1|   true|jinv****|                  비|      2595|        5|1683178617.427669|  802079|           7|2022-11-05T22:05:...|\n",
      "|  사이비가 마냥 웃고 넘어갈게 아...| 446692047|     1|   true|minj****|                미정|      2382|       15|  1683178619.3446|  802079|          24|2022-11-06T07:50:...|\n",
      "|  근데 그럼 외삼촌은 큰 사이비도...| 446784766|     1|   true|tama****|                이쏘|      1101|        3|1683178622.260322|  802079|           5|2022-11-08T20:09:...|\n",
      "|                맛있..아니 멋있네요| 446672535|     1|   true|eved****|                 eve|      1053|        9|1683178624.301191|  802079|           9|2022-11-05T22:05:...|\n",
      "|                 와 1더하기1 작사님| 446672938|     1|   true|boye****|            할많하않|       777|       13|1683178626.381076|  802079|           5|2022-11-05T22:16:...|\n",
      "|     소루 작가님 맞으시죠..?? 일...| 446672463|     1|   true|hurs****|           mintchoco|       361|        2|1683178629.218629|  802079|           5|2022-11-05T22:04:...|\n",
      "|우리반 급훈 레전드였는데ㅋㅋㅋㅋ...| 447603334|     1|   true|kim1****|                예진|       339|        6|1683178631.337464|  802079|           8|2022-11-27T23:45:...|\n",
      "|  아니 설정이 ㅋㅋㅋㅋ 너무 설득...| 447850070|     1|   true|turt****|                 abd|       255|        8|1683178634.294107|  802079|          13|2022-12-04T03:52:...|\n",
      "|  아니 근데 여주의 집청소 실력은...| 446709733|     1|   true|cabi****|              안소민|       195|        0|1683178636.451325|  802079|           5|2022-11-06T22:28:...|\n",
      "| 윤정한이 나온다는 소문 듣고 왔어여| 450632468|     1|   true|doeu****|              시나슈|        80|        1|1683178638.492988|  802079|           3|2023-02-08T23:05:...|\n",
      "|   야..요한이로 뭐고 여주 생활력...| 452246296|     1|   true|yunj****|                무우|        34|        0|1683178641.565259|  802079|           0|2023-03-19T23:12:...|\n",
      "+-----------------------------------+----------+------+-------+--------+--------------------+----------+---------+-----------------+--------+------------+--------------------+\n",
      "\n"
     ]
    }
   ],
   "source": [
    "df.show()"
   ]
  },
  {
   "cell_type": "code",
   "execution_count": null,
   "id": "ccf31691",
   "metadata": {},
   "outputs": [],
   "source": []
  }
 ],
 "metadata": {
  "kernelspec": {
   "display_name": "Python 3 (ipykernel)",
   "language": "python",
   "name": "python3"
  },
  "language_info": {
   "codemirror_mode": {
    "name": "ipython",
    "version": 3
   },
   "file_extension": ".py",
   "mimetype": "text/x-python",
   "name": "python",
   "nbconvert_exporter": "python",
   "pygments_lexer": "ipython3",
   "version": "3.9.2"
  }
 },
 "nbformat": 4,
 "nbformat_minor": 5
}
