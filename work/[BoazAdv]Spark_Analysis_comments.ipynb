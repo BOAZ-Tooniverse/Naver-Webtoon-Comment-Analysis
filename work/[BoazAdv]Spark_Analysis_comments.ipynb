{
 "cells": [
  {
   "cell_type": "code",
   "execution_count": 3,
   "id": "d4fa767f",
   "metadata": {},
   "outputs": [],
   "source": [
    "from pyspark.sql import SparkSession\n",
    "import os"
   ]
  },
  {
   "cell_type": "code",
   "execution_count": 4,
   "id": "9fd6dda7",
   "metadata": {},
   "outputs": [
    {
     "name": "stdout",
     "output_type": "stream",
     "text": [
      "현재 경로: /work\n"
     ]
    }
   ],
   "source": [
    "# 현재 작업 디렉토리를 가져옴\n",
    "current_directory = os.getcwd()\n",
    "\n",
    "# 현재 경로 출력\n",
    "print(\"현재 경로:\", current_directory)"
   ]
  },
  {
   "cell_type": "code",
   "execution_count": 5,
   "id": "82bd34dd",
   "metadata": {},
   "outputs": [],
   "source": [
    "os.environ['PYSPARK_SUBMIT_ARGS'] = '--packages \"org.apache.hadoop:hadoop-aws:3.3.4\" pyspark-shell'"
   ]
  },
  {
   "cell_type": "code",
   "execution_count": 6,
   "id": "b8e13ab7",
   "metadata": {},
   "outputs": [
    {
     "name": "stderr",
     "output_type": "stream",
     "text": [
      "/spark/bin/load-spark-env.sh: line 68: ps: command not found\n"
     ]
    },
    {
     "name": "stdout",
     "output_type": "stream",
     "text": [
      ":: loading settings :: url = jar:file:/spark/jars/ivy-2.5.1.jar!/org/apache/ivy/core/settings/ivysettings.xml\n"
     ]
    },
    {
     "name": "stderr",
     "output_type": "stream",
     "text": [
      "Ivy Default Cache set to: /root/.ivy2/cache\n",
      "The jars for the packages stored in: /root/.ivy2/jars\n",
      "org.apache.hadoop#hadoop-aws added as a dependency\n",
      ":: resolving dependencies :: org.apache.spark#spark-submit-parent-410ededd-1ab8-4264-9708-45fe97b0e29c;1.0\n",
      "\tconfs: [default]\n",
      "\tfound org.apache.hadoop#hadoop-aws;3.3.4 in central\n",
      "\tfound com.amazonaws#aws-java-sdk-bundle;1.12.262 in central\n",
      "\tfound org.wildfly.openssl#wildfly-openssl;1.0.7.Final in central\n",
      ":: resolution report :: resolve 5203ms :: artifacts dl 503ms\n",
      "\t:: modules in use:\n",
      "\tcom.amazonaws#aws-java-sdk-bundle;1.12.262 from central in [default]\n",
      "\torg.apache.hadoop#hadoop-aws;3.3.4 from central in [default]\n",
      "\torg.wildfly.openssl#wildfly-openssl;1.0.7.Final from central in [default]\n",
      "\t---------------------------------------------------------------------\n",
      "\t|                  |            modules            ||   artifacts   |\n",
      "\t|       conf       | number| search|dwnlded|evicted|| number|dwnlded|\n",
      "\t---------------------------------------------------------------------\n",
      "\t|      default     |   3   |   0   |   0   |   0   ||   3   |   0   |\n",
      "\t---------------------------------------------------------------------\n",
      ":: retrieving :: org.apache.spark#spark-submit-parent-410ededd-1ab8-4264-9708-45fe97b0e29c\n",
      "\tconfs: [default]\n",
      "\t0 artifacts copied, 3 already retrieved (0kB/159ms)\n",
      "23/07/10 05:05:26 WARN NativeCodeLoader: Unable to load native-hadoop library for your platform... using builtin-java classes where applicable\n",
      "Setting default log level to \"WARN\".\n",
      "To adjust logging level use sc.setLogLevel(newLevel). For SparkR, use setLogLevel(newLevel).\n",
      "23/07/10 05:06:10 ERROR Inbox: Ignoring error\n",
      "java.lang.NullPointerException\n",
      "\tat org.apache.spark.storage.BlockManagerMasterEndpoint.org$apache$spark$storage$BlockManagerMasterEndpoint$$register(BlockManagerMasterEndpoint.scala:600)\n",
      "\tat org.apache.spark.storage.BlockManagerMasterEndpoint$$anonfun$receiveAndReply$1.applyOrElse(BlockManagerMasterEndpoint.scala:123)\n",
      "\tat org.apache.spark.rpc.netty.Inbox.$anonfun$process$1(Inbox.scala:103)\n",
      "\tat org.apache.spark.rpc.netty.Inbox.safelyCall(Inbox.scala:213)\n",
      "\tat org.apache.spark.rpc.netty.Inbox.process(Inbox.scala:100)\n",
      "\tat org.apache.spark.rpc.netty.MessageLoop.org$apache$spark$rpc$netty$MessageLoop$$receiveLoop(MessageLoop.scala:75)\n",
      "\tat org.apache.spark.rpc.netty.MessageLoop$$anon$1.run(MessageLoop.scala:41)\n",
      "\tat java.util.concurrent.ThreadPoolExecutor.runWorker(ThreadPoolExecutor.java:1149)\n",
      "\tat java.util.concurrent.ThreadPoolExecutor$Worker.run(ThreadPoolExecutor.java:624)\n",
      "\tat java.lang.Thread.run(Thread.java:750)\n",
      "23/07/10 05:06:10 WARN Executor: Issue communicating with driver in heartbeater\n",
      "org.apache.spark.SparkException: Exception thrown in awaitResult: \n",
      "\tat org.apache.spark.util.ThreadUtils$.awaitResult(ThreadUtils.scala:322)\n",
      "\tat org.apache.spark.rpc.RpcTimeout.awaitResult(RpcTimeout.scala:75)\n",
      "\tat org.apache.spark.rpc.RpcEndpointRef.askSync(RpcEndpointRef.scala:101)\n",
      "\tat org.apache.spark.rpc.RpcEndpointRef.askSync(RpcEndpointRef.scala:85)\n",
      "\tat org.apache.spark.storage.BlockManagerMaster.registerBlockManager(BlockManagerMaster.scala:80)\n",
      "\tat org.apache.spark.storage.BlockManager.reregister(BlockManager.scala:641)\n",
      "\tat org.apache.spark.executor.Executor.reportHeartBeat(Executor.scala:1111)\n",
      "\tat org.apache.spark.executor.Executor.$anonfun$heartbeater$1(Executor.scala:244)\n",
      "\tat scala.runtime.java8.JFunction0$mcV$sp.apply(JFunction0$mcV$sp.java:23)\n",
      "\tat org.apache.spark.util.Utils$.logUncaughtExceptions(Utils.scala:2088)\n",
      "\tat org.apache.spark.Heartbeater$$anon$1.run(Heartbeater.scala:46)\n",
      "\tat java.util.concurrent.Executors$RunnableAdapter.call(Executors.java:511)\n",
      "\tat java.util.concurrent.FutureTask.runAndReset(FutureTask.java:308)\n",
      "\tat java.util.concurrent.ScheduledThreadPoolExecutor$ScheduledFutureTask.access$301(ScheduledThreadPoolExecutor.java:180)\n",
      "\tat java.util.concurrent.ScheduledThreadPoolExecutor$ScheduledFutureTask.run(ScheduledThreadPoolExecutor.java:294)\n",
      "\tat java.util.concurrent.ThreadPoolExecutor.runWorker(ThreadPoolExecutor.java:1149)\n",
      "\tat java.util.concurrent.ThreadPoolExecutor$Worker.run(ThreadPoolExecutor.java:624)\n",
      "\tat java.lang.Thread.run(Thread.java:750)\n",
      "Caused by: java.lang.NullPointerException\n",
      "\tat org.apache.spark.storage.BlockManagerMasterEndpoint.org$apache$spark$storage$BlockManagerMasterEndpoint$$register(BlockManagerMasterEndpoint.scala:600)\n",
      "\tat org.apache.spark.storage.BlockManagerMasterEndpoint$$anonfun$receiveAndReply$1.applyOrElse(BlockManagerMasterEndpoint.scala:123)\n",
      "\tat org.apache.spark.rpc.netty.Inbox.$anonfun$process$1(Inbox.scala:103)\n",
      "\tat org.apache.spark.rpc.netty.Inbox.safelyCall(Inbox.scala:213)\n",
      "\tat org.apache.spark.rpc.netty.Inbox.process(Inbox.scala:100)\n",
      "\tat org.apache.spark.rpc.netty.MessageLoop.org$apache$spark$rpc$netty$MessageLoop$$receiveLoop(MessageLoop.scala:75)\n",
      "\tat org.apache.spark.rpc.netty.MessageLoop$$anon$1.run(MessageLoop.scala:41)\n",
      "\t... 3 more\n",
      "23/07/10 05:06:18 ERROR Inbox: Ignoring error\n",
      "java.lang.NullPointerException\n",
      "\tat org.apache.spark.storage.BlockManagerMasterEndpoint.org$apache$spark$storage$BlockManagerMasterEndpoint$$register(BlockManagerMasterEndpoint.scala:600)\n",
      "\tat org.apache.spark.storage.BlockManagerMasterEndpoint$$anonfun$receiveAndReply$1.applyOrElse(BlockManagerMasterEndpoint.scala:123)\n",
      "\tat org.apache.spark.rpc.netty.Inbox.$anonfun$process$1(Inbox.scala:103)\n",
      "\tat org.apache.spark.rpc.netty.Inbox.safelyCall(Inbox.scala:213)\n",
      "\tat org.apache.spark.rpc.netty.Inbox.process(Inbox.scala:100)\n",
      "\tat org.apache.spark.rpc.netty.MessageLoop.org$apache$spark$rpc$netty$MessageLoop$$receiveLoop(MessageLoop.scala:75)\n",
      "\tat org.apache.spark.rpc.netty.MessageLoop$$anon$1.run(MessageLoop.scala:41)\n",
      "\tat java.util.concurrent.ThreadPoolExecutor.runWorker(ThreadPoolExecutor.java:1149)\n",
      "\tat java.util.concurrent.ThreadPoolExecutor$Worker.run(ThreadPoolExecutor.java:624)\n",
      "\tat java.lang.Thread.run(Thread.java:750)\n",
      "23/07/10 05:06:18 WARN Executor: Issue communicating with driver in heartbeater\n",
      "org.apache.spark.SparkException: Exception thrown in awaitResult: \n",
      "\tat org.apache.spark.util.ThreadUtils$.awaitResult(ThreadUtils.scala:322)\n",
      "\tat org.apache.spark.rpc.RpcTimeout.awaitResult(RpcTimeout.scala:75)\n",
      "\tat org.apache.spark.rpc.RpcEndpointRef.askSync(RpcEndpointRef.scala:101)\n",
      "\tat org.apache.spark.rpc.RpcEndpointRef.askSync(RpcEndpointRef.scala:85)\n",
      "\tat org.apache.spark.storage.BlockManagerMaster.registerBlockManager(BlockManagerMaster.scala:80)\n",
      "\tat org.apache.spark.storage.BlockManager.reregister(BlockManager.scala:641)\n",
      "\tat org.apache.spark.executor.Executor.reportHeartBeat(Executor.scala:1111)\n",
      "\tat org.apache.spark.executor.Executor.$anonfun$heartbeater$1(Executor.scala:244)\n",
      "\tat scala.runtime.java8.JFunction0$mcV$sp.apply(JFunction0$mcV$sp.java:23)\n",
      "\tat org.apache.spark.util.Utils$.logUncaughtExceptions(Utils.scala:2088)\n",
      "\tat org.apache.spark.Heartbeater$$anon$1.run(Heartbeater.scala:46)\n",
      "\tat java.util.concurrent.Executors$RunnableAdapter.call(Executors.java:511)\n",
      "\tat java.util.concurrent.FutureTask.runAndReset(FutureTask.java:308)\n",
      "\tat java.util.concurrent.ScheduledThreadPoolExecutor$ScheduledFutureTask.access$301(ScheduledThreadPoolExecutor.java:180)\n",
      "\tat java.util.concurrent.ScheduledThreadPoolExecutor$ScheduledFutureTask.run(ScheduledThreadPoolExecutor.java:294)\n",
      "\tat java.util.concurrent.ThreadPoolExecutor.runWorker(ThreadPoolExecutor.java:1149)\n",
      "\tat java.util.concurrent.ThreadPoolExecutor$Worker.run(ThreadPoolExecutor.java:624)\n",
      "\tat java.lang.Thread.run(Thread.java:750)\n",
      "Caused by: java.lang.NullPointerException\n",
      "\tat org.apache.spark.storage.BlockManagerMasterEndpoint.org$apache$spark$storage$BlockManagerMasterEndpoint$$register(BlockManagerMasterEndpoint.scala:600)\n",
      "\tat org.apache.spark.storage.BlockManagerMasterEndpoint$$anonfun$receiveAndReply$1.applyOrElse(BlockManagerMasterEndpoint.scala:123)\n",
      "\tat org.apache.spark.rpc.netty.Inbox.$anonfun$process$1(Inbox.scala:103)\n",
      "\tat org.apache.spark.rpc.netty.Inbox.safelyCall(Inbox.scala:213)\n",
      "\tat org.apache.spark.rpc.netty.Inbox.process(Inbox.scala:100)\n",
      "\tat org.apache.spark.rpc.netty.MessageLoop.org$apache$spark$rpc$netty$MessageLoop$$receiveLoop(MessageLoop.scala:75)\n",
      "\tat org.apache.spark.rpc.netty.MessageLoop$$anon$1.run(MessageLoop.scala:41)\n",
      "\t... 3 more\n",
      "23/07/10 05:06:28 ERROR Inbox: Ignoring error\n",
      "java.lang.NullPointerException\n",
      "\tat org.apache.spark.storage.BlockManagerMasterEndpoint.org$apache$spark$storage$BlockManagerMasterEndpoint$$register(BlockManagerMasterEndpoint.scala:600)\n",
      "\tat org.apache.spark.storage.BlockManagerMasterEndpoint$$anonfun$receiveAndReply$1.applyOrElse(BlockManagerMasterEndpoint.scala:123)\n",
      "\tat org.apache.spark.rpc.netty.Inbox.$anonfun$process$1(Inbox.scala:103)\n",
      "\tat org.apache.spark.rpc.netty.Inbox.safelyCall(Inbox.scala:213)\n",
      "\tat org.apache.spark.rpc.netty.Inbox.process(Inbox.scala:100)\n",
      "\tat org.apache.spark.rpc.netty.MessageLoop.org$apache$spark$rpc$netty$MessageLoop$$receiveLoop(MessageLoop.scala:75)\n",
      "\tat org.apache.spark.rpc.netty.MessageLoop$$anon$1.run(MessageLoop.scala:41)\n",
      "\tat java.util.concurrent.ThreadPoolExecutor.runWorker(ThreadPoolExecutor.java:1149)\n",
      "\tat java.util.concurrent.ThreadPoolExecutor$Worker.run(ThreadPoolExecutor.java:624)\n",
      "\tat java.lang.Thread.run(Thread.java:750)\n",
      "23/07/10 05:06:28 WARN Executor: Issue communicating with driver in heartbeater\n",
      "org.apache.spark.SparkException: Exception thrown in awaitResult: \n",
      "\tat org.apache.spark.util.ThreadUtils$.awaitResult(ThreadUtils.scala:322)\n",
      "\tat org.apache.spark.rpc.RpcTimeout.awaitResult(RpcTimeout.scala:75)\n",
      "\tat org.apache.spark.rpc.RpcEndpointRef.askSync(RpcEndpointRef.scala:101)\n",
      "\tat org.apache.spark.rpc.RpcEndpointRef.askSync(RpcEndpointRef.scala:85)\n",
      "\tat org.apache.spark.storage.BlockManagerMaster.registerBlockManager(BlockManagerMaster.scala:80)\n",
      "\tat org.apache.spark.storage.BlockManager.reregister(BlockManager.scala:641)\n",
      "\tat org.apache.spark.executor.Executor.reportHeartBeat(Executor.scala:1111)\n",
      "\tat org.apache.spark.executor.Executor.$anonfun$heartbeater$1(Executor.scala:244)\n",
      "\tat scala.runtime.java8.JFunction0$mcV$sp.apply(JFunction0$mcV$sp.java:23)\n",
      "\tat org.apache.spark.util.Utils$.logUncaughtExceptions(Utils.scala:2088)\n",
      "\tat org.apache.spark.Heartbeater$$anon$1.run(Heartbeater.scala:46)\n",
      "\tat java.util.concurrent.Executors$RunnableAdapter.call(Executors.java:511)\n",
      "\tat java.util.concurrent.FutureTask.runAndReset(FutureTask.java:308)\n",
      "\tat java.util.concurrent.ScheduledThreadPoolExecutor$ScheduledFutureTask.access$301(ScheduledThreadPoolExecutor.java:180)\n",
      "\tat java.util.concurrent.ScheduledThreadPoolExecutor$ScheduledFutureTask.run(ScheduledThreadPoolExecutor.java:294)\n",
      "\tat java.util.concurrent.ThreadPoolExecutor.runWorker(ThreadPoolExecutor.java:1149)\n",
      "\tat java.util.concurrent.ThreadPoolExecutor$Worker.run(ThreadPoolExecutor.java:624)\n",
      "\tat java.lang.Thread.run(Thread.java:750)\n",
      "Caused by: java.lang.NullPointerException\n",
      "\tat org.apache.spark.storage.BlockManagerMasterEndpoint.org$apache$spark$storage$BlockManagerMasterEndpoint$$register(BlockManagerMasterEndpoint.scala:600)\n",
      "\tat org.apache.spark.storage.BlockManagerMasterEndpoint$$anonfun$receiveAndReply$1.applyOrElse(BlockManagerMasterEndpoint.scala:123)\n",
      "\tat org.apache.spark.rpc.netty.Inbox.$anonfun$process$1(Inbox.scala:103)\n",
      "\tat org.apache.spark.rpc.netty.Inbox.safelyCall(Inbox.scala:213)\n",
      "\tat org.apache.spark.rpc.netty.Inbox.process(Inbox.scala:100)\n",
      "\tat org.apache.spark.rpc.netty.MessageLoop.org$apache$spark$rpc$netty$MessageLoop$$receiveLoop(MessageLoop.scala:75)\n",
      "\tat org.apache.spark.rpc.netty.MessageLoop$$anon$1.run(MessageLoop.scala:41)\n",
      "\t... 3 more\n"
     ]
    }
   ],
   "source": [
    "spark = SparkSession.builder \\\n",
    "    .appName(\"analysis\") \\\n",
    "    .config(\"spark.jars.packages\", \"org.apache.hadoop:hadoop-aws:3.3.4\") \\\n",
    "    .getOrCreate()"
   ]
  },
  {
   "cell_type": "code",
   "execution_count": 7,
   "id": "41995c5e",
   "metadata": {},
   "outputs": [],
   "source": [
    "# comments_csv 디렉토리 경로\n",
    "directory = \"comments_csv\"\n",
    "\n",
    "# 디렉토리 내 모든 파일 경로를 가져옴\n",
    "files = [os.path.join(directory, file) for file in os.listdir(directory) if file.endswith(\".csv\")]\n",
    "print(\"파일 개수 : \" , len(files))"
   ]
  },
  {
   "cell_type": "code",
   "execution_count": 23,
   "id": "f6893fbd",
   "metadata": {
    "scrolled": true
   },
   "outputs": [
    {
     "name": "stderr",
     "output_type": "stream",
     "text": [
      "                                                                                \r"
     ]
    },
    {
     "name": "stdout",
     "output_type": "stream",
     "text": [
      "+------------------------------------+----------+------+-------+--------+-------------+----------+---------+-------------------+--------+------------+-------------------+\n",
      "|                             comment|comment_id|epi_no|is_best|login_id|     nickname|recomm_cnt|reply_cnt|          save_date|title_id|unrecomm_cnt|         write_date|\n",
      "+------------------------------------+----------+------+-------+--------+-------------+----------+---------+-------------------+--------+------------+-------------------+\n",
      "|      넌 아직 건너오면 안된다... ...| 327625429|   335|   true|asd5****|케이지 사랑해|     12790|        2|1.686477496450047E9|  616239|          50|2017-07-10 14:17:32|\n",
      "|  그림이랑 개 똑같이 생겼엌ㅋㅋㅋ...| 327623979|   335|   true|urmy****|     오오오오|      8858|        0|1.686477500056887E9|  616239|          55|2017-07-10 14:16:01|\n",
      "|                 사지말고 입양하세요| 327626850|   335|   true|ghn0****|         스디|      7839|        0|1.686477502453198E9|  616239|         126|2017-07-10 14:19:05|\n",
      "|  여러분 이번화 보다가 생각났는데...| 327633194|   335|   true|tell****|       똑똑이|      6585|        3|1.686477505323652E9|  616239|          97|2017-07-10 14:25:34|\n",
      "|    와 진짜 견주로서 눈물 났어요....| 327632868|   335|   true|lshm****|     lshm****|      4812|        0|1.686477507322432E9|  616239|          55|2017-07-10 14:25:13|\n",
      "|   여러분 펫샵에서 파는 새끼 개들...| 327636518|   335|   true|cjfb****|     철없는것|      3351|        0|1.686477509318104E9|  616239|          46|2017-07-10 14:29:48|\n",
      "|  여러분 강아지를 분양하든 입양하...| 327653162|   335|   true|tjsg****|       소서노|      2393|        0|1.686477512235206E9|  616239|          25|2017-07-10 15:20:16|\n",
      "|     아이고 나도 참 주책인듯.. 이...| 327630979|   335|   true|anem****|         요다|      1927|        0|1.686477514232702E9|  616239|          33|2017-07-10 14:23:12|\n",
      "|  반려견은 사랑입니다.애견샵 하시...| 327651262|   335|   true|wjsw****|   asdaasdasf|      1467|        0|1.686477517197316E9|  616239|          15|2017-07-10 15:11:18|\n",
      "|   이전에 멋모르고 아는 펫샵에서 ...| 327650023|   335|   true|hell****|      hellrot|      1290|        0|1.686477519240137E9|  616239|          10|2017-07-10 15:05:54|\n",
      "|   주사를 맞춰서 억지로 교배를 시...| 327657883|   335|   true|len0****|         순열|      1107|        0|1.686477521397867E9|  616239|           9|2017-07-10 15:48:38|\n",
      "|    펫 팩토리, 즉 애견공장은 말이...| 327653499|   335|   true|kyh0****|       권용현|       950|        0| 1.68647752455576E9|  616239|          16|2017-07-10 15:22:03|\n",
      "|   베댓들에 반대 누른 사람들은 강...| 327668838|   335|   true|dahy****|         다혜|       874|        0|1.686477526637508E9|  616239|          19|2017-07-10 21:04:09|\n",
      "|  저희집 강아지를 데려올때 무료분...| 327678924|   335|   true|jun8****|       KKooLz|       794|        0|1.686477529680051E9|  616239|           8|2017-07-11 06:06:21|\n",
      "|    데려온지 2년된 우리집 시츄 수...| 327673635|   335|   true|2sil****|         모리|       634|        0|1.686477531837774E9|  616239|          11|2017-07-11 00:08:03|\n",
      "|   현직 연극배우입니다 ㅠ 약간 내...| 224378535|   170|   true|cjsa****|     이야기꾼|     20006|        0|1.686454910086685E9|  616239|         525|2015-10-16 14:41:24|\n",
      "|ㅋㅋㅋㅋㅋㅋㅋㅋ처음보는 배우ㅋㅋ...| 224365820|   170|   true|wjdd****|       붕붕붕|     14359|        0|1.686454914047934E9|  616239|         145|2015-10-16 14:30:37|\n",
      "|   이번화를 보면서 저의 어머니가 ...| 224378304|   170|   true|stor****|       이수민|      9273|        0|1.686454916044782E9|  616239|         176|2015-10-16 14:41:07|\n",
      "|  예수가 보일때까지 때린다고 예수...| 224381105|   170|   true|hide****|     hide****|      8201|        0|1.686454918043113E9|  616239|         101|2015-10-16 14:44:44|\n",
      "|   연극 너무 좋아하지만 정말 비매...| 224383875|   170|   true|yuri****|       으컁컁|      4481|        0| 1.68645492092071E9|  616239|          90|2015-10-16 14:49:00|\n",
      "+------------------------------------+----------+------+-------+--------+-------------+----------+---------+-------------------+--------+------------+-------------------+\n",
      "only showing top 20 rows\n",
      "\n"
     ]
    }
   ],
   "source": [
    "# CSV 파일들을 읽어서 DataFrame으로 로드\n",
    "df = spark.read.csv(files, header=True, inferSchema=True)"
   ]
  },
  {
   "cell_type": "code",
   "execution_count": 24,
   "id": "7599c198",
   "metadata": {
    "collapsed": true
   },
   "outputs": [
    {
     "name": "stdout",
     "output_type": "stream",
     "text": [
      "+------------------------------------+----------+------+-------+--------+-------------+----------+---------+-------------------+--------+------------+-------------------+\n",
      "|                             comment|comment_id|epi_no|is_best|login_id|     nickname|recomm_cnt|reply_cnt|          save_date|title_id|unrecomm_cnt|         write_date|\n",
      "+------------------------------------+----------+------+-------+--------+-------------+----------+---------+-------------------+--------+------------+-------------------+\n",
      "|      넌 아직 건너오면 안된다... ...| 327625429|   335|   true|asd5****|케이지 사랑해|     12790|        2|1.686477496450047E9|  616239|          50|2017-07-10 14:17:32|\n",
      "|  그림이랑 개 똑같이 생겼엌ㅋㅋㅋ...| 327623979|   335|   true|urmy****|     오오오오|      8858|        0|1.686477500056887E9|  616239|          55|2017-07-10 14:16:01|\n",
      "|                 사지말고 입양하세요| 327626850|   335|   true|ghn0****|         스디|      7839|        0|1.686477502453198E9|  616239|         126|2017-07-10 14:19:05|\n",
      "|  여러분 이번화 보다가 생각났는데...| 327633194|   335|   true|tell****|       똑똑이|      6585|        3|1.686477505323652E9|  616239|          97|2017-07-10 14:25:34|\n",
      "|    와 진짜 견주로서 눈물 났어요....| 327632868|   335|   true|lshm****|     lshm****|      4812|        0|1.686477507322432E9|  616239|          55|2017-07-10 14:25:13|\n",
      "|   여러분 펫샵에서 파는 새끼 개들...| 327636518|   335|   true|cjfb****|     철없는것|      3351|        0|1.686477509318104E9|  616239|          46|2017-07-10 14:29:48|\n",
      "|  여러분 강아지를 분양하든 입양하...| 327653162|   335|   true|tjsg****|       소서노|      2393|        0|1.686477512235206E9|  616239|          25|2017-07-10 15:20:16|\n",
      "|     아이고 나도 참 주책인듯.. 이...| 327630979|   335|   true|anem****|         요다|      1927|        0|1.686477514232702E9|  616239|          33|2017-07-10 14:23:12|\n",
      "|  반려견은 사랑입니다.애견샵 하시...| 327651262|   335|   true|wjsw****|   asdaasdasf|      1467|        0|1.686477517197316E9|  616239|          15|2017-07-10 15:11:18|\n",
      "|   이전에 멋모르고 아는 펫샵에서 ...| 327650023|   335|   true|hell****|      hellrot|      1290|        0|1.686477519240137E9|  616239|          10|2017-07-10 15:05:54|\n",
      "|   주사를 맞춰서 억지로 교배를 시...| 327657883|   335|   true|len0****|         순열|      1107|        0|1.686477521397867E9|  616239|           9|2017-07-10 15:48:38|\n",
      "|    펫 팩토리, 즉 애견공장은 말이...| 327653499|   335|   true|kyh0****|       권용현|       950|        0| 1.68647752455576E9|  616239|          16|2017-07-10 15:22:03|\n",
      "|   베댓들에 반대 누른 사람들은 강...| 327668838|   335|   true|dahy****|         다혜|       874|        0|1.686477526637508E9|  616239|          19|2017-07-10 21:04:09|\n",
      "|  저희집 강아지를 데려올때 무료분...| 327678924|   335|   true|jun8****|       KKooLz|       794|        0|1.686477529680051E9|  616239|           8|2017-07-11 06:06:21|\n",
      "|    데려온지 2년된 우리집 시츄 수...| 327673635|   335|   true|2sil****|         모리|       634|        0|1.686477531837774E9|  616239|          11|2017-07-11 00:08:03|\n",
      "|   현직 연극배우입니다 ㅠ 약간 내...| 224378535|   170|   true|cjsa****|     이야기꾼|     20006|        0|1.686454910086685E9|  616239|         525|2015-10-16 14:41:24|\n",
      "|ㅋㅋㅋㅋㅋㅋㅋㅋ처음보는 배우ㅋㅋ...| 224365820|   170|   true|wjdd****|       붕붕붕|     14359|        0|1.686454914047934E9|  616239|         145|2015-10-16 14:30:37|\n",
      "|   이번화를 보면서 저의 어머니가 ...| 224378304|   170|   true|stor****|       이수민|      9273|        0|1.686454916044782E9|  616239|         176|2015-10-16 14:41:07|\n",
      "|  예수가 보일때까지 때린다고 예수...| 224381105|   170|   true|hide****|     hide****|      8201|        0|1.686454918043113E9|  616239|         101|2015-10-16 14:44:44|\n",
      "|   연극 너무 좋아하지만 정말 비매...| 224383875|   170|   true|yuri****|       으컁컁|      4481|        0| 1.68645492092071E9|  616239|          90|2015-10-16 14:49:00|\n",
      "+------------------------------------+----------+------+-------+--------+-------------+----------+---------+-------------------+--------+------------+-------------------+\n",
      "only showing top 20 rows\n",
      "\n"
     ]
    }
   ],
   "source": [
    "# DataFrame 확인\n",
    "df.show()"
   ]
  },
  {
   "cell_type": "code",
   "execution_count": 25,
   "id": "69625b34",
   "metadata": {},
   "outputs": [
    {
     "name": "stdout",
     "output_type": "stream",
     "text": [
      "root\n",
      " |-- comment: string (nullable = true)\n",
      " |-- comment_id: integer (nullable = true)\n",
      " |-- epi_no: integer (nullable = true)\n",
      " |-- is_best: boolean (nullable = true)\n",
      " |-- login_id: string (nullable = true)\n",
      " |-- nickname: string (nullable = true)\n",
      " |-- recomm_cnt: integer (nullable = true)\n",
      " |-- reply_cnt: string (nullable = true)\n",
      " |-- save_date: double (nullable = true)\n",
      " |-- title_id: integer (nullable = true)\n",
      " |-- unrecomm_cnt: integer (nullable = true)\n",
      " |-- write_date: timestamp (nullable = true)\n",
      "\n"
     ]
    }
   ],
   "source": [
    "df.printSchema()"
   ]
  },
  {
   "cell_type": "code",
   "execution_count": 26,
   "id": "811fc775",
   "metadata": {},
   "outputs": [
    {
     "name": "stderr",
     "output_type": "stream",
     "text": [
      "[Stage 24:=====================================================>  (18 + 1) / 19]\r"
     ]
    },
    {
     "name": "stdout",
     "output_type": "stream",
     "text": [
      "총 row 개수: 563197\n"
     ]
    },
    {
     "name": "stderr",
     "output_type": "stream",
     "text": [
      "\r",
      "                                                                                \r"
     ]
    }
   ],
   "source": [
    "row_count = df.count()\n",
    "print(\"총 row 개수:\", row_count)"
   ]
  },
  {
   "cell_type": "markdown",
   "id": "355618e9",
   "metadata": {},
   "source": [
    "## 데이터 품질 검사"
   ]
  },
  {
   "cell_type": "markdown",
   "id": "c9225380",
   "metadata": {},
   "source": [
    "### 결측치 검사"
   ]
  },
  {
   "cell_type": "code",
   "execution_count": 45,
   "id": "e0f84643",
   "metadata": {},
   "outputs": [
    {
     "name": "stderr",
     "output_type": "stream",
     "text": [
      "[Stage 51:=====================================================>  (18 + 1) / 19]\r"
     ]
    },
    {
     "name": "stdout",
     "output_type": "stream",
     "text": [
      "+-------+----------+------+-------+--------+--------+----------+---------+---------+--------+------------+----------+\n",
      "|comment|comment_id|epi_no|is_best|login_id|nickname|recomm_cnt|reply_cnt|save_date|title_id|unrecomm_cnt|write_date|\n",
      "+-------+----------+------+-------+--------+--------+----------+---------+---------+--------+------------+----------+\n",
      "|      0|         0|     0|      0|       0|       0|         0|        0|        0|       0|           0|         0|\n",
      "+-------+----------+------+-------+--------+--------+----------+---------+---------+--------+------------+----------+\n",
      "\n"
     ]
    },
    {
     "name": "stderr",
     "output_type": "stream",
     "text": [
      "\r",
      "                                                                                \r"
     ]
    }
   ],
   "source": [
    "from pyspark.sql.functions import isnan, when, count, col, isnull\n",
    "\n",
    "df.select([count(when(isnull(c), c)).alias(c) for c in df.columns]).show()"
   ]
  },
  {
   "cell_type": "code",
   "execution_count": null,
   "id": "f2f16f5d",
   "metadata": {},
   "outputs": [],
   "source": []
  },
  {
   "cell_type": "code",
   "execution_count": null,
   "id": "981a7b9a",
   "metadata": {},
   "outputs": [],
   "source": []
  },
  {
   "cell_type": "markdown",
   "id": "19450c59",
   "metadata": {},
   "source": [
    "# 1. ✅ 분석: 답글(unrecomm_cnt) 수"
   ]
  },
  {
   "cell_type": "markdown",
   "id": "52475bd8",
   "metadata": {},
   "source": [
    "## 데이터 검사"
   ]
  },
  {
   "cell_type": "code",
   "execution_count": 27,
   "id": "bacb7371",
   "metadata": {},
   "outputs": [],
   "source": [
    "from pyspark.sql.functions import desc\n",
    "\n",
    "result = df.groupBy('reply_cnt').count().orderBy(desc('reply_cnt'))"
   ]
  },
  {
   "cell_type": "code",
   "execution_count": 28,
   "id": "e1cc7067",
   "metadata": {},
   "outputs": [
    {
     "name": "stderr",
     "output_type": "stream",
     "text": [
      "[Stage 27:=====================================================>  (18 + 1) / 19]\r"
     ]
    },
    {
     "name": "stdout",
     "output_type": "stream",
     "text": [
      "+---------+-----+\n",
      "|reply_cnt|count|\n",
      "+---------+-----+\n",
      "|     999+|   10|\n",
      "|      997|    1|\n",
      "|       99|   25|\n",
      "|       98|   45|\n",
      "|       97|   48|\n",
      "|       96|   71|\n",
      "|       95|   67|\n",
      "|       94|   67|\n",
      "|      935|    1|\n",
      "|       93|   62|\n",
      "|       92|   61|\n",
      "|      915|    1|\n",
      "|       91|   82|\n",
      "|       90|   67|\n",
      "|        9|10874|\n",
      "|       89|   66|\n",
      "|      882|    1|\n",
      "|       88|   83|\n",
      "|      878|    1|\n",
      "|       87|   78|\n",
      "+---------+-----+\n",
      "only showing top 20 rows\n",
      "\n"
     ]
    },
    {
     "name": "stderr",
     "output_type": "stream",
     "text": [
      "\r",
      "                                                                                \r"
     ]
    }
   ],
   "source": [
    "result.show()"
   ]
  },
  {
   "cell_type": "markdown",
   "id": "7f39e20b",
   "metadata": {},
   "source": [
    "##### 문제 : 999+가 있다\n",
    "==> 평균, 중앙값이 의미가 없어짐"
   ]
  },
  {
   "cell_type": "markdown",
   "id": "982f1dc3",
   "metadata": {},
   "source": [
    "#### 답글 수가 '999+' row 모두 (10개 출력하기)"
   ]
  },
  {
   "cell_type": "code",
   "execution_count": 35,
   "id": "1ba2e84a",
   "metadata": {},
   "outputs": [
    {
     "name": "stderr",
     "output_type": "stream",
     "text": [
      "[Stage 41:====================================================>   (13 + 1) / 14]\r"
     ]
    },
    {
     "name": "stdout",
     "output_type": "stream",
     "text": [
      "+----------------------------------+----------+------+-------+--------+-------------+----------+---------+-------------------+--------+------------+-------------------+\n",
      "|                           comment|comment_id|epi_no|is_best|login_id|     nickname|recomm_cnt|reply_cnt|          save_date|title_id|unrecomm_cnt|         write_date|\n",
      "+----------------------------------+----------+------+-------+--------+-------------+----------+---------+-------------------+--------+------------+-------------------+\n",
      "| 베댓되면 재입대함 ㅋㅋㅋ 차피 ...| 431614938|   391|   true|ddol****|         똘이|     30492|     999+|1.686220511149621E9|  570503|        6354|2022-01-12 14:01:39|\n",
      "|     여기까지 지르신분 손! (1/1...| 435204933|   384|   true|sihu****|          sih|     16073|     999+|1.686333772584826E9|  602910|         135|2022-03-13 13:18:10|\n",
      "|  찬양파는 시끄럽게 손을들어주세요| 428963723|   298|   true|alfk****|     alfk****|     84434|     999+|1.686592488559024E9|  654774|         149|2021-11-28 13:59:00|\n",
      "|정보) 몇년도 9월이라 하지는 않았다| 417651272|   192|   true|coa0****|         콜라|     20418|     999+|1.684340863863163E9|  701535|         318|2021-06-15 14:26:16|\n",
      "|     이 재밌는걸 2022년에 본 당...| 429892138|    87|   true|nyeo****|          nye|     34700|     999+|1.684890520765397E9|  747269|        1754|2021-12-14 13:57:06|\n",
      "|                    완결 금지 투표| 430145047|   134|   true|dave****|          dav|     20114|     999+|1.685256144839245E9|  730657|          47|2021-12-18 14:34:41|\n",
      "|         sci-hub.se 막힌거 거의...| 436401345|    16|   true|0208****|   대학원멈춰|      3914|     999+|1.685682211243654E9|  790713|           6|2022-04-04 16:06:59|\n",
      "|   중간에 ✋ 장면 타이타닉 영화 ...| 444388653|    37|   true|0209****|멋쩍은 데이트|      9785|     999+|1.685139405550725E9|  790245|          37|2022-09-15 13:53:06|\n",
      "|복권 당첨되게 해주세요그럼 좋아...| 449538878|    48|   true|03******|     비와당신|     14360|     999+|1.685098581942583E9|  792651|         596|2023-01-14 02:13:07|\n",
      "|       베댓돼면 나도 노트북 돌린다| 447711843|    21|   true|dldn****|     dldn****|      7379|     999+|1.684413719258683E9|  800770|         336|2022-11-30 14:01:55|\n",
      "+----------------------------------+----------+------+-------+--------+-------------+----------+---------+-------------------+--------+------------+-------------------+\n",
      "\n"
     ]
    },
    {
     "name": "stderr",
     "output_type": "stream",
     "text": [
      "\r",
      "                                                                                \r"
     ]
    }
   ],
   "source": [
    "# 'reply_cntr'가 '999+'인 row만 필터링\n",
    "filtered_result = df.filter(df.reply_cnt == '999+')\n",
    "\n",
    "# 결과 출력\n",
    "filtered_result.show()"
   ]
  },
  {
   "cell_type": "markdown",
   "id": "0223b48b",
   "metadata": {},
   "source": [
    " #### 사전 작업"
   ]
  },
  {
   "cell_type": "code",
   "execution_count": 18,
   "id": "551e25e2",
   "metadata": {},
   "outputs": [],
   "source": [
    "# from pyspark.sql.functions import col, avg, expr, desc\n",
    "     \n",
    "# df = df.withColumn(\"reply_cnt\", col(\"reply_cnt\").cast(\"integer\"))"
   ]
  },
  {
   "cell_type": "markdown",
   "id": "e2f9cd39",
   "metadata": {},
   "source": [
    "## 1. 답글 수의 평균/중간값 => 삭제"
   ]
  },
  {
   "cell_type": "markdown",
   "id": "437965c9",
   "metadata": {},
   "source": [
    "### 1) 전체 답글 수의 평균/중간값"
   ]
  },
  {
   "cell_type": "markdown",
   "id": "3e5b6227",
   "metadata": {},
   "source": [
    "#### 평균"
   ]
  },
  {
   "cell_type": "code",
   "execution_count": 115,
   "id": "f8268f47",
   "metadata": {},
   "outputs": [],
   "source": [
    "# avg_reply_cnt = df.select(\n",
    "#     avg(\"reply_cnt\").alias(\"avg_reply_cnt\")\n",
    "# ).selectExpr(\n",
    "#     \"avg_reply_cnt\"\n",
    "# )"
   ]
  },
  {
   "cell_type": "code",
   "execution_count": 116,
   "id": "f1809d3a",
   "metadata": {},
   "outputs": [],
   "source": [
    "# avg_reply_cnt.show()"
   ]
  },
  {
   "cell_type": "markdown",
   "id": "0c3e29bc",
   "metadata": {},
   "source": [
    "#### 중간값"
   ]
  },
  {
   "cell_type": "code",
   "execution_count": 117,
   "id": "f9d76ac3",
   "metadata": {},
   "outputs": [],
   "source": [
    "# from pyspark.sql.functions import expr\n",
    "\n",
    "# # 'reply_cnt'을 기준으로 데이터프레임을 정렬\n",
    "# sorted_df = df.orderBy(\"reply_cnt\")\n",
    "\n",
    "# # 중간 위치의 값을 계산\n",
    "# n = sorted_df.count()\n",
    "# middle_index = (n - 1) // 2\n",
    "\n",
    "# # 중간 위치의 값을 가져옴\n",
    "# median_reply_cnt = sorted_df.select(\"reply_cnt\").limit(1).offset(middle_index).first()[0]\n",
    "\n",
    "# # 결과 출력\n",
    "# print(\"중간값:\", median_reply_cnt)"
   ]
  },
  {
   "cell_type": "markdown",
   "id": "68c19b85",
   "metadata": {},
   "source": [
    "###  2) 답글 수의 평균이 높은 웹툰 Top10"
   ]
  },
  {
   "cell_type": "code",
   "execution_count": 118,
   "id": "27d7e896",
   "metadata": {},
   "outputs": [],
   "source": [
    "# top10_reply_by_toon= df.groupBy(\"title_id\").agg(\n",
    "#                             avg(\"reply_cnt\").alias(\"avg_reply_cnt\")\n",
    "#                         ).orderBy(desc(\"avg_reply_cnt\")) \\\n",
    "#                         .limit(10)\n",
    "     "
   ]
  },
  {
   "cell_type": "code",
   "execution_count": 119,
   "id": "f6a86a42",
   "metadata": {},
   "outputs": [],
   "source": [
    "# top10_reply_by_toon.show()"
   ]
  },
  {
   "cell_type": "markdown",
   "id": "491f1bee",
   "metadata": {},
   "source": [
    "# 2. ✅ 분석: '댓글'의 좋아요/싫어요 수"
   ]
  },
  {
   "cell_type": "markdown",
   "id": "2927a783",
   "metadata": {},
   "source": [
    "## 데이터 검사"
   ]
  },
  {
   "cell_type": "markdown",
   "id": "6b5051e5",
   "metadata": {},
   "source": [
    "> 댓글 좋아요/싫어요 수에 따른 집계와 카운트"
   ]
  },
  {
   "cell_type": "code",
   "execution_count": 46,
   "id": "f86a687c",
   "metadata": {},
   "outputs": [],
   "source": [
    "from pyspark.sql.functions import desc\n",
    "\n",
    "recomm_df = df.groupBy('recomm_cnt').count().orderBy(desc('recomm_cnt'))\n",
    "unrecomm_df = df.groupBy('unrecomm_cnt').count().orderBy(desc('unrecomm_cnt'))"
   ]
  },
  {
   "cell_type": "code",
   "execution_count": 47,
   "id": "0b862b6d",
   "metadata": {},
   "outputs": [
    {
     "name": "stderr",
     "output_type": "stream",
     "text": [
      "[Stage 54:==================================================>     (17 + 2) / 19]\r"
     ]
    },
    {
     "name": "stdout",
     "output_type": "stream",
     "text": [
      "+----------+-----+\n",
      "|recomm_cnt|count|\n",
      "+----------+-----+\n",
      "|    359592|    1|\n",
      "|    355467|    1|\n",
      "|    266166|    1|\n",
      "|    255071|    1|\n",
      "|    251580|    1|\n",
      "|    248670|    1|\n",
      "|    246699|    1|\n",
      "|    246316|    1|\n",
      "|    243911|    1|\n",
      "|    234963|    1|\n",
      "|    234250|    1|\n",
      "|    228812|    1|\n",
      "|    224747|    1|\n",
      "|    223687|    1|\n",
      "|    223413|    1|\n",
      "|    221281|    1|\n",
      "|    219820|    1|\n",
      "|    216406|    1|\n",
      "|    215100|    1|\n",
      "|    214994|    1|\n",
      "+----------+-----+\n",
      "only showing top 20 rows\n",
      "\n"
     ]
    },
    {
     "name": "stderr",
     "output_type": "stream",
     "text": [
      "\r",
      "[Stage 56:>                                                         (0 + 1) / 1]\r",
      "\r",
      "                                                                                \r"
     ]
    }
   ],
   "source": [
    "recomm_df.show()"
   ]
  },
  {
   "cell_type": "code",
   "execution_count": 48,
   "id": "c202eab2",
   "metadata": {},
   "outputs": [
    {
     "name": "stderr",
     "output_type": "stream",
     "text": [
      "[Stage 57:=====================================================>  (18 + 1) / 19]\r"
     ]
    },
    {
     "name": "stdout",
     "output_type": "stream",
     "text": [
      "+------------+-----+\n",
      "|unrecomm_cnt|count|\n",
      "+------------+-----+\n",
      "|       28473|    1|\n",
      "|       26629|    1|\n",
      "|       26368|    1|\n",
      "|       25472|    1|\n",
      "|       23427|    1|\n",
      "|       22134|    1|\n",
      "|       21094|    1|\n",
      "|       20904|    1|\n",
      "|       20549|    1|\n",
      "|       19620|    1|\n",
      "|       18914|    1|\n",
      "|       18719|    1|\n",
      "|       18510|    1|\n",
      "|       18411|    1|\n",
      "|       18260|    1|\n",
      "|       17921|    1|\n",
      "|       17768|    1|\n",
      "|       17688|    1|\n",
      "|       17528|    1|\n",
      "|       17474|    1|\n",
      "+------------+-----+\n",
      "only showing top 20 rows\n",
      "\n"
     ]
    },
    {
     "name": "stderr",
     "output_type": "stream",
     "text": [
      "\r",
      "                                                                                \r"
     ]
    }
   ],
   "source": [
    "unrecomm_df.show()"
   ]
  },
  {
   "cell_type": "markdown",
   "id": "7f9f2700",
   "metadata": {},
   "source": [
    "### 사전 작업 (cast)"
   ]
  },
  {
   "cell_type": "markdown",
   "id": "70319e1d",
   "metadata": {},
   "source": [
    " > 모든 칼럼이 integer 형인지 확인하고 cast연산 진행함"
   ]
  },
  {
   "cell_type": "code",
   "execution_count": 49,
   "id": "3d18735a",
   "metadata": {},
   "outputs": [
    {
     "name": "stderr",
     "output_type": "stream",
     "text": [
      "[Stage 60:=====================================================>  (18 + 1) / 19]\r"
     ]
    },
    {
     "name": "stdout",
     "output_type": "stream",
     "text": [
      "recomm_cnt 칼럼은 모두 integer입니다.\n"
     ]
    },
    {
     "name": "stderr",
     "output_type": "stream",
     "text": [
      "\r",
      "                                                                                \r"
     ]
    }
   ],
   "source": [
    "from pyspark.sql.functions import col\n",
    "\n",
    "# 'recomm_cnt' 칼럼이 모두 integer인지 확인\n",
    "all_integer_recomm = df.select(col(\"recomm_cnt\").cast(\"string\").rlike(\"^[0-9]+$\").alias(\"is_integer\")).agg({\"is_integer\": \"min\"}).collect()[0][0]\n",
    "\n",
    "# 결과 출력\n",
    "if all_integer_recomm:\n",
    "    print(\"recomm_cnt 칼럼은 모두 integer입니다.\")\n",
    "else:\n",
    "    print(\"recomm_cnt 칼럼에 integer가 아닌 값이 포함되어 있습니다.\")"
   ]
  },
  {
   "cell_type": "code",
   "execution_count": 50,
   "id": "53944a93",
   "metadata": {},
   "outputs": [
    {
     "name": "stderr",
     "output_type": "stream",
     "text": [
      "[Stage 63:=====================================================>  (18 + 1) / 19]\r"
     ]
    },
    {
     "name": "stdout",
     "output_type": "stream",
     "text": [
      "unrecomm_cnt 칼럼은 모두 integer입니다.\n"
     ]
    },
    {
     "name": "stderr",
     "output_type": "stream",
     "text": [
      "\r",
      "                                                                                \r"
     ]
    }
   ],
   "source": [
    "from pyspark.sql.functions import col\n",
    "\n",
    "# 'unrecomm_cnt' 칼럼이 모두 integer인지 확인\n",
    "all_integer_unrecomm = df.select(col(\"unrecomm_cnt\").cast(\"string\").rlike(\"^[0-9]+$\").alias(\"is_integer\")).agg({\"is_integer\": \"min\"}).collect()[0][0]\n",
    "\n",
    "# 결과 출력\n",
    "if all_integer_unrecomm:\n",
    "    print(\"unrecomm_cnt 칼럼은 모두 integer입니다.\")\n",
    "else:\n",
    "    print(\"unrecomm_cnt 칼럼에 integer가 아닌 값이 포함되어 있습니다.\")"
   ]
  },
  {
   "cell_type": "markdown",
   "id": "19bfa3b1",
   "metadata": {},
   "source": [
    " > cast 연산 진행 "
   ]
  },
  {
   "cell_type": "code",
   "execution_count": 51,
   "id": "6ac951d0",
   "metadata": {},
   "outputs": [],
   "source": [
    "df = df.withColumn(\"recomm_cnt\", col(\"recomm_cnt\").cast(\"integer\"))\n",
    "df = df.withColumn(\"unrecomm_cnt\", col(\"unrecomm_cnt\").cast(\"integer\"))"
   ]
  },
  {
   "cell_type": "markdown",
   "id": "041ed2e7",
   "metadata": {},
   "source": [
    "## 1) 좋아요/싫어요 수 Top 10"
   ]
  },
  {
   "cell_type": "code",
   "execution_count": 52,
   "id": "5cadd8c2",
   "metadata": {},
   "outputs": [],
   "source": [
    "top_10_recomm = df.orderBy(col(\"recomm_cnt\").desc()).limit(10)\n",
    "top_10_unrecomm = df.orderBy(col(\"unrecomm_cnt\").desc()).limit(10)"
   ]
  },
  {
   "cell_type": "code",
   "execution_count": 53,
   "id": "e1c86202",
   "metadata": {},
   "outputs": [
    {
     "name": "stderr",
     "output_type": "stream",
     "text": [
      "                                                                                \r"
     ]
    },
    {
     "name": "stdout",
     "output_type": "stream",
     "text": [
      "+----------------------------------+----------+------+-------+--------+--------+----------+---------+-------------------+--------+------------+-------------------+\n",
      "|                           comment|comment_id|epi_no|is_best|login_id|nickname|recomm_cnt|reply_cnt|          save_date|title_id|unrecomm_cnt|         write_date|\n",
      "+----------------------------------+----------+------+-------+--------+--------+----------+---------+-------------------+--------+------------+-------------------+\n",
      "|                           귀여워♡| 233835400|    62|   true|jayo****|  아리엘|    359592|       24|1.684985739476716E9|  641253|        8440|2016-01-21 14:19:43|\n",
      "|       좋아요 2번 누르면 모양 바뀜| 338536170|   204|   true|bowl****|  김승언|    355467|       56|1.686201781727034E9|  570503|       25472|2017-12-27 14:28:17|\n",
      "|                모두 외쳐라 경우갓| 323789708|   172|   true|qkra****|      AA|    266166|      158|1.686198701711273E9|  570503|        1476|2017-05-17 14:15:37|\n",
      "|재열이 이거 게이끼 슬슬 의심해야댐| 223508780|    47|   true|mat0****|mat0****|    255071|      105|1.684984346965904E9|  641253|        4711|2015-10-08 14:17:47|\n",
      "|      ㅋㅋㅋㅋㅋㅋㅋㅋ아재열이졸귀| 203076759|    20|   true|yls3****|    이슬|    251580|       41|1.684981692253473E9|  641253|         983|2015-04-02 14:07:56|\n",
      "|  대건의 호감도가 극상승하였습니다| 192038235|    67|   true|topa****|     박g|    248670|       19|1.686188439809596E9|  570503|        2294|2015-01-07 14:24:55|\n",
      "|찍먹파들은 조용히 좋아요을 찍도록.| 209661007|    87|   true|syup****|syup****|    246699|       70|1.686190439263785E9|  570503|       26368|2015-06-03 14:28:56|\n",
      "|솔직히공주영더정색하길바랬던사람손| 157151404|    28|   true|dp0d****|  디피플|    246316|       61| 1.68618466204926E9|  570503|        7724|2014-03-12 14:28:07|\n",
      "|    아 미친 진짜 사귈줄 몰랐던 1인| 216337665|    96|   true|song****|  김수현|    243911|       96| 1.68619130031071E9|  570503|        1425|2015-08-05 14:30:28|\n",
      "|            드디어 속이후련하네...| 156195933|    27|   true|mica****|  아티카|    234963|       28|1.686184560876645E9|  570503|        5038|2014-03-05 14:22:41|\n",
      "+----------------------------------+----------+------+-------+--------+--------+----------+---------+-------------------+--------+------------+-------------------+\n",
      "\n"
     ]
    }
   ],
   "source": [
    "top_10_recomm.show()"
   ]
  },
  {
   "cell_type": "code",
   "execution_count": 54,
   "id": "9808c9e8",
   "metadata": {},
   "outputs": [
    {
     "name": "stderr",
     "output_type": "stream",
     "text": [
      "[Stage 67:=====================================================>  (18 + 1) / 19]\r"
     ]
    },
    {
     "name": "stdout",
     "output_type": "stream",
     "text": [
      "+----------------------------------+----------+------+-------+--------+-----------+----------+---------+-------------------+--------+------------+-------------------+\n",
      "|                           comment|comment_id|epi_no|is_best|login_id|   nickname|recomm_cnt|reply_cnt|          save_date|title_id|unrecomm_cnt|         write_date|\n",
      "+----------------------------------+----------+------+-------+--------+-----------+----------+---------+-------------------+--------+------------+-------------------+\n",
      "| 요새 박태준 작가님 만화 볼때면...| 329351085|   142|   true|dare****|   dare****|    138013|      144|1.684993771860395E9|  641253|       28473|2017-08-03 14:12:35|\n",
      "| 경우 빨리 헤어지는거 찬성하는 ...| 217351120|    97|   true|namy****|게으른 연수|    221281|      138|1.686191405600801E9|  570503|       26629|2015-08-12 14:25:41|\n",
      "|찍먹파들은 조용히 좋아요을 찍도록.| 209661007|    87|   true|syup****|   syup****|    246699|       70|1.686190439263785E9|  570503|       26368|2015-06-03 14:28:56|\n",
      "|       좋아요 2번 누르면 모양 바뀜| 338536170|   204|   true|bowl****|     김승언|    355467|       56|1.686201781727034E9|  570503|       25472|2017-12-27 14:28:17|\n",
      "|재결합 ㄱㄴ 좋아요재결합 ㅂㄱㄴ...| 405754681|   337|   true|kiky****|   kiky****|    134330|       41|1.686215080652481E9|  570503|       23427|2020-12-23 14:26:50|\n",
      "|  솔직히 방예슬이 왜 욕먹냐 쟨 ...| 217364355|    97|   true|taew****|        woo|    190182|       32|1.686191407380968E9|  570503|       22134|2015-08-12 14:33:54|\n",
      "| 사람이 취향에 안 맞으면 안만나...| 331067811|   145|   true|drea****|    Dreamer|    119662|      193|1.684994098220074E9|  641253|       21094|2017-08-24 14:09:57|\n",
      "| 저 여자가 잘못한거고 벌 받아야...| 308524553|   106|   true|pass****|       인인|    102472|       79|1.684990056668876E9|  641253|       20904|2016-11-24 14:07:46|\n",
      "|왜 손톱으로 좋아요누르면 안눌러...| 143207340|     8|   true|wkek****|   wkek****|    155241|       23|1.685722801523111E9|  597447|       20549|2013-12-21 03:12:12|\n",
      "|     좋아요두번누르면 따봉모양바뀜| 323789773|   172|   true|dbsl****|       빙봉|    189116|       12|1.686198706223116E9|  570503|       19620|2017-05-17 14:15:41|\n",
      "+----------------------------------+----------+------+-------+--------+-----------+----------+---------+-------------------+--------+------------+-------------------+\n",
      "\n"
     ]
    },
    {
     "name": "stderr",
     "output_type": "stream",
     "text": [
      "\r",
      "                                                                                \r"
     ]
    }
   ],
   "source": [
    "top_10_unrecomm.show()"
   ]
  },
  {
   "cell_type": "markdown",
   "id": "0be01478",
   "metadata": {},
   "source": [
    "## 1) 좋아요/싫어요 수 평균"
   ]
  },
  {
   "cell_type": "code",
   "execution_count": 56,
   "id": "46819e24",
   "metadata": {},
   "outputs": [],
   "source": [
    "avg_recomm_cnt = df.select(\n",
    "    avg(\"recomm_cnt\").alias(\"avg_recomm_cnt\")\n",
    ").selectExpr(\n",
    "    \"avg_recomm_cnt\"\n",
    ")\n",
    "\n",
    "avg_unrecomm_cnt = df.select(\n",
    "    avg(\"unrecomm_cnt\").alias(\"avg_unrecomm_cnt\")\n",
    ").selectExpr(\n",
    "    \"avg_unrecomm_cnt\"\n",
    ")"
   ]
  },
  {
   "cell_type": "code",
   "execution_count": 57,
   "id": "2b1d11d2",
   "metadata": {},
   "outputs": [
    {
     "name": "stderr",
     "output_type": "stream",
     "text": [
      "[Stage 68:=====================================================>  (18 + 1) / 19]\r"
     ]
    },
    {
     "name": "stdout",
     "output_type": "stream",
     "text": [
      "+-----------------+\n",
      "|   avg_recomm_cnt|\n",
      "+-----------------+\n",
      "|4281.791833053088|\n",
      "+-----------------+\n",
      "\n"
     ]
    },
    {
     "name": "stderr",
     "output_type": "stream",
     "text": [
      "\r",
      "                                                                                \r"
     ]
    }
   ],
   "source": [
    "avg_recomm_cnt.show()"
   ]
  },
  {
   "cell_type": "code",
   "execution_count": 58,
   "id": "5539b62c",
   "metadata": {},
   "outputs": [
    {
     "name": "stderr",
     "output_type": "stream",
     "text": [
      "[Stage 71:=====================================================>  (18 + 1) / 19]\r"
     ]
    },
    {
     "name": "stdout",
     "output_type": "stream",
     "text": [
      "+-----------------+\n",
      "| avg_unrecomm_cnt|\n",
      "+-----------------+\n",
      "|73.53287570778964|\n",
      "+-----------------+\n",
      "\n"
     ]
    },
    {
     "name": "stderr",
     "output_type": "stream",
     "text": [
      "\r",
      "                                                                                \r"
     ]
    }
   ],
   "source": [
    "avg_unrecomm_cnt.show()"
   ]
  },
  {
   "cell_type": "markdown",
   "id": "362c37c5",
   "metadata": {},
   "source": [
    "## 2) 좋아요/싫어요 수의 평균이 높은 웹툰 Top10"
   ]
  },
  {
   "cell_type": "code",
   "execution_count": 59,
   "id": "2a9ccec0",
   "metadata": {},
   "outputs": [],
   "source": [
    "top10_recomm_by_toon= df.groupBy(\"title_id\").agg(\n",
    "                            avg(\"recomm_cnt\").alias(\"avg_recomm_cnt\")\n",
    "                        ).orderBy(desc(\"avg_recomm_cnt\")) \\\n",
    "                        .limit(10)\n",
    "\n",
    "top10_unrecomm_by_toon= df.groupBy(\"title_id\").agg(\n",
    "                            avg(\"unrecomm_cnt\").alias(\"avg_unrecomm_cnt\")\n",
    "                        ).orderBy(desc(\"avg_unrecomm_cnt\")) \\\n",
    "                        .limit(10)"
   ]
  },
  {
   "cell_type": "code",
   "execution_count": 60,
   "id": "6cf07e69",
   "metadata": {},
   "outputs": [
    {
     "name": "stderr",
     "output_type": "stream",
     "text": [
      "[Stage 74:=====================================================>  (18 + 1) / 19]\r"
     ]
    },
    {
     "name": "stdout",
     "output_type": "stream",
     "text": [
      "+--------+------------------+\n",
      "|title_id|    avg_recomm_cnt|\n",
      "+--------+------------------+\n",
      "|  570503|32024.725303030304|\n",
      "|  641253|23554.643445692884|\n",
      "|  654774|19117.803224624404|\n",
      "|  703846| 17314.54865900383|\n",
      "|  738487| 16173.73950617284|\n",
      "|  735661| 15402.57932446264|\n",
      "|  597447|14628.861843932242|\n",
      "|  183559| 13753.60058685446|\n",
      "|  761722|13734.302970297029|\n",
      "|  796152|13533.060453400503|\n",
      "+--------+------------------+\n",
      "\n"
     ]
    },
    {
     "name": "stderr",
     "output_type": "stream",
     "text": [
      "\r",
      "                                                                                \r"
     ]
    }
   ],
   "source": [
    "top10_recomm_by_toon.show()"
   ]
  },
  {
   "cell_type": "code",
   "execution_count": 61,
   "id": "05a6087e",
   "metadata": {},
   "outputs": [
    {
     "name": "stderr",
     "output_type": "stream",
     "text": [
      "[Stage 77:=====================================================>  (18 + 1) / 19]\r"
     ]
    },
    {
     "name": "stdout",
     "output_type": "stream",
     "text": [
      "+--------+------------------+\n",
      "|title_id|  avg_unrecomm_cnt|\n",
      "+--------+------------------+\n",
      "|  570503| 853.3406060606061|\n",
      "|  641253| 727.1459176029963|\n",
      "|  703846| 524.3412515964241|\n",
      "|  597447|  458.673701749514|\n",
      "|  183559| 395.6681924882629|\n",
      "|  648419|304.67463203463205|\n",
      "|  654774|246.05844631733237|\n",
      "|  602910|229.19415316174135|\n",
      "|  736277|203.65136612021857|\n",
      "|  552960| 179.0732075471698|\n",
      "+--------+------------------+\n",
      "\n"
     ]
    },
    {
     "name": "stderr",
     "output_type": "stream",
     "text": [
      "\r",
      "                                                                                \r"
     ]
    }
   ],
   "source": [
    "top10_unrecomm_by_toon.show()"
   ]
  },
  {
   "cell_type": "markdown",
   "id": "3a7255c9",
   "metadata": {},
   "source": [
    "# ️3. ✅ 분석: 댓글의 길이"
   ]
  },
  {
   "cell_type": "markdown",
   "id": "ace0d139",
   "metadata": {},
   "source": [
    "## 0. 전체 댓글의 길이의 평균"
   ]
  },
  {
   "cell_type": "code",
   "execution_count": 62,
   "id": "fc42f3f4",
   "metadata": {},
   "outputs": [],
   "source": [
    "from pyspark.sql.functions import avg, length\n",
    "\n",
    "avg_comment_length = df.select(avg(length(\"comment\")).alias(\"avg_comment_length\"))"
   ]
  },
  {
   "cell_type": "code",
   "execution_count": 63,
   "id": "69edc933",
   "metadata": {},
   "outputs": [
    {
     "name": "stderr",
     "output_type": "stream",
     "text": [
      "[Stage 80:=====================================================>  (18 + 1) / 19]\r"
     ]
    },
    {
     "name": "stdout",
     "output_type": "stream",
     "text": [
      "+------------------+\n",
      "|avg_comment_length|\n",
      "+------------------+\n",
      "|58.274910910391924|\n",
      "+------------------+\n",
      "\n"
     ]
    },
    {
     "name": "stderr",
     "output_type": "stream",
     "text": [
      "\r",
      "                                                                                \r"
     ]
    }
   ],
   "source": [
    "avg_comment_length.show()"
   ]
  },
  {
   "cell_type": "markdown",
   "id": "01669d6f",
   "metadata": {},
   "source": [
    "## 1. 가장 짧은 댓글 or 가장 긴 댓글 "
   ]
  },
  {
   "cell_type": "code",
   "execution_count": 68,
   "id": "63ca07da",
   "metadata": {},
   "outputs": [],
   "source": [
    "desc_comm_len = df.orderBy(length(col(\"comment\")).desc()).limit(10)\n",
    "asc_comm_len = df.orderBy(length(col(\"comment\")).asc()).limit(10)"
   ]
  },
  {
   "cell_type": "code",
   "execution_count": 71,
   "id": "248be635",
   "metadata": {},
   "outputs": [
    {
     "name": "stderr",
     "output_type": "stream",
     "text": [
      "[Stage 91:=====================================================>  (18 + 1) / 19]\r"
     ]
    },
    {
     "name": "stdout",
     "output_type": "stream",
     "text": [
      "+----------------------------------------------------------------------------------------------------------------------------------------------------------------------------------------------------------------------------------------------------------------------------------------------------------------------------------------------------------------------------------------------------------------------------------------------------------------------------------------------------------------------------------------------------------------------------------------------------------------------------------------------------------------------------------------------------------------------------------------------------------------------------------------------------------------------------------------------------------------------------------------------------------------------------------------------------------------------------------------------------------------------------------------+----------+------+-------+--------+------------------+----------+---------+-------------------+--------+------------+-------------------+\n",
      "|comment                                                                                                                                                                                                                                                                                                                                                                                                                                                                                                                                                                                                                                                                                                                                                                                                                                                                                                                                                                                                                                 |comment_id|epi_no|is_best|login_id|nickname          |recomm_cnt|reply_cnt|save_date          |title_id|unrecomm_cnt|write_date         |\n",
      "+----------------------------------------------------------------------------------------------------------------------------------------------------------------------------------------------------------------------------------------------------------------------------------------------------------------------------------------------------------------------------------------------------------------------------------------------------------------------------------------------------------------------------------------------------------------------------------------------------------------------------------------------------------------------------------------------------------------------------------------------------------------------------------------------------------------------------------------------------------------------------------------------------------------------------------------------------------------------------------------------------------------------------------------+----------+------+-------+--------+------------------+----------+---------+-------------------+--------+------------+-------------------+\n",
      "|아니 150화 접어들면서 느낀건데 스토리 진전이 없어 지금 쿠키 계속 지르면서 봤는데 이번 화는 나름 종화의 성장과 세라캐리로 재밌게 보긴 했지만...그래서 정작 핵심은? 작가님. 지금 독자들 여론대로 몇주 휴식하더라도 스토리 한번 제대로 다시 짜고 오시는게 맞는것 같습니다. 베댓은 아니지만 제가 꾸준히 댓글에서 언급했듯이, 지금 이 웹툰은 성아 몰락 이후로 하민이 리라 이 두 사람이 이끌어간다해도 과언이 아닌데, 유리는 145화 준우 흑화 이후로 비중줄어들고, 남은건 하민이 뿐인데 설마 하민이마저 떠나는 막장스토리로 진행하실 생각은 아니시죠? 최근화들에서 하민이 반응도 애매하고 감정, 애정표현, 독백, 생각 이런건 아예 찾아볼 수도 없고 쓸데없는 리라와의 질투만 보여주는데. 이대로 가다가는 스토리는 고사하고 결말이 OOO날 것 같습니다. 제발 스토리 다시 정비하시고 하민이 과거, 시점 빨리 알려주세요. 하민이 덕에 이 웹툰 지금까지 봐왔던 애독자로서 부탁드립니다 작가님 꼭 읽어주세요                                                                                                                                             |404138819 |161   |true   |ihye****|이현진            |1092      |0        |1.68611806365417E9 |702608  |78          |2020-11-30 15:08:54|\n",
      "|ㅋㅋㅋㅋㅋㅋㅋㅋㅋㅋㅋㅋㅋㅋㅋㅋㅋㅋㅋㅋㅋㅋㅋㅋㅋㅋㅋㅋㅋㅋㅋㅋㅋㅋㅋㅋㅋㅋㅋㅋㅋㅋㅋㅋㅋㅋㅋㅋㅋㅋㅋㅋㅋㅋㅋㅋㅋㅋㅋㅋㅋㅋㅋㅋㅋㅋㅋㅋㅋㅋㅋㅋㅋㅋㅋㅋㅋㅋㅋㅋㅋㅋㅋㅋㅋㅋㅋㅋㅋㅋㅋㅋㅋㅋㅋㅋㅋㅋㅋㅋㅋㅋㅋㅋㅋㅋㅋㅋㅋㅋㅋㅋㅋㅋㅋㅋㅋㅋㅋㅋㅋㅋㅋㅋㅋㅋㅋㅋㅋㅋㅋㅋㅋㅋㅋㅋㅋㅋㅋㅋㅋㅋㅋㅋㅋㅋㅋㅋㅋㅋㅋㅋㅋㅋㅋㅋㅋㅋㅋㅋㅋㅋㅋㅋㅋㅋㅋㅋㅋㅋㅋㅋㅋㅋㅋㅋㅋㅋㅋㅋㅋㅋㅋㅋㅋㅋㅋㅋㅋㅋㅋㅋㅋㅋㅋㅋㅋㅋㅋㅋㅋㅋㅋㅋㅋㅋㅋㅋㅋㅋㅋㅋㅋㅋㅋㅋㅋㅋㅋㅋㅋㅋㅋㅋㅋㅋㅋㅋㅋㅋㅋㅋㅋㅋㅋㅋㅋㅋㅋㅋㅋㅋㅋㅋㅋㅋㅋㅋㅋㅋㅋㅋㅋㅋㅋㅋㅋㅋㅋㅋㅋㅋㅋㅋㅋㅋㅋㅋㅋㅋㅋㅋㅋㅋㅋㅋㅋㅋㅋㅋㅋㅋㅋㅋㅋㅋㅋㅋㅋㅋㅋㅋㅋㅋㅋㅋㅋㅋㅋㅋㅋㅋㅋㅋㅋㅋㅋㅋㅋㅋㅋㅋㅋㅋㅋㅋㅋㅋㅋㅋㅋㅋㅋㅋㅋㅋㅋㅋㅋㅋㅋㅋㅋㅋㅋㅋㅋㅋㅋㅋㅋㅋㅋㅋㅋㅋㅋㅋㅋㅋㅋㅋㅋㅋㅋㅋㅋㅋㅋㅋㅋㅋㅋㅋㅋㅋㅋㅋㅋㅋㅋㅋㅋㅋㅋㅋㅋㅋㅋㅋㅋㅋㅋㅋㅋㅋㅋㅋㅋㅋㅋㅋㅋㅋㅋㅋㅋㅋㅋㅋㅋㅋㅋㅋㅋㅋㅋㅋㅋㅋㅋㅋㅋㅋㅋㅋㅋㅋㅋㅋㅋㅋㅋㅋㅋㅋㅋㅋㅋㅋㅋㅋㅋㅋㅋㅋㅋㅋㅋㅋㅋㅋㅋㅋㅋㅋㅋㅋㅋㅋㅋㅋㅋㅋㅋㅋㅋㅋㅋㅋㅋㅋㅋㅋㅋㅋㅋㅋㅋㅋㅋㅋㅋㅋㅋㅋㅋㅋㅋㅋㅋㅋㅋㅋㅋㅋㅋㅋㅋㅋㅋㅋㅋㅋㅋㅋㅋㅋㅋㅋ|452209773 |33    |true   |psja****|BassSea           |364       |7        |1.683917462537999E9|800101  |5           |2023-03-18 15:23:41|\n",
      "|맛있다맛있다맛있다맛있다맛있다맛있다맛있다맛있다맛있다맛있다맛있다맛있다맛있다맛있다맛있다맛있다맛있다맛있다맛있다맛있다맛있다맛있다맛있다맛있다맛있다맛있다맛있다맛있다맛있다맛있다맛있다맛있다맛있다맛있다맛있다맛있다맛있다맛있다맛있다맛있다맛있다맛있다맛있다맛있다맛있다맛있다맛있다맛있다맛있다맛있다맛있다맛있다맛있다맛있다맛있다맛있다맛있다맛있다맛있다맛있다맛있다맛있다맛있다맛있다맛있다맛있다맛있다맛있다맛있다맛있다맛있다맛있다맛있다맛있다맛있다맛있다맛있다맛있다맛있다맛있다맛있다맛있다맛있다맛있다맛있다맛있다맛있다맛있다맛있다맛있다맛있다맛있다맛있다맛있다맛있다맛있다맛있다맛있다맛있다맛있다맛있다맛있다맛있다맛있다맛있다맛있다맛있다맛있다맛있다맛있다맛있다맛있다맛있다맛있다맛있다맛있다맛있다맛있다맛있다맛있다맛있다맛있다맛있다맛있다맛있다맛있다맛있다맛있다있다맛있다맛있다맛있다맛있다맛있다맛있다맛있다맛있다맛있다맛있다맛있다맛있다맛있다맛있다맛있다맛있다맛있다맛있다맛있다맛있다맛있다맛있다맛있다맛있다맛있다맛있다맛있다맛있다맛있다맛있다맛있다맛있다맛있다맛있다맛있다맛있다맛있다맛있다|451369306 |24    |true   |seri****|ser               |383       |4        |1.685774393707771E9|801428  |3           |2023-02-25 14:11:18|\n",
      "|드러워서안가드러워서안가드러워서안가드러워서안가드러워서안가드러워서안가드러워서안가드러워서안가드러워서안가드러워서안가드러워서안가드러워서안가드러워서안가드러워서안가드러워서안가드러워서안가드러워서안가드러워서안가드러워서안가드러워서안가드러워서안가드러워서안가드러워서안가드러워서안가드러워서안가드러워서안가드러워서안가드러워서안가드러워서안가드러워서안가드러워서안가드러워서안가드러워서안가드러워서안가드러워서안가드러워서안가드러워서안가드러워서안가안가드러워서안가드러워서안가드러워서안가드러워서안가드러워서안가드러워서안가드러워서안가드러워서안가드러워서안가드러워서안가드러워서안가드러워서안가드러워서안가드러워서안가드러워서안가드러워서안가드러워서안가드러워서안가드러워서안가드러워서안가드러워서안가드러워서안가드러워서안가드러워서안가드러워서안가드러워서안가드러워서안가드러워서안가드러워서안가드러워서안가드러워서안가드러워서안가드러워서안가드러워서안가드러워서안가드러워서안가안가드러워서안가드러워서안가드러워서안가드러워서안가드러워서안가드러워서안가드러워서안가드러워서안가드러워서|453765691 |13    |true   |bunn****|bun               |114       |2        |1.683147035607522E9|805893  |1           |2023-04-27 14:43:10|\n",
      "|임석영을더이상못보겠습니다임석영이남자로보입니다그리고그남자를사랑하게됐습니다이뤄질수없다는걸알기에임석영을사랑하는심장을찢어내려고합니다여러분석영이를아껴주세요그러나조심하십시오저처럼죽을만큼사랑하게되면가슴이찢어지는고통을맛보게될겁니다그와이뤄질수없다는걸알기에눈물만흘리다결국그웅덩이속으로가라앉게될겁니다임석영을더이상못보겠습니다임석영이남자로보입니다그리고그남자를사랑하게됐습니다이뤄질수없다는걸알기에임석영을사랑하는심장을찢어내려고합니다여러분석영이를아껴주세요그러나조심하십시오저처럼죽을만큼사랑하게되면가슴이찢어지는고통을맛보게될겁니다그와이뤄질수없다는걸알기에눈물만흘리다결국그웅덩이속으로가라앉게될겁니다 임석영을더이상못보겠습니다임석영이남자로보입니다그리고그남자를사랑하게됐습니다이뤄질수없다는걸알기에임석영을사랑하는심장을찢어내려고합니다여러분석영이를아껴주세요그러나조심하십시오저처럼죽을만큼사랑하게되면가슴이찢어지는고통을맛보게될겁니다그와이뤄질수없다는걸알기에눈물만흘리다결국그웅덩이속으로가라앉게될겁니다임석영을더이상못보겠습니다임석영이남자로보입니다그리고그남자를 |449169204 |16    |true   |vpzl****|소유              |937       |7        |1.683712133375754E9|801992  |8           |2023-01-05 14:02:49|\n",
      "|더해더해더해더해더해더해더해더해더해더해더해더해더해더해더해더해더해더해더해더해더해더해더해더해더해더해더해더해더해더해더해더해더해더해더해더해더해더해더해더해더해더해더해더해더해더해더해더해더해더해더해더해더해더해더해더해더해더해더해더해더해더해더해더해더해더해더해더해더해더해더해더해더해더해더해더해더해더해더해더해더해더해더해더해더해더해더해더해더해더해더해더해더해더해더해더해더해더해더해더해더해더해더해더해더해더해더해더해더해더해더해더해더해더해더해더해더해더해더해더해더해더해더해더해더해더해더해더해더해더해더해더해더해더해더해더해더해더해더해더해더해더해더해더해더해더해더해더해더해더해더해더해더해더해더해더해더해더해더해더해더해더해더해더해더해더해더해더해더해더해더해더해더해더해더해더해더해더해더해더해더해더해더해더해더해더해더해더해더해더해더해더해더해더해더해더해더해더해더해더해더해더해더해더해더해더해더해더해더해더해더해더해더해더해더해더해더해더해더해더해더해더해더해더해더해더해더해더해더해더해더해더해더해더해더해더해더해더해더해더해더해더해더해더해더해더해더해더해더해더해|449973504 |3     |true   |gayr****|gay               |89        |3        |1.684973610354083E9|805368  |6           |2023-01-24 00:40:17|\n",
      "|강며들었다...다다....다다다다다다....다다다다다.. 또물보라를 일으켜강며들었다...다다....다다다다다다....다다다다다.. 또물보라를 일으켜강며들었다...다다....다다다다다다....다다다다다.. 또물보라를 일으켜강며들었다...다다....다다다다다다....다다다다다.. 또물보라를 일으켜강며들었다...다다....다다다다다다....다다다다다.. 또물보라를 일으켜강며들었다...다다....다다다다다다....다다다다다.. 또물보라를 일으켜강며들었다...다다....다다다다다다....다다다다다.. 또물보라를 일으켜강며들었다...다다....다다다다다다....다다다다다.. 또물보라를 일으켜강며들었다...다다....다다다다다다....다다다다다.. 또물보라를 일으켜강며들었다...다다....다다다다다다....다다다다다.. 또물보라를 일으켜강며들었다...다다....다다다다다다....다다다다다.. 또물보라를 일으켜강며들었다...다다....다다다다다다....다다다다다.. 또물보라를 일으켜강며들었다...                                                                                                                                                                                       |445155897 |10    |true   |0273****|흙을 먹어라 유중혁|20        |0        |1.683453084014322E9|797943  |1           |2022-10-01 22:40:32|\n",
      "|아주좋아아주좋아아주좋아아주좋아아주좋아아주좋아아주좋아아주좋아아주좋아아주좋아아주좋아아주좋아아주좋아아주좋아아주좋아아주좋아아주좋아아주좋아아주좋아아주좋아아주좋아아주좋아아주좋아아주좋아아주좋아아주좋아아주좋아아주좋아아주좋아아주좋아아주좋아아주좋아아주좋아아주좋아아주좋아아주좋아아주좋아아주좋아아주좋아아주좋아아주좋아아주좋아아주좋아아주좋아아주좋아아주좋아아주좋아아주좋아아주좋아아주좋아아주좋아아주좋아아주좋아아주좋아아주좋아아주좋아아주좋아아주좋아아주좋아아주좋아아주좋아아주좋아아주좋아아주좋아아주좋아아주좋아아주좋아아주좋아아주좋아아주좋아아주좋아아주좋아아주좋아아주좋아아주좋아아주좋아아주좋아아주좋아아주좋아아주좋아아주좋아아주좋아아주좋아아주좋아아주좋아아주좋아아주좋아아주좋아아주좋아아주좋아아주좋아아주좋아아주좋아아주좋아아주좋아아주좋아아주좋아아주좋아아주좋아아주좋아아주좋아아주좋아아주좋아아주좋아아주좋아아주좋아아주좋아아주좋아아주좋아아주좋아아주좋아아주좋아아주좋아아주좋아아주좋아아주좋아아주좋아아주좋아아주좋아아주좋아아주좋아아주좋아아주좋아아주좋아아주좋아|451841867 |9     |true   |sili****|웃는아이          |112       |1        |1.684973907583372E9|805368  |2           |2023-03-08 16:46:36|\n",
      "|어??! 알아봐 알아봐 알아봐 제발 태평아 알아보자 알아봐 알아봐 알아봐 알아봐 알아봐 알아봐 알아봐 알아봐 알아봐 알아봐 알아봐 알아봐 알아봐 알아보ㅡ 알아봐 알아봐 알아봐 알아봐 알아봐 알아봐 알아봐 알아봐 알아봐 알아봐 알아봐 알아봐 알아봐 알아봐 알아봐 알아봐 알아봐 알아봐 알아봐 알아봐 알아봐 알아봐 알아봐 알아봐 알아봐 알아봐 알아봐 알아봐 알아봐 알아봐 알아봐 알아봐 알아봐 알아봐 알아봐 알아봐 알아봐 알아봐 알아봐 알아봐 알아봐 알아봐 알아봐 알아봐 알아봐 알아봐 알아봐 알아봐 알아봐 알아봐 알아봐 알아봐 알아봐 알아봐 알아봐 알아봐 알아봐 알아봐 알아봐 알아봐 알아봐 알아봐 알아봐 알아봐 알아봐 알아봐 알아봐 알아봐 알아봐 알아봐 알아봐 알아봐 알아봐 알아봐 알아봐 알아봐 알아봐 알아봐 알아봐 알아봐 알아봐 알아봐 알아봐 알아봐 알아봐 알아봐 알아봐 알아봐 알아봐 알아봐 알아봐 알아봐 알아봐 알아봐 알아봐 알아봐 알아봐 알아봐 알아봐 알아봐 알아봐 알아봐 알아봐 제발                                                                                                                               |448012661 |25    |true   |asdf****|쌀                |155       |2        |1.68477008758566E9 |796492  |1           |2022-12-08 00:22:23|\n",
      "|이건 진짜 떡상 해야 대 떡상가자 떡상가자 떡상가자 떡상 떡상 떡상가자 떡상가자 떡상가자 떡상 떡상 떡상가자 떡상가자 떡상가자 떡상 떡상 떡상가자 떡상가자 떡상가자 떡상 떡상 떡상가자 떡상가자 떡상 떡상 떡상가자 떡상가자 떡상가자 떡상 떡상 떡상가자 떡상가자 떡상가자 떡상 떡상 떡상가자 떡상가자 떡상가자 떡상 떡상 떡상가자 떡상가자 떡상 떡상 떡상가자 떡상가자 떡상가자 떡상 떡상 떡상가자 떡상가자 떡상가자 떡상 떡상 떡상가자 떡상가자 떡상가자 떡상 떡상 떡상가자 떡상가자 떡상 떡상 떡상가자 떡상가자 떡상가자 떡상 떡상 떡상가자 떡상가자 떡상가자 떡상 떡상 떡상가자 떡상가자 떡상가자 떡상 떡상 떡상가자 떡상가자 떡상 떡상 떡상가자 떡상가자 떡상가자 떡상 떡상 떡상가자 떡상가자 떡상가자 떡상 떡상 떡상가자 떡상가자 떡상가자 떡상 떡상 떡상가자 떡상가자 떡상 떡상 떡상가자 떡상가자 떡상가자 떡상 떡상 떡상가자 떡상가자 떡상가자 떡상 떡상 떡상가자 자까님 사앙합미다 이거 지짜 백퍼 떡상가능                                                                                                                         |449753214 |2     |true   |hehi****|heh               |170       |2        |1.684973534462967E9|805368  |3           |2023-01-19 03:23:53|\n",
      "+----------------------------------------------------------------------------------------------------------------------------------------------------------------------------------------------------------------------------------------------------------------------------------------------------------------------------------------------------------------------------------------------------------------------------------------------------------------------------------------------------------------------------------------------------------------------------------------------------------------------------------------------------------------------------------------------------------------------------------------------------------------------------------------------------------------------------------------------------------------------------------------------------------------------------------------------------------------------------------------------------------------------------------------+----------+------+-------+--------+------------------+----------+---------+-------------------+--------+------------+-------------------+\n",
      "\n"
     ]
    },
    {
     "name": "stderr",
     "output_type": "stream",
     "text": [
      "\r",
      "                                                                                \r"
     ]
    }
   ],
   "source": [
    "desc_comm_len.show(truncate=False)"
   ]
  },
  {
   "cell_type": "code",
   "execution_count": 72,
   "id": "e75c6345",
   "metadata": {},
   "outputs": [
    {
     "name": "stderr",
     "output_type": "stream",
     "text": [
      "[Stage 92:=====================================================>  (18 + 1) / 19]\r"
     ]
    },
    {
     "name": "stdout",
     "output_type": "stream",
     "text": [
      "+-------+----------+------+-------+--------+----------+----------+---------+-------------------+--------+------------+-------------------+\n",
      "|comment|comment_id|epi_no|is_best|login_id|nickname  |recomm_cnt|reply_cnt|save_date          |title_id|unrecomm_cnt|write_date         |\n",
      "+-------+----------+------+-------+--------+----------+----------+---------+-------------------+--------+------------+-------------------+\n",
      "|?      |236629978 |5     |true   |hong****|BEST홍삼  |1248      |1        |1.68304517958E9    |671421  |113         |2016-02-16 22:23:58|\n",
      "|ㅋ     |452744535 |15    |true   |kwc0****|kwc       |50        |2        |1.684080182192587E9|805691  |4           |2023-04-01 13:57:07|\n",
      "|네     |451569706 |13    |true   |lee1****|노래쟁이  |6         |0        |1.686383389653226E9|804989  |0           |2023-03-01 22:06:03|\n",
      "|식     |443573437 |2     |true   |sg24****|온리원스타|70        |10       |1.685298620191948E9|799250  |12          |2022-08-29 13:59:34|\n",
      "|ㅠ     |449402642 |3     |true   |lee1****|노래쟁이  |34        |1        |1.686382699848794E9|804989  |2           |2023-01-10 21:56:28|\n",
      "|☺      |448970929 |4     |true   |kyhi****|쿠쿠밍    |190       |5        |1.683609022412119E9|803480  |8           |2022-12-31 13:58:53|\n",
      "|오     |449380708 |5     |true   |bami****|bam       |10        |0        |1.686382858128971E9|804989  |0           |2023-01-10 13:24:41|\n",
      "|ㅈ     |446434950 |6     |true   |beer****|1jliadj98 |13        |0        |1.68538116938177E9 |801827  |1           |2022-10-30 13:46:11|\n",
      "|굿     |446398735 |11    |true   |like****|깡        |15        |0        |1.686345434250213E9|800392  |3           |2022-10-29 13:33:00|\n",
      "|와     |451787092 |1     |true   |paul****|부처      |574       |4        |1.686381291884409E9|807178  |20          |2023-03-07 13:24:15|\n",
      "+-------+----------+------+-------+--------+----------+----------+---------+-------------------+--------+------------+-------------------+\n",
      "\n"
     ]
    },
    {
     "name": "stderr",
     "output_type": "stream",
     "text": [
      "\r",
      "                                                                                \r"
     ]
    }
   ],
   "source": [
    "asc_comm_len.show(truncate=False)"
   ]
  },
  {
   "cell_type": "markdown",
   "id": "2e9fd9fc",
   "metadata": {},
   "source": [
    "# 4. ✅ 분석: 댓글 상세 분석 (전체 베댓 기준)"
   ]
  },
  {
   "cell_type": "markdown",
   "id": "a88b81a2",
   "metadata": {},
   "source": [
    "## 사전 확인"
   ]
  },
  {
   "cell_type": "markdown",
   "id": "8d202086",
   "metadata": {},
   "source": [
    "### ㅎ 혹은 ㅋ 사용하는 댓글 뽑아보기"
   ]
  },
  {
   "cell_type": "code",
   "execution_count": 73,
   "id": "8fc0a280",
   "metadata": {},
   "outputs": [],
   "source": [
    "filtered_h= df.filter(col(\"comment\").contains('ㅎ'))"
   ]
  },
  {
   "cell_type": "code",
   "execution_count": 75,
   "id": "ca8602cc",
   "metadata": {
    "collapsed": true
   },
   "outputs": [
    {
     "name": "stdout",
     "output_type": "stream",
     "text": [
      "+--------------------------------------------------------------------------------------------------------------------------------------------------------------------------------------------------------------------------------------------------------------------------------------------------------------------------------------------------------------------------------------------------------------------------------------------------------------------------------------------------------------------------------------------------------------------------------------------------------------------------------------------------------------------------------------------------------------------------------------------------------------------------------------------------------------------------------------------------------------------------------------------------------------------------------+----------+------+-------+--------+-----------+----------+---------+-------------------+--------+------------+-------------------+\n",
      "|comment                                                                                                                                                                                                                                                                                                                                                                                                                                                                                                                                                                                                                                                                                                                                                                                                                                                                                                                         |comment_id|epi_no|is_best|login_id|nickname   |recomm_cnt|reply_cnt|save_date          |title_id|unrecomm_cnt|write_date         |\n",
      "+--------------------------------------------------------------------------------------------------------------------------------------------------------------------------------------------------------------------------------------------------------------------------------------------------------------------------------------------------------------------------------------------------------------------------------------------------------------------------------------------------------------------------------------------------------------------------------------------------------------------------------------------------------------------------------------------------------------------------------------------------------------------------------------------------------------------------------------------------------------------------------------------------------------------------------+----------+------+-------+--------+-----------+----------+---------+-------------------+--------+------------+-------------------+\n",
      "|메리님은기승전고기(티라미슈) 그래서 많이 다치지는 않으셨겠죠? 믿겠습니다 그래도 몸조심하세요 신혼이잖아요 ㅎㅎ                                                                                                                                                                                                                                                                                                                                                                                                                                                                                                                                                                                                                                                                                                                                                                                                                  |325334351 |326   |true   |pmh1****|박민현     |2646      |0        |1.686476304050664E9|616239  |66          |2017-06-09 14:19:41|\n",
      "|무브먼트님 힘내세요!! 저는 이별한지 2달정도 지난 남자입니다. 저는 제가 의도치 않게 상처를 너무 많이 줘버려서 여자쪽이 제게 믿음도 없어지고 지쳐서 헤어졌어요. 저도 많이 울고 후회하고 주변에서 죽겠다 할정도로 힘들게 이별을 맞이 한만큼 지금은 무브먼트님에게 위로를 해드리고싶어요..이것이 꽤나 힘나거든요!! 저는 이별한 배댓을보고 또다시 마음이 아프더라구요..아직 잊고 싶지 않나봐요ㅎㅎ..하지만 초반보단 밥도잘먹구!! 많이 울지도않아요!! 그리구 무브먼트님은 군대 다녀오시면 분명 다시 만나실수 있을거예요!! 오히려 더남자답고 멋있게 되서 여성분이 불안해 하실수도 있어요!! 그러니 무브먼트님 군대에서 너무 힘든생각마시구 여성분도 건강히 잘 지내고 좋은 모습으로 다시 재회하길 원하실거예요!! 화이팅하세욥!!                                                                                                                                                                                                          |325471959 |326   |true   |ehdg****|김동준     |11        |0        |1.686476333061555E9|616239  |1           |2017-06-10 22:43:39|\n",
      "|이번 신혼여행편 보는데 이번에 친구랑 전역하고 2월에 태국갔었거든요? 그때랑 완전 패키지가 똑같아요ㅜㅜ 풀빌라는 안갔지만바다가 바로 앞에 있는 리조트는 더참리조트 인거같아요ㅎㅎ 제임스본드섬 간거랑, 씨카누 탄것도 똑같고! 마사지는 아마 가운데 수영장있는 마사지샵에서 받았을거고ㅎㅎ 사이먼쇼도 보셨을듯ㅎㅎ 스쿠버다이빙은 아마 피피섬 아니면 라차섬일텐데 저는 개인적으로 라차섬 추천합니다 사람의 손길 많이 안타서 물이 깨끗해요ㅎㅎ 푸켓길거리도ㅎㅎ걍 유흥의 끝판ㅋㅋㅋ그리고 오늘 나온 절은 와찰룽사원인데 저기 화장터는 사진찍으면 귀신붙는다고 사진찍지말라네욬ㅋㅋㅋ그리고 오늘 나온강아지들 저강아지는 관광객들이 절에 버리고 가는강아지ㅜㅜ불쌍하긴 엄청불쌍하지만 안좋은 병을 가진 강아지가 많아서 만지지않는것을 추천합니다! 그리고 담주는 코끼리를 타지않을까싶군요ㅎㅎ 태국 덥긴하지만 갈만한곳입니닼ㅋㅋ 귀신극장이라는 귀신이 영화보는곳도 있긴한데 거긴 걍 지나가기만 해도 살짝소름ㅋㅋ 쨌든500자 다채움ㅎㅎ|321982656 |313   |true   |wjsw****|asdaasdasf |1082      |0        |1.686474515752349E9|616239  |73          |2017-04-24 15:09:03|\n",
      "|저번 주말에 광안리 빕스 갔다가 윌 작가님 뵈었는데 너무나도 인사드리고 싶었으나 식사하러 오신 것 같기도 하고 그래서 인사를 못드렸네요 ㅠㅠ 실물도 넘나 캐릭터랑 닮은것.. 메리님도 진짜 예쁘셨어요 완전 ..!!! 작가님 팬이라 ㅜㅜㅜ 그저 바라보기만 하고 갔던건 정말정말 아까웠지만 얼굴을 볼 수 있던 것 만으로도 저는 짱이라 생각합니당 ㅎㅎㅎㅎ 같은 지역 사니까 언젠간 또 뵐 수 있겠죠?? 그 땐 기회가 되었으면 합니당 :) 웹툰 항상 잘 챙겨보고 있습니다!!                                                                                                                                                                                                                                                                                                                                                                                                                                                                       |321989826 |313   |true   |dora****|hys8803    |425       |0        |1.686474526188855E9|616239  |11          |2017-04-24 16:03:33|\n",
      "|근데 진짜 느끼는거지만 좋아하는 분 만나서 연애하고 결혼해서 서로 원하시는 일하시면서 좋아하는 동물 키우고 서로 보면서 사랑 받는느낌 부모님들에게 잘 하시고 스스로 몸도 잘챙기시는거 보면 부럽네요 ㅎㅎㅎ 멀리서 좋은 모습만 보고 느끼는 감정이지만 저도 본 받고싶어요 사랑하는 분 만나서 많이 사랑해주고 서로 부모님한테 열시미 잘해드리고 서로 도움되는 그런 삶 ❤️                                                                                                                                                                                                                                                                                                                                                                                                                                                                                                                                                             |394221103 |641   |true   |mee0****|xxxibgdrgn |242       |0        |1.686519271900954E9|616239  |19          |2020-07-17 16:15:14|\n",
      "|대학 다니며 처음 자취할때 집주인땜에 별일 다 겪었어요. 어느날 집 와보니 싱크대에 반정도 채워진음식물쓰레기 봉투가 있길래 대체 뭐지 하고 집주인한테 전화하니까, 옆집에서 내놓은 쓰레기봉투 반이 비어있길래 쓰라고 저희집 문 따고 들어와서 싱크대에 놓은건 기본이고.. 겨울에 본가 왔는데 집주인이 전화해서 집을 비울거면 말 하고 비우지 보일러 얼면 어떻게 할거냐면서 본인이 저희집 문 따고 들어와서 보일러 최고온도로 해서 3일동안 틀어놔서 가스비 최고치 나온일도 있고.. 자기가 임대한 집인데 들어오는게 뭐가 문제였냐는 식 이라 이사가기로 맘 먹고 집 옮기는데, 이삿날 저희 어머니께 막 자식 잘못 키웠다느니 ㅁㅎㄴ두번째 집은 한 층당 한 집씩 있는 5층건물 옥탑이었어요 누가 어디 사는지 다 아는. 어느날 계단 올라오는데 바로 한층 아래씩에서 센서등이 켜지더라구요 그러다 제가 옥탑 바로 앞에 멈춰서 문 안열고 기다리는데 아랫층에서도 발자국 소리 멈추고 센서등도 멈추는데 문 열리는 소리 안남                              |405161295 |684   |true   |dbwl****|dbwl****   |38        |0        |1.686525126539901E9|616239  |0           |2020-12-15 04:38:49|\n",
      "|아버지께서 저 5살 때까지 벌크선 타셨는데 언젠가 저보다 10살 많은 사촌형이 배 탈 생각으로 조언 구하러 왔을 때 타지 말라고 극구 말리시던 모습이 생각나네요ㅎ                                                                                                                                                                                                                                                                                                                                                                                                                                                                                                                                                                                                                                                                                                                                                                      |375910034 |557   |true   |sogh****|AIIM       |475       |0        |1.68650764590951E9 |616239  |1           |2019-08-26 15:11:12|\n",
      "|작가님! ㅎㅎ 저는 충청도 여자고 남자는 저멀리 대구 남자입니다 둘다 사투리를 쓰고있어요 저는 그런겨~~ 남자는 억양마져 구수한 대구 사투리를 쓰고요 궁합도 안보는 네살차이입니다 정말 우연치 않게 같은 회사에서 만나서 사내커플로 사귀다가 제 사정상 2년 3년 뒤 미래를 그리며 이쁘게 만나고 있습니다 윌유메리미 웹툰을 알게되고 본지는 거의 2주밖에 안되었지만 짬짬히 쉬는 시간마다 챙겨보며 정말 사이좋은 친구같고 때로는 사랑스런 부부처럼 지내는 작가님을 보면서 우리의 미래도 저렇게 사랑스럽고 안정적인 부부를 꿈꾸게 되었습니다 제가 2년 3년뒤에 결혼을 준비하거나 결혼 후에도 이 웹툰이 장수무강해서 쭉 연재되고 있다면 단한번도 보지 못한 윌과 메리가 제 가까운 지인처럼 정이 많이 들고 가깝게 느껴지게 될껏만 같아요 어쩜 지극히 일상적이지만 너무 보기만해도 행복해지는 웹툰을 연재해주셔서 정말 감사합니다 사랑스러운 메리님과 앞으로도 정말 좋은 결혼생활 라이프를 예쁘게 담아낼 수 있길 바랍니다                      |375914155 |557   |true   |st17****|st17****   |277       |0        |1.686507664428442E9|616239  |10          |2019-08-26 15:45:38|\n",
      "|해야하지 않을까요.. 저도 개를 키웁니다만 ㅎ 이런 문제가 있을 때 \"만약 이 아이가 사람이였다면 이런 고민을 할까? \"입니다. 매번 가족이라 칭하면서도 결정적인 순간엔 동물과 사람으로 구분하려 하진 않는지 한번더 생각하려 해요. 차이는 있겠지만 가족으로 인정한 순간 차별은 하지 않으려 합니다 ㅎ 물론 윌님 메리님도 각자의 방법으로 복마니 딩동이 써니 랑 행복한 가족이실 거아 생각해요. 그에 합당한 결정 하셨을거라 생각하고 어떤 결정이든 응원합니다!!                                                                                                                                                                                                                                                                                                                                                                                                                                                                           |385505148 |609   |true   |yusi****|낭만효곰   |1378      |1        |1.686514821109134E9|616239  |50          |2020-03-16 01:16:50|\n",
      "|ㅋㅋㅋ전신마취 전 2번했는데요..재수술로인해서.. 근데 음.. 진짜 누워있다가 눈뜨면 병실..ㅋㅋ 전신마취전에 몸무게 물어보는데 사실대로 얘기하세요 ㅎ 몸무게에따라 마취약 투여량이 달라진다네요 ㅎㅎ                                                                                                                                                                                                                                                                                                                                                                                                                                                                                                                                                                                                                                                                                                                                |324419785 |322   |true   |cllo****|감자도리   |2897      |0        |1.686475738492315E9|616239  |72          |2017-05-26 15:10:59|\n",
      "|유기묘 데려오구 1년동안 알러지 때문에피날때까지 긁구ㅜ못자구 그러다 면역이 생긴건지 ㅎㅎ멀쩡해젔었네요 그 고양이가 데려오고10년! 이제 곧 무지개다리 건넌지도 1년이네요ㅜ                                                                                                                                                                                                                                                                                                                                                                                                                                                                                                                                                                                                                                                                                                                                                        |324424904 |322   |true   |bbob****|워늬       |649       |0        |1.686475752879205E9|616239  |22          |2017-05-26 15:36:20|\n",
      "|오늘 부산에서 결혼하는 동갑커플입니다. 여자친구 메이크업받는동안윌유메리미 모아서 보고잇네요..ㅎ 처음봣을땐 연인사이라 느낀감정이 와닿지가않앗는데 오늘에서야 웹툰모아서보니 너무 맘속에 훅 들어와서 눈물이 앞을가리네요..ㅎ 윌유메리미 항상 연재잘해주시구요. 오늘 여자친구와 행복한결혼식하고 푸켓으로 신혼여행 잘다녀오겠습니다^^ 모바일이라 두서없이 적엇네요ㅎ                                                                                                                                                                                                                                                                                                                                                                                                                                                                                                                                                             |321848206 |312   |true   |tpaa****|tpaa****   |307       |0        |1.686474366549393E9|616239  |15          |2017-04-22 21:24:17|\n",
      "|만약에 지금 가실거면 익스프레스 추천 안해요ㅠㅠ수요일에 다녀왔는데 사람 진짜 없었어요!!물론 낮에는 인기있는 놀이기구들 대기시간이 2시간이기는 하지만 저녁 되면은 줄 다 빠져요!! 어느정도냐 하면 문닫기 3시간 정도 전에 쥬라기 공원 3분 기달렸고 죠스 5분도 안 기달렸고 심지어!!! 그 인기많다는!! 해리포터도 줄 안서고 바로 탔어요!!거짓말 안하고 걷고 걷고 걷고 착석!! 저희는 6만원짜리 익스프레스 샀는데 후회 많이했어요ㅠ일주일 전에 다녀온 친구도 놀이기구 다 타서 4시에 나왔대요..ㅎ하지만 이거는 날짜와 요일마다 다를 수 있고 저도 유니버셜을 한 번 가봤기 때문에 무조건 따르지 마시고는 참고만 하세요:)                                                                                                                                                                                                                                                                                                                   |341363361 |394   |true   |jihe****|jihe****   |295       |0        |1.686485583100143E9|616239  |10          |2018-02-02 15:58:11|\n",
      "|와...이번편은 정말 감동적였습니다. 이번에 첫 월급타는데 예전부터 소원이 부모님께 용돈드리는 거였습니다. 이제라도 부모님께 용돈을 드릴수 있어서 기쁘네요ㅎㅎ                                                                                                                                                                                                                                                                                                                                                                                                                                                                                                                                                                                                                                                                                                                                                                     |384359799 |600   |true   |a471****|a471****   |163       |0        |1.686513610081287E9|616239  |3           |2020-02-24 14:38:26|\n",
      "|작가님께서 우연히 그려냈던 장인장모님 러브스토리 장편이 독자들에게 큰 호응을 얻게되고 그 이후로부터 장편의 비중이 좀 는것같은데 아마 독자분들은 장편이기때문에 좋아했던게 아니라 100편을 넘게 단편만화만 보던 독자들이 처음으로 긴 스토리를 보고 신선해서 좋아하셨던게 큰것같아요.. 사실 부부간의 해프닝을 9편까지 적어내기엔 저희가 윌님 메리님의 지인도 아니고 좀 루즈할만 하죠 ㅎㅎ.. 선넘는 댓글도 많고 그중 못할소리도 많은데 그분들 말은 너무 마음에 담아두시지 마시구 앞으로는 단편이야기들도 비중이 있게 잘 배분해서 연재해주셨으면 좋겠어요.. 첫 연재부터 잘 애독하고있습니다 마인드C작가님을 윌유메리미로 더 오래오래 뵙고싶어요!!                                                                                                                                                                                                                                                                                    |441042940 |847   |true   |webl****|무제       |282       |1        |1.686547012128468E9|616239  |8           |2022-07-08 17:02:15|\n",
      "|전공의로써 소견을 말씀드리면 먼저 플로랄이세이(학생이신거 같으니 학생이라 지칭하겠습니다.)학생의 의견엔 다소 무리가 있습니다. 위 웹툰의 내용으로 판단하기엔 근거가 불충분한지만 위에 따른 내용만으로 본다면작가분께서 사진을 수집하시는 행동은 플로랄 학생분께서 말하신 분리개별화란 문제에 연관시키기 어렵다고 볼수있습니다. 학생분이시니 숙제를 하나 드릴께요ㅎㅎ 그럼 왜 저 두가지를 연관시키지 못할까요?? 저 \"왜??\" 를 생각해보는것이 앞으로 실무를 해나가는데 상당히 중요한 도움이 될것이라 생각되네요. 힌트를 두가지 드리자면 \"작가분의 실질적(웹툰이 아닌 현실상) 상태\" \"행동의 발현시기\" 가 기초적 단서입니다. 이제 이 웹툰 재밌게 잘보고 있는 독자로써 작가분께 진심으로 해드리는 말은 안타깝지만 그 어느 누구도!! 지금 위의것만보고 심리적인 판단과 분석을 할수도 또 해서도 안된다는것 입니다. 이것이 전공의로써 말씀드리는 최고의 답변입니다 (진지함)                                                                |168966404 |32    |true   |dbdb****|Skins      |9816      |1        |1.686436166945986E9|616239  |463         |2014-06-20 15:32:15|\n",
      "|저도 심리학과 학생인데, 교수님들도 항상 하시는 말씀이 부족한 정보로 혹은 단적인 부분으로 해석 하는 것은 매우 위험하며, 게다가 너희는 전문가도 뭣도 아니기에 절대 함부로 분석하면 안된다고 하셨어요 ㅎㅎ 작가님 혹시나 저런 여기 올라온 해석은 그냥 재미로 보시면 좋을 거 같아요.ㅋㅋㅋ정말 궁금하시면 심리검사를 통해서나 전문적인 상담가분을 찾아뵈어 보는게 어떠신지요?? ㅎㅎ 더불어 웹툰팬으로서 말씀드리자면 윌유메리미 제가 본 연애웹툰 중 단연 탑입니다. 오래오래 연재해 주세요 ♡♡♡ p.s.: ㅈㅎㅁ 작가님 파주스님 맞으시져? 작가님보다 동생이시라니 ㅎㅎㅎ놀랐습니다.                                                                                                                                                                                                                                                                                                                                                      |168970777 |32    |true   |frpi****|겁늙은     |5781      |0        |1.686436176784326E9|616239  |161         |2014-06-20 16:02:12|\n",
      "|ㅈㅎㅁ은 주호민작가님이신가요?                                                                                                                                                                                                                                                                                                                                                                                                                                                                                                                                                                                                                                                                                                                                                                                                                                                                                                  |168972190 |32    |true   |jjyj****|X17        |3510      |1        |1.686436183816056E9|616239  |79          |2014-06-20 16:16:45|\n",
      "|유체이탈하면서 멀리멀리 가버리면 그 빈 몸에 귀신이 들어간다는 속설ㅇ이 있는데 다행이네용 .^.^ㅎ                                                                                                                                                                                                                                                                                                                                                                                                                                                                                                                                                                                                                                                                                                                                                                                                                                 |348862036 |429   |true   |hmo1****|한미영     |2232      |0        |1.686490249736568E9|616239  |34          |2018-06-04 14:30:28|\n",
      "|그냥 가위눌렸거나 꿈인 거 착각하시나부당 ㅎㅎ 귀엽네 하다가 댓글들 보고 놀람.. 진짜 가능한 건가.. 아님 다들 꿈꾸신 건가.. 갑자기 잠들기 무서워짐 ㅠㅠ                                                                                                                                                                                                                                                                                                                                                                                                                                                                                                                                                                                                                                                                                                                                                                           |348876528 |429   |true   |hika****|짬뽕이 좋아|697       |0        |1.686490259128071E9|616239  |24          |2018-06-04 16:02:26|\n",
      "+--------------------------------------------------------------------------------------------------------------------------------------------------------------------------------------------------------------------------------------------------------------------------------------------------------------------------------------------------------------------------------------------------------------------------------------------------------------------------------------------------------------------------------------------------------------------------------------------------------------------------------------------------------------------------------------------------------------------------------------------------------------------------------------------------------------------------------------------------------------------------------------------------------------------------------+----------+------+-------+--------+-----------+----------+---------+-------------------+--------+------------+-------------------+\n",
      "only showing top 20 rows\n",
      "\n"
     ]
    }
   ],
   "source": [
    "filtered_h.show(truncate=False)"
   ]
  },
  {
   "cell_type": "code",
   "execution_count": 77,
   "id": "a0a3af63",
   "metadata": {},
   "outputs": [],
   "source": [
    "filtered_k= df.filter(col(\"comment\").contains('ㅋ'))"
   ]
  },
  {
   "cell_type": "code",
   "execution_count": 78,
   "id": "5fffabae",
   "metadata": {
    "collapsed": true
   },
   "outputs": [
    {
     "name": "stdout",
     "output_type": "stream",
     "text": [
      "+--------------------------------------------------------------------------------------------------------------------------------------------------------------------------------------------------------------------------------------------------------------------------------------------------------------------------------------------------------------------------------------------------------------------------------------------------------------------------------------------------------------------------------------------------------------------------------------------------------------------------------------------------------------------------------------------------------------------------------------------------------------------------------------------------------------------------------------------------------------------------------------------------------------------------------+----------+------+-------+--------+------------+----------+---------+-------------------+--------+------------+-------------------+\n",
      "|comment                                                                                                                                                                                                                                                                                                                                                                                                                                                                                                                                                                                                                                                                                                                                                                                                                                                                                                                         |comment_id|epi_no|is_best|login_id|nickname    |recomm_cnt|reply_cnt|save_date          |title_id|unrecomm_cnt|write_date         |\n",
      "+--------------------------------------------------------------------------------------------------------------------------------------------------------------------------------------------------------------------------------------------------------------------------------------------------------------------------------------------------------------------------------------------------------------------------------------------------------------------------------------------------------------------------------------------------------------------------------------------------------------------------------------------------------------------------------------------------------------------------------------------------------------------------------------------------------------------------------------------------------------------------------------------------------------------------------+----------+------+-------+--------+------------+----------+---------+-------------------+--------+------------+-------------------+\n",
      "|그림이랑 개 똑같이 생겼엌ㅋㅋㅋㅋㅋㅋㅋㅋㅋㅋㅋ                                                                                                                                                                                                                                                                                                                                                                                                                                                                                                                                                                                                                                                                                                                                                                                                                                                                                 |327623979 |335   |true   |urmy****|오오오오    |8858      |0        |1.686477500056887E9|616239  |55          |2017-07-10 14:16:01|\n",
      "|ㅋㅋㅋㅋㅋㅋㅋㅋ처음보는 배우ㅋㅋㅋㅋㄲㅋ낯가림 심하신데 싸인회는 어떻게 하셨어요ㅋㅋㅋㅋ 몇백명 다 처음볼텐데ㅋㅋㅋㅋㅋ수줍어 하시는거 상상되요ㅋㅋㅋ 귀여우셩                                                                                                                                                                                                                                                                                                                                                                                                                                                                                                                                                                                                                                                                                                                                                                 |224365820 |170   |true   |wjdd****|붕붕붕      |14359     |0        |1.686454914047934E9|616239  |145         |2015-10-16 14:30:37|\n",
      "|예수가 보일때까지 때린다고 예수선생님ㅋㅋㅋㅋㅋㅋㅋㅋㅋㅋㅋㅋㄱㅋㅋㅋㅋㅋㅋㅋㅋㅋㅋㅋㅋㅋㅋㅋㅋㅋㅋㅋㅋㅋㅋㅋㅋㅋ우리는 제우스선생님있었는데 항상 전기줄자른걸로 때려서 ㅋㅋ                                                                                                                                                                                                                                                                                                                                                                                                                                                                                                                                                                                                                                                                                                                                                    |224381105 |170   |true   |hide****|hide****    |8201      |0        |1.686454918043113E9|616239  |101         |2015-10-16 14:44:44|\n",
      "|우리학교에는 걸리면 죽는다고 에이즈 선생님 있었어요. ㅋㅋㅋㅋㅋ                                                                                                                                                                                                                                                                                                                                                                                                                                                                                                                                                                                                                                                                                                                                                                                                                                                                 |224388492 |170   |true   |mind****|단팥죽      |3232      |0        |1.686454928231881E9|616239  |152         |2015-10-16 14:57:44|\n",
      "|남동생인가ㅋㅋㅋㅋㅋㅋㅋㅋㅋㅋㅋ                                                                                                                                                                                                                                                                                                                                                                                                                                                                                                                                                                                                                                                                                                                                                                                                                                                                                                |325332439 |326   |true   |akak****|망디        |206       |0        |1.686476325370026E9|616239  |13          |2017-06-09 14:17:14|\n",
      "|예고편 애기 메리님 ㅋㅋㅋㅋㅋ 뱀 1도 안무서워하네                                                                                                                                                                                                                                                                                                                                                                                                                                                                                                                                                                                                                                                                                                                                                                                                                                                                               |321976546 |313   |true   |doub****|heeya       |1798      |0        |1.686474510281017E9|616239  |35          |2017-04-24 14:44:37|\n",
      "|이번 신혼여행편 보는데 이번에 친구랑 전역하고 2월에 태국갔었거든요? 그때랑 완전 패키지가 똑같아요ㅜㅜ 풀빌라는 안갔지만바다가 바로 앞에 있는 리조트는 더참리조트 인거같아요ㅎㅎ 제임스본드섬 간거랑, 씨카누 탄것도 똑같고! 마사지는 아마 가운데 수영장있는 마사지샵에서 받았을거고ㅎㅎ 사이먼쇼도 보셨을듯ㅎㅎ 스쿠버다이빙은 아마 피피섬 아니면 라차섬일텐데 저는 개인적으로 라차섬 추천합니다 사람의 손길 많이 안타서 물이 깨끗해요ㅎㅎ 푸켓길거리도ㅎㅎ걍 유흥의 끝판ㅋㅋㅋ그리고 오늘 나온 절은 와찰룽사원인데 저기 화장터는 사진찍으면 귀신붙는다고 사진찍지말라네욬ㅋㅋㅋ그리고 오늘 나온강아지들 저강아지는 관광객들이 절에 버리고 가는강아지ㅜㅜ불쌍하긴 엄청불쌍하지만 안좋은 병을 가진 강아지가 많아서 만지지않는것을 추천합니다! 그리고 담주는 코끼리를 타지않을까싶군요ㅎㅎ 태국 덥긴하지만 갈만한곳입니닼ㅋㅋ 귀신극장이라는 귀신이 영화보는곳도 있긴한데 거긴 걍 지나가기만 해도 살짝소름ㅋㅋ 쨌든500자 다채움ㅎㅎ|321982656 |313   |true   |wjsw****|asdaasdasf  |1082      |0        |1.686474515752349E9|616239  |73          |2017-04-24 15:09:03|\n",
      "|태국은 불교국가라 윤회사상을 믿는다요. 그래서 이생에서 덕을 베풀고 착하게 살아야 다음생에서도 복받고 잘 살거라는 믿음 때문에 착하려고 노력한다죠.. 그 노력중 하나로 말못하는 짐승과 몸이 불편한 장애인들을 도우며 산다고해오. 그래서 길멍이들 많은데 하나같이 인간 친화적이라해요. 인간이 잘해줬음 잘해줬지 최소한 해치지는 않으니까요 ㅋㅋㅋㅋ 그래도 날 더운 곳에서 사는 야생들이라 전염병과 광견병은 조심해야한다능... 라일라 작가님의 에피 중에 하나 나온거 생각나서 적어봤어욧                                                                                                                                                                                                                                                                                                                                                                                                                                             |321991140 |313   |true   |eun1****|휘휘휘      |326       |0        |1.686474529384291E9|616239  |8           |2017-04-24 16:19:06|\n",
      "|아니.....베댓의 본인 등판하셨는데 진짜ㅋㅋㅋㅋㅋㅋㅋㅋㅋㅋㅋㅋㅋㅋ넘 눈물나요 ㅠㅠㅠㅜㅜㅜㅜㅠㅠㅠ 한번도 본적없는데 이번스토리보고 얼굴도 모르는분 팬이됐어요 ㅠㅠ존경심이 생기네요 ㅠㅠ진짜 너무 존경합니다 베댓의 글도 제가 이번스토리보고 느낀 사람의 느낌 그대로라서 놀랍네요.... 부디 좋은일만 가득하시고 하시는일 모두 잘풀리시고 만수무강하셔서 선한영향력 많이 전파하시고 행복하시길바랄게요 저또한 광돌님의 좋은영향력덕분에 아이랑 둘이서 열심히 살아가려고 세상에 많이 부딪혀보려고합니다 감사합니다                                                                                                                                                                                                                                                                                                                                                                                                                |424202966 |767   |true   |sorl****|밍끼        |5456      |2        |1.686536259424457E9|616239  |11          |2021-09-13 14:26:07|\n",
      "|당사자들이 웃질못하는데 이게 어떻게 유머야 ?불편하다는게 딴지야? 자제해달라고 요청하신분이작가한테 욕을했어 뭘했어 정중하게 부탁했는데 차단빵먹인건작가잖아 여태 계속 불편해했던건데 안들었던건 우리들 아님? 유머로사용될 시기가 지났고 애초에 그러면 안되는거였음 농인들의 수화가 어떻게 청인들의 비속어를 대체하는 표현방식이 된거? 아주 오래전부터 차별받던 사람들이였고 표현방식의 문제점을 지적한게 사회분위기도 바뀐 지금 우리가 알게된건데 반성은 커녕 진상취급하고있네 ㅋㅋㅋ도태된걸 자랑하고 앉아있어 진짜 ㅋㅋㅋ                                                                                                                                                                                                                                                                                                                                                                                                     |394454892 |641   |true   |love****|민미        |830       |0        |1.686519252695252E9|616239  |70          |2020-07-21 01:53:13|\n",
      "|아니 문제가 뭔지를 모르겠나? 작가님이 좋게 피드백 보내신 팬들 말 그냥 개무시 까고 차단했잖아 ㅋㅋ 그냥 귀 막고 지 멋대로 하겠다는 건데 ㅗ를 산 표현하는 수화라고 하는 드립이 웹툰에서 또 나왔냐? 있어도 다 난리 쳤겠지 시대가 같다 생각하나 다른 데서 문제 안 삼으면 여기서는 되는 거냐? 개그로 소비신 거 자체가 문제라고 ㅋㅋ 근데 뭘 윌메에서만 잡고 늘어져 미촹램들아 잘못은 잘못인데                                                                                                                                                                                                                                                                                                                                                                                                                                                                                                                                        |394462969 |641   |true   |qsxp****|효정        |501       |0        |1.686519259613638E9|616239  |29          |2020-07-21 05:42:40|\n",
      "|고치거나 사과하면 될일을 좋은말로 알려준 독자를 차단하는 방식으로 대처하는 작가ㅋㅋㅋ                                                                                                                                                                                                                                                                                                                                                                                                                                                                                                                                                                                                                                                                                                                                                                                                                                           |394461397 |641   |true   |iamb****|갹          |361       |0        |1.686519264660315E9|616239  |27          |2020-07-21 05:03:46|\n",
      "|그 인터넷 밈이 애초에 잘못된거라고. 베댓 진짜 멍청하다. 항상 이런 문제들에 대해 꾸준히 문제를 제기했지만 보지도 듣지도 않은 건 너희들이면서 무슨 여기와서만 그러냐는 말은.....ㅋ...이렇게 많은 사람들이 그건 잘못된거라고 말하고 있다면 귀막눈막하지말고 조금이라도 생각이란 걸 해보세요.                                                                                                                                                                                                                                                                                                                                                                                                                                                                                                                                                                                                                                       |394457460 |641   |true   |iduo****|의의의의의의|279       |0        |1.686519269743557E9|616239  |21          |2020-07-21 03:10:31|\n",
      "|흠..전 이번 에피소드가 길어졌다고 생각은 했지만 별점에 영향을 끼칠 정도로 루즈하다고 느끼지 않았는데 댓글 보고 놀랐었네요 ㅋㅋㅋ뭐 제가 이렇게 생각했으면 다르게 생각하시는 분들도 계실테니까요 근데 저는 이번 에피소드 너무좋았어요 작가님 ..!오랜만에 매화 결제를 해서 봤구요 메리님 대처에 계속 놀라면서 느끼는 점도 많았고 ㅋㅋㅋ작가님 페이스 대로 열심히 해주셨으면 좋겠어요 사과문?해명문? 올리신 게 너무 제가 더 안타까웠던...미리보기 두개도 정말 감사합니다 잘 봤어요!                                                                                                                                                                                                                                                                                                                                                                                                                                                |432805804 |808   |true   |yein****|뭐          |5284      |9        |1.686541715969522E9|616239  |145         |2022-01-31 14:09:09|\n",
      "|작가님 저는 루즈하지 않고 너무 흥미진진하게 봤어요 ㅋㅋ저같이 재밌게 본 사람들도 많이 있다는거 알아주셨으면!! 조금 바라는게 있다면 긴 스토리 시작할때 제목에 몇화까지 있는건지 미리 알려주시면 안되나요?>.<                                                                                                                                                                                                                                                                                                                                                                                                                                                                                                                                                                                                                                                                                                                     |432818061 |808   |true   |shin****|밍디        |1814      |6        |1.686541725108973E9|616239  |72          |2022-01-31 15:24:43|\n",
      "|베댓이 죽을뻔한것 적어길래 저도 적어봄1. 엄마썰에 따르면 두 돌 정도 됐을때 엄마 따라 목욕탕 갔다가 혼자 돌아 다니다 냉탕에 빠져 죽을 뻔함 다행히 주변에 계신분들이 빠르게 구해주셔서 살음 안타깝게도? 기억이 잘 안남 2. 4살?5살?때 쯤 엄마 하이힐 신고 계단에서 굴러 떨어짐 천만다행히도 팔에 금만가서 깁스함 아 참고로 난 남자임ㅋㅋㅋ 3. 4살 때쯤우리집 옛날 세탁기는 왜 그런지는 모르겠는데 앞에 문고리? 같은게 달려있었다 거기다 특이하게 밖에 있었는데 고리에 매달려 놀다 고리가 끊어지면서 떨어져 머리 8~9바늘 꿰맴ㅋㅋㅋ 4. 고1때 왼쪽 어깨에 어느날 뭔가 묵직한게 잡힘 병원갔더니 어깨뼈와 뼈사이에 종양이 있다함 골육종 수술 받음. 다행히 조직검사 결과 양성으로 판정됨ㅋㅋㅋ                                                                                                                                                                                                                                          |362256619 |489   |true   |rlae****|은빛브라운  |2928      |4        |1.686498454018238E9|616239  |77          |2018-12-30 01:40:19|\n",
      "|난 왜멀쩡한진 모르겠지만초 1때 학교가다가 갑자기 큰개가 짖어서 놀라서 도로로 뛰어나가서 그대로 차에 치이고 내가 날아갔는데 그대로 등교하고 같이학교가던 울누나가 어머니에게 전화해서 어머니 놀라서 바로와서 나대리고 병원갔더니 쌉-멀쩡 완전 새것같은 내몸 중 2때 등교하다가 한쪽팔 사이드미러에 치이고 자동차 사이드미러만 박살나고 친구들이랑 사이드미러 툭툭차면서 그대로 등교함(차는 도망감) 중 3때 자전거 타고 출발하고 30초뒤에 차에치여서 공중으로 붕~떳다가 떨어지고 기절하고 몇분뒤에 일어나서 온몸이 아픈데 그와중에 자전거 앞바퀴 ㄱ자로 휘어서 엄마한테 혼날까봐 자전거 번쩍들고 걸어가면서 사고낸 차주인 아줌마한테 수리해달라하고..정작 수리하러가니 자전거 그부분뿐만아니라 다작살나서 수리못하고 버림 이때 그아줌마가 경비실통해서 우리집 알아내서 엄마가 병원가자고 막 끌고나가서 검사하니까 뼈에 금도안가고 ㅋㅋ 전신타박상                                                                                   |361580848 |489   |true   |qowm****|디나        |2538      |7        |1.686498458972419E9|616239  |43          |2018-12-19 03:52:50|\n",
      "|죽을뻔 한거 1. 언니 친구 자전거 뒤에 타고가다 옆에서 차가 툭 튀어나와서 나랑 그 언니 다 튕겨져나감 근데 허리에 멍만듬 ㅋㅋㅋㅋ 2. 인라인타고 경사 높은대에서 밑으로 내려감 ( 도로였음 오는 차는 없었고 ) 옆에 차 주차되있어서 언니들이 내려가다 주차되있는 차문 손잡이 잡고 멈춘다음에 나보고 내려오라 손짓하곤 손을 뻗음 내려감 근데 언니 손을 못잡아서 그대로 내려감 도로가라 차왔으면 바로 죽는거지만 그때 바로 내가 죽기시러서 옆으로 그냥 넘어짐 그래서 무릎 옆에 다 까져서 몇년이 지난 지금도 흉터가 남음 이건 조금 크게 ? 다친거 1. 빨래 삶아둔 통이 내 뒤에 있는줄 모르고 설거지하는엄마 놀래켜주겠다고 구석에가서 철푸덕 앉았는데 빨래 통 ... 그래서 하반신 전체 화상입음... 2. 뾰족한 연필들고 뛰어가다 넘어졌는데 손바닥 한가운대에 박힘 그래서 손바닥이 조금 뚫린 ? 건가 근데 병원 안가고 그냥 집에서 밴드붙힘 ㅋㅋㅋㅋㅋ지금은 조금 초랗게 점 ? 같이남음                                                           |362367283 |489   |true   |bara****|wldnjsdl    |748       |0        |1.686498471398594E9|616239  |31          |2018-12-31 14:43:17|\n",
      "|저도 비슷한 경험 3번이 있었는데첫번째는 월세살때 집주인할머니가 집에 아무도 없는줄 알고 저희집 물을 몰래 떠가려고 문여셨던거(그 일있고 금방 이사갔어요 도어락없었던 집) 두번째는 이사하고 얼마 안됐을때 문이고장나서 고쳐달라고 집주인한테 얘기했는데 처리가 늦어져서 기다리며 살고있는데 옆집아저씨가 문열고 들어와서 주방까지 걸어오셨어요 안방까지 가서 정신차리고 나가셨다는..문 손잡이모양도 다르고.. 집구조도 달랐는데 그 일있고 부모님한테 말씀드리고 사비로 도어락 달았죠(중국인아저씨라더무섭)쓰니는 여잡니다. 세번째는 집을 사려고 부동산이랑 같이 지금 사는 집을 보러 왔는데 공실인 집에 노숙자가 있더라구요 도어락이 있었지만 1234였어서 들어온듯 했어요 그럴수도있다 생각하고 그 집매물이 너무 좋아서 이사와서 사는데 저혼자 집에있는데 3번정도(매번다른날) 누가 도어락 열려고 누르는데 실패했어요 넘무서워서 호신용품샀습니다.그후에는 없었지만요ㅋㅋ참고로지금집은엘베없는4층인데말이죠                          |404140829 |684   |true   |123w****|정가은배상  |2389      |5        |1.68652509157511E9 |616239  |48          |2020-11-30 15:21:43|\n",
      "|저희 집도 그런적있어요...계속 이상한 아저씨가 인터폰 눌러서 무시하는데 거의1시간 넘게 5분마다 1번씩 누르는거에요....왜 그러냐고 물었더니 저희 차고에 자기 오토바이를 뒀대요 ㅋㅋㅋ 아니 비오는날 고장날까봐 남의 집 지하주차장에 오토바이 두고 다음날 찾아와서 그러는게 상식 적으로 되는거에요?ㅋㅋㅋ                                                                                                                                                                                                                                                                                                                                                                                                                                                                                                                                                                                                                           |405124832 |684   |true   |jd18****|JAY7        |1705      |1        |1.686525094208872E9|616239  |23          |2020-12-14 14:34:03|\n",
      "+--------------------------------------------------------------------------------------------------------------------------------------------------------------------------------------------------------------------------------------------------------------------------------------------------------------------------------------------------------------------------------------------------------------------------------------------------------------------------------------------------------------------------------------------------------------------------------------------------------------------------------------------------------------------------------------------------------------------------------------------------------------------------------------------------------------------------------------------------------------------------------------------------------------------------------+----------+------+-------+--------+------------+----------+---------+-------------------+--------+------------+-------------------+\n",
      "only showing top 20 rows\n",
      "\n"
     ]
    }
   ],
   "source": [
    "filtered_k.show(truncate=False)"
   ]
  },
  {
   "cell_type": "code",
   "execution_count": 85,
   "id": "59a371f4",
   "metadata": {
    "collapsed": true
   },
   "outputs": [
    {
     "name": "stdout",
     "output_type": "stream",
     "text": [
      "+------------------------------------+----------+------+-------+--------+-------------+----------+---------+-------------------+--------+------------+-------------------+\n",
      "|                             comment|comment_id|epi_no|is_best|login_id|     nickname|recomm_cnt|reply_cnt|          save_date|title_id|unrecomm_cnt|         write_date|\n",
      "+------------------------------------+----------+------+-------+--------+-------------+----------+---------+-------------------+--------+------------+-------------------+\n",
      "|      넌 아직 건너오면 안된다... ...| 327625429|   335|   true|asd5****|케이지 사랑해|     12790|        2|1.686477496450047E9|  616239|          50|2017-07-10 14:17:32|\n",
      "|  그림이랑 개 똑같이 생겼엌ㅋㅋㅋ...| 327623979|   335|   true|urmy****|     오오오오|      8858|        0|1.686477500056887E9|  616239|          55|2017-07-10 14:16:01|\n",
      "|                 사지말고 입양하세요| 327626850|   335|   true|ghn0****|         스디|      7839|        0|1.686477502453198E9|  616239|         126|2017-07-10 14:19:05|\n",
      "|  여러분 이번화 보다가 생각났는데...| 327633194|   335|   true|tell****|       똑똑이|      6585|        3|1.686477505323652E9|  616239|          97|2017-07-10 14:25:34|\n",
      "|    와 진짜 견주로서 눈물 났어요....| 327632868|   335|   true|lshm****|     lshm****|      4812|        0|1.686477507322432E9|  616239|          55|2017-07-10 14:25:13|\n",
      "|   여러분 펫샵에서 파는 새끼 개들...| 327636518|   335|   true|cjfb****|     철없는것|      3351|        0|1.686477509318104E9|  616239|          46|2017-07-10 14:29:48|\n",
      "|  여러분 강아지를 분양하든 입양하...| 327653162|   335|   true|tjsg****|       소서노|      2393|        0|1.686477512235206E9|  616239|          25|2017-07-10 15:20:16|\n",
      "|     아이고 나도 참 주책인듯.. 이...| 327630979|   335|   true|anem****|         요다|      1927|        0|1.686477514232702E9|  616239|          33|2017-07-10 14:23:12|\n",
      "|  반려견은 사랑입니다.애견샵 하시...| 327651262|   335|   true|wjsw****|   asdaasdasf|      1467|        0|1.686477517197316E9|  616239|          15|2017-07-10 15:11:18|\n",
      "|   이전에 멋모르고 아는 펫샵에서 ...| 327650023|   335|   true|hell****|      hellrot|      1290|        0|1.686477519240137E9|  616239|          10|2017-07-10 15:05:54|\n",
      "|   주사를 맞춰서 억지로 교배를 시...| 327657883|   335|   true|len0****|         순열|      1107|        0|1.686477521397867E9|  616239|           9|2017-07-10 15:48:38|\n",
      "|    펫 팩토리, 즉 애견공장은 말이...| 327653499|   335|   true|kyh0****|       권용현|       950|        0| 1.68647752455576E9|  616239|          16|2017-07-10 15:22:03|\n",
      "|   베댓들에 반대 누른 사람들은 강...| 327668838|   335|   true|dahy****|         다혜|       874|        0|1.686477526637508E9|  616239|          19|2017-07-10 21:04:09|\n",
      "|  저희집 강아지를 데려올때 무료분...| 327678924|   335|   true|jun8****|       KKooLz|       794|        0|1.686477529680051E9|  616239|           8|2017-07-11 06:06:21|\n",
      "|    데려온지 2년된 우리집 시츄 수...| 327673635|   335|   true|2sil****|         모리|       634|        0|1.686477531837774E9|  616239|          11|2017-07-11 00:08:03|\n",
      "|   현직 연극배우입니다 ㅠ 약간 내...| 224378535|   170|   true|cjsa****|     이야기꾼|     20006|        0|1.686454910086685E9|  616239|         525|2015-10-16 14:41:24|\n",
      "|ㅋㅋㅋㅋㅋㅋㅋㅋ처음보는 배우ㅋㅋ...| 224365820|   170|   true|wjdd****|       붕붕붕|     14359|        0|1.686454914047934E9|  616239|         145|2015-10-16 14:30:37|\n",
      "|   이번화를 보면서 저의 어머니가 ...| 224378304|   170|   true|stor****|       이수민|      9273|        0|1.686454916044782E9|  616239|         176|2015-10-16 14:41:07|\n",
      "|  예수가 보일때까지 때린다고 예수...| 224381105|   170|   true|hide****|     hide****|      8201|        0|1.686454918043113E9|  616239|         101|2015-10-16 14:44:44|\n",
      "|   연극 너무 좋아하지만 정말 비매...| 224383875|   170|   true|yuri****|       으컁컁|      4481|        0| 1.68645492092071E9|  616239|          90|2015-10-16 14:49:00|\n",
      "+------------------------------------+----------+------+-------+--------+-------------+----------+---------+-------------------+--------+------------+-------------------+\n",
      "only showing top 20 rows\n",
      "\n"
     ]
    }
   ],
   "source": [
    "# test: ㅎ 가 없는 댓글 추출해보기 => ㅎ 없는 것만 나옴. 필터링 조건 잘 맞게 건거 확인함 \n",
    "filtered_no_h = df.filter(~col(\"comment\").contains('ㅎ'))\n",
    "\n",
    "# 결과 출력\n",
    "filtered_no_h.show()\n"
   ]
  },
  {
   "cell_type": "code",
   "execution_count": null,
   "id": "3efe2258",
   "metadata": {},
   "outputs": [],
   "source": []
  },
  {
   "cell_type": "markdown",
   "id": "03ee7b31",
   "metadata": {},
   "source": [
    "## 1) ㅎ 혹은 ㅋ 사용 빈도"
   ]
  },
  {
   "cell_type": "markdown",
   "id": "994b966d",
   "metadata": {},
   "source": [
    "### 1-1) ㅎ/ㅋ 사용하는 정도 알아보기"
   ]
  },
  {
   "cell_type": "code",
   "execution_count": 79,
   "id": "0ad4e141",
   "metadata": {},
   "outputs": [
    {
     "name": "stderr",
     "output_type": "stream",
     "text": [
      "                                                                                \r"
     ]
    }
   ],
   "source": [
    "count_with_h = df.filter(col(\"comment\").contains('ㅎ')).count()\n",
    "count_with_k = df.filter(col(\"comment\").contains('ㅋ')).count()"
   ]
  },
  {
   "cell_type": "code",
   "execution_count": 86,
   "id": "e84a0b26",
   "metadata": {},
   "outputs": [
    {
     "name": "stdout",
     "output_type": "stream",
     "text": [
      "댓글에 'ㅎ'가 들어있는 데이터 개수 (개수/전체): 8750/ 563197 비율 :  1.5536304348212082 \n",
      "댓글에 'ㅋ'가 들어있는 데이터 개수 (개수/전체): 95817/ 563197 비율 :  17.01305227123014 \n"
     ]
    }
   ],
   "source": [
    "print(f\"댓글에 'ㅎ'가 들어있는 데이터 개수 (개수/전체): {count_with_h}/ {row_count} 비율 :  {(count_with_h/row_count)*100} \" )\n",
    "print(f\"댓글에 'ㅋ'가 들어있는 데이터 개수 (개수/전체): {count_with_k}/ {row_count} 비율 :  {(count_with_k/row_count)*100} \" )"
   ]
  },
  {
   "cell_type": "markdown",
   "id": "22d1c3da",
   "metadata": {},
   "source": [
    "### 1-2) ㅎ/ㅋ 몇 개씩 쓸까"
   ]
  },
  {
   "cell_type": "markdown",
   "id": "19ad55e6",
   "metadata": {},
   "source": [
    "> ㅎ'의 개수를 집계"
   ]
  },
  {
   "cell_type": "code",
   "execution_count": 101,
   "id": "0140ed4b",
   "metadata": {},
   "outputs": [],
   "source": [
    "from pyspark.sql.functions import length, col, desc\n",
    "\n",
    "# 'ㅎ'의 개수를 집계하는 칼럼 추가\n",
    "df_with_h_count = df.withColumn('h_count', length(df.comment) - length(regexp_replace(df.comment, 'ㅎ', '')))\n",
    "# 'ㅋ'의 개수를 집계하는 칼럼 추가\n",
    "df_with_k_count = df.withColumn('k_count', length(df.comment) - length(regexp_replace(df.comment, 'ㅋ', '')))"
   ]
  },
  {
   "cell_type": "markdown",
   "id": "c571a072",
   "metadata": {},
   "source": [
    "#### 상세 결과 출력"
   ]
  },
  {
   "cell_type": "code",
   "execution_count": 100,
   "id": "5d5ab046",
   "metadata": {
    "collapsed": true
   },
   "outputs": [
    {
     "name": "stderr",
     "output_type": "stream",
     "text": [
      "[Stage 108:====================================================>  (18 + 1) / 19]\r"
     ]
    },
    {
     "name": "stdout",
     "output_type": "stream",
     "text": [
      "+----------------------------------------------------------------------------------------------------------------------------------------------------------------------------------------------------------------------------------------------------------------------------------------------------------------------------------------------------------------------------------------------------------------------------------------------------------------------------------------------------------------------------------------------------------------------------------------------------------------------------------------------------------------------------------------------------------------------------------------------------------------------------------------------------------------------------------------------------------------------------------------------------------------------------------------------------------------------------------------------------------------------------------------+----------+------+-------+--------+----------+----------+---------+-------------------+--------+------------+-------------------+-------+\n",
      "|comment                                                                                                                                                                                                                                                                                                                                                                                                                                                                                                                                                                                                                                                                                                                                                                                                                                                                                                                                                                                                                                 |comment_id|epi_no|is_best|login_id|nickname  |recomm_cnt|reply_cnt|save_date          |title_id|unrecomm_cnt|write_date         |h_count|\n",
      "+----------------------------------------------------------------------------------------------------------------------------------------------------------------------------------------------------------------------------------------------------------------------------------------------------------------------------------------------------------------------------------------------------------------------------------------------------------------------------------------------------------------------------------------------------------------------------------------------------------------------------------------------------------------------------------------------------------------------------------------------------------------------------------------------------------------------------------------------------------------------------------------------------------------------------------------------------------------------------------------------------------------------------------------+----------+------+-------+--------+----------+----------+---------+-------------------+--------+------------+-------------------+-------+\n",
      "|ㅎㅎㅎㅎㅎㅎㅎㅎㅎㅎㅎㅎㅎㅎㅎㅎㅎㅎㅎㅎㅎㅎㅎㅎㅎㅎㅎㅎㅎㅎㅎㅎㅎㅎㅎㅎㅎㅎㅎㅎㅎㅎㅎㅎㅎㅎㅎㅎㅎㅎㅎㅎㅎㅎㅎㅎㅎㅎㅎㅎㅎㅎㅎㅎㅎㅎㅎㅎㅎㅎㅎㅎㅎㅎㅎㅎㅎㅎㅎㅎㅎㅎㅎㅎㅎㅎㅎㅎㅎㅎㅎㅎㅎㅎㅎㅎㅎㅎㅎㅎㅎㅎㅎㅎㅎㅎㅎㅎㅎㅎㅎㅎㅎㅎㅎㅎㅎㅎㅎㅎㅎㅎㅎㅎㅎㅎㅎㅎㅎㅎㅎㅎㅎㅎㅎㅎㅎㅎㅎㅎㅎㅎㅎㅎㅎㅎㅎㅎㅎㅎㅎㅎㅎㅎㅎㅎㅎㅎㅎㅎㅎㅎㅎㅎㅎㅎㅎㅎㅎㅎㅎㅎㅎㅎㅎㅎㅎㅎㅎㅎㅎㅎㅎㅎㅎㅎㅎㅎㅎㅎㅎㅎㅎㅎㅎㅎㅎㅎㅎㅎㅎㅎㅎㅎㅎㅎㅎㅎㅎㅎㅎㅎㅎㅎㅎㅎㅎㅎㅎㅎㅎㅎㅎㅎㅎㅎㅎㅎㅎㅎㅎㅎㅎㅎㅎㅎㅎㅎㅎㅎㅎㅎㅎㅎㅎㅎㅎㅎㅎㅎㅎㅎㅎㅎㅎㅎㅎㅎㅎㅎㅎㅎㅎㅎㅎㅎㅎㅎㅎㅎㅎㅎㅎㅎㅎㅎㅎㅎㅎㅎㅎㅎㅎㅎㅎㅎㅎㅎㅎㅎㅎㅎㅎㅎㅎㅎㅎㅎㅎㅎㅎㅎㅎㅎㅎㅎㅎㅎㅎㅎㅎㅎㅎㅎㅎㅎㅎㅎㅎㅎㅎㅎㅎㅎㅎㅎㅎㅎㅎㅎㅎㅎㅎㅎㅎㅎㅎㅎㅎㅎㅎㅎㅎㅎㅎㅎㅎㅎㅎㅎㅎㅎㅎㅎㅎㅎㅎㅎㅎㅎㅎㅎㅎㅎㅎㅎㅎㅎㅎㅎㅎㅎㅎㅎㅎㅎㅎㅎㅎㅎㅎㅎㅎㅎㅎㅎㅎㅎㅎㅎㅎㅎㅎㅎㅎㅎㅎㅎㅎㅎㅎㅎㅎㅎㅎㅎㅎㅎㅎㅎㅎㅎㅎㅎㅎㅎㅎㅎㅎㅎㅎㅎㅎㅎㅎㅎㅎㅎㅎㅎㅎㅎㅎㅎㅎㅎㅎㅎㅎㅎㅎㅎㅎㅎㅎㅎㅎㅎㅎㅎㅎㅎㅎㅎㅎㅎㅎㅎㅎㅎㅎㅎㅎㅎㅎㅎㅎㅎㅎㅎㅎㅎㅎㅎㅎㅎㅎㅎㅎㅎㅎㅎㅎㅎㅎㅎㅎㅎㅎㅎㅎㅎㅎㅎㅎㅎㅎㅎㅎㅎ|447384392 |30    |true   |jia0****|잡채      |543       |10       |1.683658282043489E9|795330  |6           |2022-11-22 14:09:14|500    |\n",
      "|ㅎㅎㅎㅎㅎㅎㅎㅎㅎㅎㅎㅎㅎㅎㅎㅎㅎㅎㅎㅎㅎㅎㅎㅎㅎㅎㅎㅎㅎㅎㅎㅎㅎㅎㅎㅎㅎㅎㅎㅎㅎㅎㅎㅎㅎㅎㅎㅎㅎㅎㅎㅎㅎㅎㅎㅎㅎㅎㅎㅎㅎㅎㅎㅎㅎㅎㅎㅎㅎㅎㅎㅎㅎㅎㅎㅎㅎㅎㅎㅎㅎㅎㅎㅎㅎㅎㅎㅎㅎㅎㅎㅎㅎㅎㅎㅎㅎㅎㅎㅎㅎㅎㅎㅎㅎㅎㅎㅎㅎㅎㅎㅎㅎㅎㅎㅎㅎㅎㅎㅎㅎㅎㅎㅎㅎㅎㅎㅎㅎㅎㅎㅎㅎㅎㅎㅎㅎㅎㅎㅎㅎㅎㅎㅎㅎㅎㅎㅎㅎㅎㅎㅎㅎㅎㅎㅎㅎㅎㅎㅎㅎㅎㅎㅎㅎㅎㅎㅎㅎㅎㅎㅎㅎㅎㅎㅎㅎㅎㅎㅎㅎㅎㅎㅎㅎㅎㅎㅎㅎㅎㅎㅎㅎㅎㅎㅎㅎㅎㅎㅎㅎㅎㅎㅎㅎㅎㅎㅎㅎㅎㅎㅎㅎㅎㅎㅎㅎㅎㅎㅎㅎㅎㅎㅎㅎㅎㅎㅎㅎㅎㅎㅎㅎㅎㅎㅎㅎㅎㅎㅎㅎㅎㅎㅎㅎㅎㅎㅎㅎㅎㅎㅎㅎㅎㅎㅎㅎㅎㅎㅎㅎㅎㅎㅎㅎㅎㅎㅎㅎㅎㅎㅎㅎㅎㅎㅎㅎㅎㅎㅎㅎㅎㅎㅎㅎㅎㅎㅎㅎㅎㅎㅎㅎㅎㅎㅎㅎㅎㅎㅎㅎㅎㅎㅎㅎㅎㅎㅎㅎㅎㅎㅎㅎㅎㅎㅎㅎㅎㅎㅎㅎㅎㅎㅎㅎㅎㅎㅎㅎㅎㅎㅎㅎㅎㅎㅎ ㅎㅎㅎㅎㅎㅎㅎㅎㅎㅎㅎㅎㅎㅎㅎㅎㅎㅎㅎㅎㅎㅎㅎㅎㅎㅎㅎㅎㅎㅎㅎㅎㅎㅎㅎㅎㅎㅎㅎㅎㅎㅎㅎㅎㅎㅎㅎㅎㅎㅎㅎㅎㅎㅎㅎㅎㅎㅎㅎㅎㅎㅎㅎㅎㅎㅎㅎㅎㅎㅎㅎㅎㅎㅎㅎㅎㅎㅎㅎㅎㅎㅎㅎㅎㅎㅎㅎㅎㅎㅎㅎㅎㅎㅎㅎㅎ이 할미는 가뜩이나 오늘 내일 하는데 일주일 또 언제 기다리나 홀홀                                                                       |450343868 |128   |true   |jjim****|jjimji    |1713      |7        |1.683132250321453E9|748831  |8           |2023-02-01 14:47:06|432    |\n",
      "|ㅋㅎㅋㅎㅋㅎㅋㅎㅋㅎㅋㅎㅋㅎㅎㅋㅋㅎㅋㅎㅋㅎㅋㅎㅋㅎㅋㅎㅋㅎㅋㅎㅎㅋㅎㅎㅋㅎㅋㅎㅋㅎㅋㅎㅋㅎㅋㅎㅋㅎㅋㅎㅋㅎㅋㅎㅋㅎㅋㅎㅎㅋㅎㅋㅎㅋㅎㅋㅎㅋㅎㅋㅎㅋㅎㅋㅎㅋㅎㅋㅎㅋㅎㅎㅋㅎㅋㅎㅋㅎㅋㅎㅋㅎㅋㅎㅋㅎㅋㅎㅋㅎㅋㅎㅋㅎㅋㅎㅋㅎㅋㅎㅋㅎㅋㅎㅋㅎㅋㅎㅎㅋㅎㅋㅎㅋㅎㅋㅎㅋㅎㅋㅎㅋㅎㅋㅎㅋㅎㅋㅎㅋㅎㅋㅎㅋㅎㅋㅎㅋㅎㅋㅎㅋㅎㅋㅎㅋㅎㅋㅎㅋㅎㅋㅎㅋㅎㅋㅎㅋㅎㅋㅎㅋㅎㅋㅎㅋㅎㅋㅎㅎㅋㅎㅋㅎㅋㅎㅋㅎㅋㅎㅋㅎㅋㅎㅋㅎㅋㅎ웃음 밖에 안 나옴 돈 벌기 쉽네                                                                                                                                                                                                                                                                                                                                                                                                                                                                                                                                                                                          |418477967 |28    |true   |th21****|소이      |843       |6        |1.685275750973143E9|762035  |103         |2021-06-28 18:46:54|103    |\n",
      "|아니 근데 저 일진들은 옷이 하나 밖에 없냐 ㅋㅋㅋㅋㅎㅋㅎㅋㅎㅋㅎㅋㅎㅎㅋㅋㅎㅎㅋㅋㅋㅎㅋㅎㅋㅎㅋㅎㅋㅋㅎㅎㅋㅎㅋㅎㅋㅎㅋㅎㅋㅎㅋㅎㅋㅎㅋㅎㅋㅎㅋㅋㅎㅋㅎㅎㅋㅎㅋㅋㅎㅋㅎㅋㅎㅋㅎㅋㅎㅋㅎㅋㅎㅋㅎㅋㅎㅋㅎㅋㅎㅋㅎㅋㅎㅋㅎㅋㅋㅎㅎㅋㅎㅋㅎㅋㅎㅋㅎㅋㅎㅋㅎㅎㅋㅎㅋㅎㅋㅎㅋㅎㅋㅎㅋㅎㅋㅋㅎㅋㅎㅋㅎㅋㅎㅋㅎㅋㅎㅋㅎㅋㅎㅋㅎㅋㅎㅋㅎㅋㅎㅎㅋㅎㅋㅎㅋㅎㅋㅎㅋㅎㅋㅎㅋㅎㅋㅎㅋㅎㅋㅎㅋㅎㅋㅎㅋㅎㅎㅎㅋㅎㅎㅎㅎㅋㅎㅋㅎㅋㅎㅎㅋ 맨날 저옷만 입노                                                                                                                                                                                                                                                                                                                                                                                                                                                                                                                                                                                               |406959330 |375   |true   |jenn****|예진      |12293     |2        |1.685760751001149E9|597447  |374         |2021-01-08 16:21:34|92     |\n",
      "|흐흫ㅎ흐흐흐흫흐흐흫ㅎ흐흐흐흫흐흐흫ㅎ흐흐흐흫흐흐흫ㅎ흐흐흐흫흐흐흫ㅎ흐흐흐흫흐흐흫ㅎ흐흐흐흫흐흐흫ㅎ흐흐흐흫흐흐흫ㅎ흐흐흐흫흐흐흫ㅎ흐흐흐흫흐흐흫ㅎ흐흐흐흫흐흐흫ㅎ흐흐흐흫흐흐흫ㅎ흐흐흐흫흐흐흫ㅎ흐흐흐흫흐흐흫ㅎ흐흐흐흫흐흐흫ㅎ흐흐흐흫흐흐흫ㅎ흐흐흐흫흐흐흫ㅎ흐흐흐흫흐흐흫ㅎ흐흐흐흫흐흐흫ㅎ흐흐흐흫흐흐흫ㅎ흐흐흐흫흐흐흫ㅎ흐흐흐흫흐흐흫ㅎ흐흐흐흫흐흐흫ㅎ흐흐흐흫흐흐흫ㅎ흐흐흐흫흐흐흫ㅎ흐흐흐흫흐흐흫ㅎ흐흐흐흫흐흐흫ㅎ흐흐흐흫흐흐흫ㅎ흐흐흐흫흐흐흫ㅎ흐흐흐흫흐흐흫ㅎ흐흐흐흫흐흐흫ㅎ흐흐흐흫흐흐흫ㅎ흐흐흐흫흐흐흫ㅎ흐흐흐흫흐흐흫ㅎ흐흐흐흫흐흐흫ㅎ흐흐흐흫흐흐흫ㅎ흐흐흐흫흐흐흫ㅎ흐흐흐흫흐흐흫ㅎ흐흐흐흫흐흐흫ㅎ흐흐흐흫흐흐흫ㅎ흐흐흐흫흐흐흫ㅎ흐흐흐흫흐흐흫ㅎ흐흐흐흫흐흐흫ㅎ흐흐흐흫흐흐흫ㅎ흐흐흐흫흐흐흫ㅎ흐흐흐흫흐흐흫ㅎ흐흐흐흫흐흐흫ㅎ흐흐흐흫흐흐흫ㅎ흐흐흐흫흐흐흫ㅎ흐흐흐흫흐흐흫ㅎ흐흐흐흫흐흐흫ㅎ흐흐흐흫흐흐흫ㅎ흐흐흐흫ㅎ광대가 안 내려왛흐흫ㅎ흐흐흐흫흐흐흫ㅎ흐흐흐흫흐흐흫ㅎ흐흐흐흫흐흐흫ㅎ흐흐흐흫흐                                                                                        |441082356 |25    |true   |gofu****|퓨        |1358      |7        |1.683958394893391E9|783524  |8           |2022-07-09 14:39:49|57     |\n",
      "|ㅎㅎㅎㅎㅎㅎㅎㅎㅎㅎㅎㅎㅎㅎㅎㅎ어린 남자보다 더 대단하시잖아요 ㅎㅎㅎㅎㅎㅎㅎㅎㅎㅎㅎㅎㅎㅎㅎㅎㅎㅎㅎㅎㅎㅎㅎㅎㅎㅎㅎㅎㅎㅎㅎㅎㅎㅎㅎㅎㅎㅎㅎㅎ                                                                                                                                                                                                                                                                                                                                                                                                                                                                                                                                                                                                                                                                                                                                                                                                                                                                                        |451410491 |84    |true   |cher****|체리사탕  |503       |3        |1.686135533472827E9|774040  |2           |2023-02-26 14:01:51|56     |\n",
      "|은명이 이름 나오자마자 멈찟하는 귀욤히ㅎㅎㅎㅎㅎㅎㅎㅎㅎㅎㅎㅎㅎㅎㅎㅎㅎㅎㅎㅎㅎㅎㅎㅎㄹㅎㅎㅎㅎㅎㅎㅎㅍㅎㅎㅎㅎㅎㅎㅎㅎㅎㅎㅎㅎㅎㅎㅎㅎㅎㅎㅎㅎ                                                                                                                                                                                                                                                                                                                                                                                                                                                                                                                                                                                                                                                                                                                                                                                                                                                                                        |431876907 |23    |true   |nayu****|oOo       |840       |1        |1.684376535539687E9|780414  |1           |2022-01-16 13:59:35|51     |\n",
      "|ㅎㅎㅎㅎㅎㅎㅎㅎㅎㅎㅎㅎㅎㅎ홓ㅎㅎㅎㅎㅎㅎㅎㅎㅎㅎㅎㅎ홓ㅎㅎㅎㅎㅎㅎㅎㅎㅎㅎㅎㅎㅎㅎㅎㅎㅎㅎㅎㅎㅎ 침좀삼키고                                                                                                                                                                                                                                                                                                                                                                                                                                                                                                                                                                                                                                                                                                                                                                                                                                                                                                                           |437627076 |10    |true   |0315****|이블리    |395       |6        |1.683992013579846E9|793374  |5           |2022-04-29 14:44:53|47     |\n",
      "|ㅎㅎㅎㅎㅎㅎㅎㅎㅎㅎ나 밑에 두컷보고 코피 열라 뿜엇음ㅎㅎㅎㅎㅎㅎ아그니는 존잘에 간달이는 완전 퀸카야 ㅎㅎㅎㅎㅎㅎㅎㅎㅎㅎㅎ**ㅎㅎㅎㅎㅎㅎㅎㅎㅎㅎㅎㅎㅎㅎㅎㅎㅎㅎㅎㅎ                                                                                                                                                                                                                                                                                                                                                                                                                                                                                                                                                                                                                                                                                                                                                                                                                                                                  |111828966 |86    |true   |anh2****|초코홀릭  |8144      |1        |1.686644101209736E9|131385  |150         |2013-05-09 10:56:11|47     |\n",
      "|ㅎㅎ헤ㅔㅎㅎ헿ㅎㅎ헤ㅔㅎㅎ헤헤ㅔ헤헿헤헤ㅔㅎㅎ헤ㅔ헤헤헤헤ㅔ헿ㅎㅎㅎ헤헤헿히힣ㅎ헤헤ㅔ헤헤헤헤ㅔ헤헤헤헤ㅔ헤헤헤헤헿ㅎㅎ헿ㅎ헿헿ㅎ헿ㅎ헿ㅎ헤헿헤헤헤ㅔ헿헤헤호ㅔㅗ헤헤ㅔ헤헤ㅔㅗㅔ헿헤ㅔ헤헤헤헤ㅔ헤헤헤헤헤ㅔ헤헤히ㅣ히히히히ㅣ히히히ㅣ히히히ㅣ시시히시히힛ㅅ히ㅣ히히히 히힣ㅆ 헤헿 헤ㅔ헿히ㅣ기기ㅣ기히히릴리리리릴리ㅣ리리리리히히히히히ㅎㅎ헤ㅔㅎㅎ헿ㅎㅎ헤ㅔㅎㅎ헤헤ㅔ헤헿헤헤ㅔㅎㅎ헤ㅔ헤헤헤헤ㅔ헿ㅎㅎㅎ헤헤헿히힣ㅎ헤헤ㅔ헤헤헤헤ㅔ헤헤헤헤ㅔ헤헤헤헤헿ㅎㅎ헿ㅎ헿헿ㅎ헿ㅎ헿ㅎ헤헿헤헤헤ㅔ헿헤헤호ㅔㅗ헤헤ㅔ헤헤ㅔㅗㅔ헿헤ㅔ헤헤헤헤ㅔ헤헤헤헤헤ㅔ헤헤히ㅣ히히히히ㅣ히히히ㅣ히히히ㅣ시시히시히힛ㅅ히ㅣ히히히 히힣ㅆ 헤헿 헤ㅔ헿히ㅣ기기ㅣ기히히릴리리리릴리ㅣ리리리리히히히히히아ㅏ어우누ㅠ먼헤헤헤헤헤헤헤헤헤헤ㅔ헤헤헿🪰헿                                                                                                                                                                                                                                                                                                    |443147922 |168   |true   |rkdw****|귀요미    |1705      |27       |1.685259009543641E9|730657  |16          |2022-08-20 14:01:43|40     |\n",
      "|ㅋㅋㅋㅋㅋㅋㅋㅋㅋㅋㅋㅋㅋㅋㅋㅎㅋㅎㅋㅎㅋㅋㅎㅋㅎㅋㅎㅋㅎㅋㅎㅎㅋㅎㅋㅎㅋㅎㅋㅎㅋㅎㅋㅎㅋㅎㅋㅎㅋㅎㅋㅎㅋㅎㅋㅎㅋㅎㅎㅋㅎㅋㅎㅋㅎㅋㅎㅋㅎㅋㅎㅌㅎㅋㅎㅌㅎㅋㅎㅋㅎㅋㅎㅋㅎㅋㅎㅋㅎㅋㅎㅋㅋ이래서 이거 봅니다                                                                                                                                                                                                                                                                                                                                                                                                                                                                                                                                                                                                                                                                                                                                                                                                                            |426472111 |30    |true   |dktk****|Lee geono |51        |0        |1.684422640715013E9|771018  |1           |2021-10-18 15:08:08|39     |\n",
      "|히힣힣히ㅣㅣ힣히히힣히히히히히ㅣ히히히힣ㅎㅎ히힣ㅎ히히히히히힣ㅎ히힣힣ㅎ히히ㅣㅣ히히히히ㅣㅎㅎ히히히히힣ㅎ히히히히ㅣ히힣ㅎ히히히히히히히히히히힣히히ㅣㅎ히히히히히히힣히히힣ㅎ히히히ㅣ히히힣ㅎ히ㅣ히히히히히히히히히히힣힣히ㅣㅣ힣히히힣히히히히히ㅣ히히히힣ㅎㅎ히힣ㅎ히히히히히힣ㅎ히힣힣ㅎ히히ㅣㅣ히히히히ㅣㅎㅎ히히히히힣ㅎ히히히히ㅣ히힣ㅎ히히히히히히히히히히힣히히ㅣㅎ히히히히히히힣히히힣ㅎ히히히ㅣ히히힣ㅎ히ㅣ히히히히히히히히히히힣힣히ㅣㅣ힣히히힣히히히히히ㅣ히히히힣ㅎㅎ히힣ㅎ히히히히히힣ㅎ히힣힣ㅎ히히ㅣㅣ히히히히ㅣㅎㅎ히히히히힣ㅎ히히히히ㅣ히힣ㅎ히히히히히히히히히히힣히히ㅣㅎ히히히히히히힣히히힣ㅎ히히히ㅣ히히힣ㅎ히ㅣ히히히히히히히히히                                                                                                                                                                                                                                                                                                                                                                            |434038574 |36    |true   |svtb****|윤서영    |6618      |28       |1.684375869136555E9|758667  |16          |2022-02-20 15:45:27|36     |\n",
      "|ㅋㅎㅋㅎㅋㅎㅎㅋㅎㅋㅎㅋㅎㅋㅎㅋㅎㅎㅋㅎㅋㅎㅋㅎㅋㅎㅋㅎㅎㅋㅎㅋㅎㅋㅎㅋㅎㅋㅎㅋㅎㅋㅎㅎㅋㅎㅋㅎㅋㅎㅋㅎㅋㅎㅋㅎㅋㅎㅎㅋㅎㅋㅎㅋㅎ 뭔지모르겠지만 좋아❤️❤️❤️❤️ 잘 키워서 와줘❤️❤️❤️                                                                                                                                                                                                                                                                                                                                                                                                                                                                                                                                                                                                                                                                                                                                                                                                                                                     |451106324 |36    |true   |newl****|new       |224       |0        |1.683664919992498E9|798293  |0           |2023-02-19 14:31:43|35     |\n",
      "|호텔이라니!!!!!!!!!!!!!!!!!!!!!!!!!ㅎㅎㅎㅎㅎㅎㅎㅎㅎㅎㅎㅎㅎㅎㅎㅎㅎㅎㅎㅎㅎㅎㄹㅎㅎㅎㅎㅎㅎㅎㅎㅎㅎㅎㅎㅎ                                                                                                                                                                                                                                                                                                                                                                                                                                                                                                                                                                                                                                                                                                                                                                                                                                                                                                                             |452858785 |43    |true   |btsb****|sk        |911       |1        |1.68601051350782E9 |797115  |4           |2023-04-04 14:05:23|35     |\n",
      "|작가님이 하시는 말 진짜 ㅋㅋㅋㅋ 독자랑 똑같음ㅋㅋㄹㄹㅋㅎㅋㅎㅋㅎㅋㅎㅋㅎㅋㅎㅋㅎㅋㅎㅎㅋㅎㅋㅎㅋㅎㅋㅎㅋㅎㅎㅋㅎㅋㅎㅋㅎㅋㅎㅋㅎㅋㅎㅎㅋㅎㅋㅎㅋㅎㅋㅎㅋㅎㅋㅎㅎㅋㅎㅋㅎㅋㅎㅋㅎ                                                                                                                                                                                                                                                                                                                                                                                                                                                                                                                                                                                                                                                                                                                                                                                                                                                      |423181857 |21    |true   |guae****|gua       |1891      |3        |1.684375733488068E9|758667  |3           |2021-08-29 14:22:28|33     |\n",
      "|ㅎㅎ.. 당연히 있고말고 내가 있어 내가 아이들 계획^^ ㅎㅎㅎㅎㅎㅎㅎㅎㅎㅎㅎㅎㅎㅎㅎㅎㅎㅎㅎㅎ 아이들 외모는 이미 충분한걸^^? ㅎㅎㅎㅎㅎㅎㅎㅎㅎㅎ                                                                                                                                                                                                                                                                                                                                                                                                                                                                                                                                                                                                                                                                                                                                                                                                                                                                                        |444498480 |17    |true   |ml12****|행복한랭ㅋ|72        |0        |1.683671342122855E9|795041  |1           |2022-09-17 14:02:41|32     |\n",
      "|힣헤헿히히힣ㅎ히힣헤헿ㅎ히힣ㅎ헿히ㅣㅎㅎ헿히ㅣㅎㅎㅎ히히헤ㅔㅎㅎㅎㅎ헤히헤헿ㅎ히히헤헿ㅎ히히헤헿햏헤헿히ㅣㅎ헤헤헿ㅎㅎㅎ히히햏ㅎㅎ히히헤헿ㅎㅎㅎㅎㅎㅎ흫힣히헤헿ㅎㅎ헤해ㅣㅎㅎ헤ㅔㅎ                                                                                                                                                                                                                                                                                                                                                                                                                                                                                                                                                                                                                                                                                                                                                                                                                                                    |440022001 |154   |true   |agne****|KHS       |748       |13       |1.685257756130934E9|730657  |6           |2022-06-18 14:09:52|31     |\n",
      "|벌써 남편 노릇하는 거야? ㅎㅎㅎㅎㅎㅎㅎ 질투? ㅎㅎㅎㅎㅎㅎㅎㅎㅎ 외간 남자 만나고 왔어 ㅎㅎㅎㅎㅎㅎㅎㅎㅎㅎㅎㅎㅎㅎㅎ                                                                                                                                                                                                                                                                                                                                                                                                                                                                                                                                                                                                                                                                                                                                                                                                                                                                                                                   |447806582 |2     |true   |yyeo****|yye       |322       |1        |1.685934211061129E9|802906  |3           |2022-12-02 16:46:10|31     |\n",
      "|영화 제목이ㅋㅋ 보스의 소극적취향 ㅋㅎㅋㅎㅋㅎㅋㄹㅋㄹㄹㅋㄹㅋㅎㅋㅎㅋㅎㅋㅎㅋㅎㅋㅎㅎㅋㅎㅋㅎㅋㅎㅋㄹㅋㄹㅋㅎㅎㅋㅎㅋㅎㅋㅎㅋㅎㅋㅎㅋㅋㄹㅋㄹㅋㄹㅋㅎㅋㅎㅋㅎㅋㅎ작가님 센스짱이닼ㅎ콬ㅎㅋㅎ콯ㅋㅎㅋㅎㅋㅎㅋㄹㅋㅋ                                                                                                                                                                                                                                                                                                                                                                                                                                                                                                                                                                                                                                                                                                                                                                                                                     |431378339 |17    |true   |hyan****|뼝        |526       |8        |1.683971436312923E9|780409  |2           |2022-01-08 14:42:03|30     |\n",
      "|ㅎ..ㅎㅎㅎㅎㅎㅎㅎㅎㅎㅎㅎㅎㅎㅎㅎㅎㅎㅎㅎㅎㅎㅎㅎㅎ담주 기대해도 되는건가요 진짜 작가님 전작 보신 동지분들 아무도 안계신건가요 🥹🥹                                                                                                                                                                                                                                                                                                                                                                                                                                                                                                                                                                                                                                                                                                                                                                                                                                                                                                    |452321268 |50    |true   |oliv****|oliv****  |211       |3        |1.686712668627359E9|783532  |1           |2023-03-21 14:11:20|25     |\n",
      "+----------------------------------------------------------------------------------------------------------------------------------------------------------------------------------------------------------------------------------------------------------------------------------------------------------------------------------------------------------------------------------------------------------------------------------------------------------------------------------------------------------------------------------------------------------------------------------------------------------------------------------------------------------------------------------------------------------------------------------------------------------------------------------------------------------------------------------------------------------------------------------------------------------------------------------------------------------------------------------------------------------------------------------------+----------+------+-------+--------+----------+----------+---------+-------------------+--------+------------+-------------------+-------+\n",
      "only showing top 20 rows\n",
      "\n"
     ]
    },
    {
     "name": "stderr",
     "output_type": "stream",
     "text": [
      "\r",
      "                                                                                \r"
     ]
    }
   ],
   "source": [
    "# 상세 결과 출력\n",
    "df_with_h_count.orderBy(desc('h_count')).show(truncate=False)"
   ]
  },
  {
   "cell_type": "code",
   "execution_count": 102,
   "id": "1099041e",
   "metadata": {
    "collapsed": true
   },
   "outputs": [
    {
     "name": "stderr",
     "output_type": "stream",
     "text": [
      "[Stage 109:====================================================>  (18 + 1) / 19]\r"
     ]
    },
    {
     "name": "stdout",
     "output_type": "stream",
     "text": [
      "+----------------------------------------------------------------------------------------------------------------------------------------------------------------------------------------------------------------------------------------------------------------------------------------------------------------------------------------------------------------------------------------------------------------------------------------------------------------------------------------------------------------------------------------------------------------------------------------------------------------------------------------------------------------------------------------------------------------------------------------------------------------------------------------------------------------------------------------------------------------------------------------------------------------------------------------------------------------------------------------------------------------------------------------+----------+------+-------+--------+----------------+----------+---------+-------------------+--------+------------+-------------------+-------+\n",
      "|comment                                                                                                                                                                                                                                                                                                                                                                                                                                                                                                                                                                                                                                                                                                                                                                                                                                                                                                                                                                                                                                 |comment_id|epi_no|is_best|login_id|nickname        |recomm_cnt|reply_cnt|save_date          |title_id|unrecomm_cnt|write_date         |k_count|\n",
      "+----------------------------------------------------------------------------------------------------------------------------------------------------------------------------------------------------------------------------------------------------------------------------------------------------------------------------------------------------------------------------------------------------------------------------------------------------------------------------------------------------------------------------------------------------------------------------------------------------------------------------------------------------------------------------------------------------------------------------------------------------------------------------------------------------------------------------------------------------------------------------------------------------------------------------------------------------------------------------------------------------------------------------------------+----------+------+-------+--------+----------------+----------+---------+-------------------+--------+------------+-------------------+-------+\n",
      "|ㅋㅋㅋㅋㅋㅋㅋㅋㅋㅋㅋㅋㅋㅋㅋㅋㅋㅋㅋㅋㅋㅋㅋㅋㅋㅋㅋㅋㅋㅋㅋㅋㅋㅋㅋㅋㅋㅋㅋㅋㅋㅋㅋㅋㅋㅋㅋㅋㅋㅋㅋㅋㅋㅋㅋㅋㅋㅋㅋㅋㅋㅋㅋㅋㅋㅋㅋㅋㅋㅋㅋㅋㅋㅋㅋㅋㅋㅋㅋㅋㅋㅋㅋㅋㅋㅋㅋㅋㅋㅋㅋㅋㅋㅋㅋㅋㅋㅋㅋㅋㅋㅋㅋㅋㅋㅋㅋㅋㅋㅋㅋㅋㅋㅋㅋㅋㅋㅋㅋㅋㅋㅋㅋㅋㅋㅋㅋㅋㅋㅋㅋㅋㅋㅋㅋㅋㅋㅋㅋㅋㅋㅋㅋㅋㅋㅋㅋㅋㅋㅋㅋㅋㅋㅋㅋㅋㅋㅋㅋㅋㅋㅋㅋㅋㅋㅋㅋㅋㅋㅋㅋㅋㅋㅋㅋㅋㅋㅋㅋㅋㅋㅋㅋㅋㅋㅋㅋㅋㅋㅋㅋㅋㅋㅋㅋㅋㅋㅋㅋㅋㅋㅋㅋㅋㅋㅋㅋㅋㅋㅋㅋㅋㅋㅋㅋㅋㅋㅋㅋㅋㅋㅋㅋㅋㅋㅋㅋㅋㅋㅋㅋㅋㅋㅋㅋㅋㅋㅋㅋㅋㅋㅋㅋㅋㅋㅋㅋㅋㅋㅋㅋㅋㅋㅋㅋㅋㅋㅋㅋㅋㅋㅋㅋㅋㅋㅋㅋㅋㅋㅋㅋㅋㅋㅋㅋㅋㅋㅋㅋㅋㅋㅋㅋㅋㅋㅋㅋㅋㅋㅋㅋㅋㅋㅋㅋㅋㅋㅋㅋㅋㅋㅋㅋㅋㅋㅋㅋㅋㅋㅋㅋㅋㅋㅋㅋㅋㅋㅋㅋㅋㅋㅋㅋㅋㅋㅋㅋㅋㅋㅋㅋㅋㅋㅋㅋㅋㅋㅋㅋㅋㅋㅋㅋㅋㅋㅋㅋㅋㅋㅋㅋㅋㅋㅋㅋㅋㅋㅋㅋㅋㅋㅋㅋㅋㅋㅋㅋㅋㅋㅋㅋㅋㅋㅋㅋㅋㅋㅋㅋㅋㅋㅋㅋㅋㅋㅋㅋㅋㅋㅋㅋㅋㅋㅋㅋㅋㅋㅋㅋㅋㅋㅋㅋㅋㅋㅋㅋㅋㅋㅋㅋㅋㅋㅋㅋㅋㅋㅋㅋㅋㅋㅋㅋㅋㅋㅋㅋㅋㅋㅋㅋㅋㅋㅋㅋㅋㅋㅋㅋㅋㅋㅋㅋㅋㅋㅋㅋㅋㅋㅋㅋㅋㅋㅋㅋㅋㅋㅋㅋㅋㅋㅋㅋㅋㅋㅋㅋㅋㅋㅋㅋㅋㅋㅋㅋㅋㅋㅋㅋㅋㅋㅋㅋㅋㅋㅋㅋㅋㅋㅋㅋㅋㅋㅋㅋㅋㅋㅋㅋㅋ|381437178 |130   |true   |rmfl****|가을나무그늘에서|6452      |1        |1.687294440599902E9|698918  |102         |2019-12-23 15:29:42|500    |\n",
      "|ㅋㅋㅋㅋㅋㅋㅋㅋㅋㅋㅋㅋㅋㅋㅋㅋㅋㅋㅋㅋㅋㅋㅋㅋㅋㅋㅋㅋㅋㅋㅋㅋㅋㅋㅋㅋㅋㅋㅋㅋㅋㅋㅋㅋㅋㅋㅋㅋㅋㅋㅋㅋㅋㅋㅋㅋㅋㅋㅋㅋㅋㅋㅋㅋㅋㅋㅋㅋㅋㅋㅋㅋㅋㅋㅋㅋㅋㅋㅋㅋㅋㅋㅋㅋㅋㅋㅋㅋㅋㅋㅋㅋㅋㅋㅋㅋㅋㅋㅋㅋㅋㅋㅋㅋㅋㅋㅋㅋㅋㅋㅋㅋㅋㅋㅋㅋㅋㅋㅋㅋㅋㅋㅋㅋㅋㅋㅋㅋㅋㅋㅋㅋㅋㅋㅋㅋㅋㅋㅋㅋㅋㅋㅋㅋㅋㅋㅋㅋㅋㅋㅋㅋㅋㅋㅋㅋㅋㅋㅋㅋㅋㅋㅋㅋㅋㅋㅋㅋㅋㅋㅋㅋㅋㅋㅋㅋㅋㅋㅋㅋㅋㅋㅋㅋㅋㅋㅋㅋㅋㅋㅋㅋㅋㅋㅋㅋㅋㅋㅋㅋㅋㅋㅋㅋㅋㅋㅋㅋㅋㅋㅋㅋㅋㅋㅋㅋㅋㅋㅋㅋㅋㅋㅋㅋㅋㅋㅋㅋㅋㅋㅋㅋㅋㅋㅋㅋㅋㅋㅋㅋㅋㅋㅋㅋㅋㅋㅋㅋㅋㅋㅋㅋㅋㅋㅋㅋㅋㅋㅋㅋㅋㅋㅋㅋㅋㅋㅋㅋㅋㅋㅋㅋㅋㅋㅋㅋㅋㅋㅋㅋㅋㅋㅋㅋㅋㅋㅋㅋㅋㅋㅋㅋㅋㅋㅋㅋㅋㅋㅋㅋㅋㅋㅋㅋㅋㅋㅋㅋㅋㅋㅋㅋㅋㅋㅋㅋㅋㅋㅋㅋㅋㅋㅋㅋㅋㅋㅋㅋㅋㅋㅋㅋㅋㅋㅋㅋㅋㅋㅋㅋㅋㅋㅋㅋㅋㅋㅋㅋㅋㅋㅋㅋㅋㅋㅋㅋㅋㅋㅋㅋㅋㅋㅋㅋㅋㅋㅋㅋㅋㅋㅋㅋㅋㅋㅋㅋㅋㅋㅋㅋㅋㅋㅋㅋㅋㅋㅋㅋㅋㅋㅋㅋㅋㅋㅋㅋㅋㅋㅋㅋㅋㅋㅋㅋㅋㅋㅋㅋㅋㅋㅋㅋㅋㅋㅋㅋㅋㅋㅋㅋㅋㅋㅋㅋㅋㅋㅋㅋㅋㅋㅋㅋㅋㅋㅋㅋㅋㅋㅋㅋㅋㅋㅋㅋㅋㅋㅋㅋㅋㅋㅋㅋㅋㅋㅋㅋㅋㅋㅋㅋㅋㅋㅋㅋㅋㅋㅋㅋㅋㅋㅋㅋㅋㅋㅋㅋㅋㅋㅋㅋㅋㅋㅋㅋㅋㅋㅋㅋㅋㅋㅋㅋㅋㅋㅋㅋㅋㅋㅋㅋ|452209773 |33    |true   |psja****|BassSea         |364       |7        |1.683917462537999E9|800101  |5           |2023-03-18 15:23:41|500    |\n",
      "|ㅋㅋㅋㅋㅋㅋㅋㅋㅋㅋㅋㅋㅋㅋㅋㅋㅋㅋㅋㅋㅋㅋㅋㅋㅋㅋㅋㅋㅋㅋㅋㅋㅋㅋㅋㅋㅋㅋㅋㅋㅋㅋㅋㅋㅋㅋㅋㅋㅋㅋㅋㅋㅋㅋㅋㅋㅋㅋㅋㅋㅋㅋㅋㅋㅋㅋㅋㅋㅋㅋㅋㅋㅋㅋㅋㅋㅋㅋㅋㅋㅋㅋㅋㅋㅋㅋㅋㅋㅋㅋㅋㅋㅋㅋㅋㅋㅋㅋㅋㅋㅋㅋㅋㅋㅋㅋㅋㅋㅋㅋㅋㅋㅋㅋㅋㅋㅋㅋㅋㅋㅋㅋㅋㅋㅋㅋㅋㅋㅋㅋㅋㅋㅋㅋㅋㅋㅋㅋㅋㅋㅋㅋㅋㅋㅋㅋㅋㅋㅋㅋㅋㅋㅋㅋㅋㅋㅋㅋㅋㅋㅋㅋㅋㅋㅋㅋㅋㅋㅋㅋㅋㅋㅋㅋㅋㅋㅋㅋㅋㅋㅋㅋㅋㅋㅋㅋㅋㅋㅋㅋㅋㅋㅋㅋㅋㅋㅋㅋㅋㅋㅋㅋㅋㅋㅋㅋㅋㅋㅋㅋㅋㅋㅋㅋㅋㅋㅋㅋㅋㅋㅋㅋㅋㅋㅋㅋㅋㅋㅋㅋㅋㅋㅋㅋㅋㅋㅋㅋㅋㅋㅋㅋㅋㅋㅋㅋㅋㅋㅋㅋㅋㅋㅋㅋㅋㅋㅋㅋㅋㅋㅋㅋㅋㅋㅋㅋㅋㅋㅋㅋㅋㅋㅋㅋㅋㅋㅋㅋㅋㅋㅋㅋㅋㅋㅋㅋㅋㅋㅋㅋㅋㅋㅋㅋㅋㅋㅋㅋㅋㅋㅋㅋㅋㅋㅋㅋㅋㅋㅋㅋㅋㅋㅋㅋㅋㅋㅋㅋㅋㅋㅋㅋㅋㅋㅋㅋㅋㅋㅋㅋㅋㅋㅋㅋㅋㅋㅋㅋㅋㅋㅋㅋㅋㅋㅋㅋㅋㅋㅋㅋㅋㅋㅋㅋㅋㅋㅋㅋㅋㅋㅋㅋㅋㅋㅋㅋㅋㅋㅋㅋㅋㅋㅋㅋㅋㅋㅋㅋㅋㅋㅋㅋㅋㅋㅋㅋㅋㅋㅋㅋㅋㅋㅋㅋㅋㅋㅋㅋㅋㅋㅋㅋㅋㅋㅋㅋㅋㅋㅋㅋㅋㅋㅋㅋㅋㅋㅋㅋㅋㅋㅋㅋㅋㅋㅋㅋㅋㅋㅋㅋㅋㅋㅋㅋㅋㅋㅋㅋㅋㅋㅋㅋㅋㅋㅋㅋㅋㅋㅋㅋㅋㅋㅋㅋㅋㅋㅋㅋㅋㅋㅋㅋㅋㅋㅋㅋㅋㅋㅋㅋㅋㅋㅋㅋㅋㅋㅋㅋㅋㅋㅋㅋㅋㅋㅋㅋㅋㅋㅋㅋㅋㅋㅋㅋㅋㅋㅋㅋㅋㅋ|438330256 |46    |true   |kjw0****|김재욱          |672       |18       |1.684977103388538E9|768473  |5           |2022-05-14 14:32:23|500    |\n",
      "|ㅋㅋㅋㅋㅋㅋㅋㅋㅋㅋㅋㅋㅋㅋㅋㅋㅋㅋㅋㅋㅋㅋㅋㅋㅋㅋㅋㅋㅋㅋㅋㅋㅋㅋㅋㅋㅋㅋㅋㅋㅋㅋㅋㅋㅋㅋㅋㅋㅋㅋㅋㅋㅋㅋㅋㅋㅋㅋㅋㅋㅋㅋㅋㅋㅋㅋㅋㅋㅋㅋㅋㅋㅋㅋㅋㅋㅋㅋㅋㅋㅋㅋㅋㅋㅋㅋㅋㅋㅋㅋㅋㅋㅋㅋㅋㅋㅋㅋㅋㅋㅋㅋㅋㅋㅋㅋㅋㅋㅋㅋㅋㅋㅋㅋㅋㅋㅋㅋㅋㅋㅋㅋㅋㅋㅋㅋㅋㅋㅋㅋㅋㅋㅋㅋㅋㅋㅋㅋㅋㅋㅋㅋㅋㅋㅋㅋㅋㅋㅋㅋㅋㅋㅋㅋㅋㅋㅋㅋㅋㅋㅋㅋㅋㅋㅋㅋㅋㅋㅋㅋㅋㅋㅋㅋㅋㅋㅋㅋㅋㅋㅋㅋㅋㅋㅋㅋㅋㅋㅋㅋㅋㅋㅋㅋㅋㅋㅋㅋㅋㅋㅋㅋㅋㅋㅋㅋㅋㅋㅋㅋㅋㅋㅋㅋㅋㅋㅋㅋㅋㅋㅋㅋㅋㅋㅋㅋㅋㅋㅋㅋㅋㅋㅋㅋㅋㅋㅋㅋㅋㅋㅋㅋㅋㅋㅋㅋㅋㅋㅋㅋㅋㅋㅋㅋㅋㅋㅋㅋㅋㅋㅋㅋㅋㅋㅋㅋㅋㅋㅋㅋㅋㅋㅋㅋㅋㅋㅋㅋㅋㅋㅋㅋㅋㅋㅋㅋㅋㅋㅋㅋㅋㅋㅋㅋㅋㅋㅋㅋㅋㅋㅋㅋㅋㅋㅋㅋㅋㅋㅋㅋㅋㅋㅋㅋㅋㅋㅋㅋㅋㅋㅋㅋㅋㅋㅋㅋㅋㅋㅋㅋㅋㅋㅋㅋㅋㅋㅋㅋㅋㅋㅋㅋㅋㅋㅋㅋㅋㅋㅋㅋㅋㅋㅋㅋㅋㅋㅋㅋㅋㅋㅋㅋㅋㅋㅋㅋㅋㅋㅋㅋㅋㅋㅋㅋㅋㅋㅋㅋㅋㅋㅋㅋㅋㅋㅋㅋㅋㅋㅋㅋㅋㅋㅋㅋㅋㅋㅋㅋㅋㅋㅋㅋㅋㅋㅋㅋㅋㅋㅋㅋㅋㅋㅋㅋㅋㅋㅋㅋㅋㅋㅋㅋㅋㅋㅋㅋㅋㅋㅋㅋㅋㅋㅋㅋㅋㅋㅋㅋㅋㅋㅋㅋㅋㅋㅋㅋㅋㅋㅋㅋㅋㅋㅋㅋㅋㅋㅋㅋㅋㅋㅋㅋㅋㅋㅋㅋㅋㅋㅋㅋㅋㅋㅋㅋㅋㅋㅋㅋㅋㅋㅋㅋㅋㅋㅋㅋㅋㅋㅋㅋㅋㅋㅋㅋㅋㅋㅋㅋㅋㅋ|419433109 |13    |true   |min_****|min             |104       |3        |1.684421508575137E9|771018  |2           |2021-07-12 14:22:11|500    |\n",
      "|ㅋㅋㅋㅋㅋㅋㅋㅋㅋㅋㅋㅋㅋㅋㅋㅋㅋㅋㅋㅋㅋㅋㅋㅋㅋㅋㅋㅋㅋㅋㅋㅋㅋㅋㅋㅋㅋㅋㅋㅋㅋㅋㅋㅋㅋㅋㅋㅋㅋㅋㅋㅋㅋㅋㅋㅋㅋㅋㅋㅋㅋㅋㅋㅋㅋㅋㅋㅋㅋㅋㅋㅋㅋㅋㅋㅋㅋㅋㅋㅋㅋㅋㅋㅋㅋㅋㅋㅋㅋㅋㅋㅋㅋㅋㅋㅋㅋㅋㅋㅋㅋㅋㅋㅋㅋㅋㅋㅋㅋㅋㅋㅋㅋㅋㅋㅋㅋㅋㅋㅋㅋㅋㅋㅋㅋㅋㅋㅋㅋㅋㅋㅋㅋㅋㅋㅋㅋㅋㅋㅋㅋㅋㅋㅋㅋㅋㅋㅋㅋㅋㅋㅋㅋㅋㅋㅋㅋㅋㅋㅋㅋㅋㅋㅋㅋㅋㅋㅋㅋㅋㅋㅋㅋㅋㅋㅋㅋㅋㅋㅋㅋㅋㅋㅋㅋㅋㅋㅋㅋㅋㅋㅋㅋㅋㅋㅋㅋㅋㅋㅋㅋㅋㅋㅋㅋㅋㅋㅋㅋㅋㅋㅋㅋㅋㅋㅋㅋㅋㅋㅋㅋㅋㅋㅋㅋㅋㅋㅋㅋㅋㅋㅋㅋㅋㅋㅋㅋㅋㅋㅋㅋㅋㅋㅋㅋㅋㅋㅋㅋㅋㅋㅋㅋㅋㅋㅋㅋㅋㅋㅋㅋㅋㅋㅋㅋㅋㅋㅋㅋㅋㅋㅋㅋㅋㅋㅋㅋㅋㅋㅋㅋㅋㅋㅋㅋㅋㅋㅋㅋㅋㅋㅋㅋㅋㅋㅋㅋㅋㅋㅋㅋㅋㅋㅋㅋㅋㅋㅋㅋㅋㅋㅋㅋㅋㅋㅋㅋㅋㅋㅋㅋㅋㅋㅋㅋㅋㅋㅋㅋㅋㅋㅋㅋㅋㅋㅋㅋㅋㅋㅋㅋㅋㅋㅋㅋㅋㅋㅋㅋㅋㅋㅋㅋㅋㅋㅋㅋㅋㅋㅋㅋㅋㅋㅋㅋㅋㅋㅋㅋㅋㅋㅋㅋㅋㅋㅋㅋㅋㅋㅋㅋㅋㅋㅋㅋㅋㅋㅋㅋㅋㅋㅋㅋㅋㅋㅋㅋㅋㅋㅋㅋㅋㅋㅋㅋㅋㅋㅋㅋㅋㅋㅋㅋㅋㅋㅋㅋㅋㅋㅋㅋㅋㅋㅋㅋㅋㅋㅋㅋㅋㅋㅋㅋㅋㅋㅋㅋㅋㅋㅋㅋㅋㅋㅋㅋㅋㅋㅋㅋㅋㅋㅋㅋㅋㅋㅋㅋㅋㅋㅋㅋㅋㅋㅋㅋㅋㅋㅋㅋㅋㅋㅋㅋㅋㅋㅋㅋㅋㅋㅋㅋㅋㅋㅋㅋㅋㅋㅋㅋㅋㅋㅋㅋㅋㅋㅋㅋㅋㅋㅋ|433827662 |35    |true   |rleh****|도연            |3400      |25       |1.685306290592594E9|777767  |26          |2022-02-17 13:58:13|500    |\n",
      "|ㅋㅋㅋㅋㅋㅋㅋㅋㅋㅋㅋㅋㅋㅋㅋㅋㅋㅋㅋㅋㅋㅋㅋㅋㅋㅋㅋㅋㅋㅋㅋㅋㅋㅋㅋㅋㅋㅋㅋㅋㅋㅋㅋㅋㅋㅋㅋㅋㅋㅋㅋㅋㅋㅋㅋㅋㅋㅋㅋㅋㅋㅋㅋㅋㅋㅋㅋㅋㅋㅋㅋㅋㅋㅋㅋㅋㅋㅋㅋㅋㅋㅋㅋㅋㅋㅋㅋㅋㅋㅋㅋㅋㅋㅋㅋㅋㅋㅋㅋㅋㅋㅋㅋㅋㅋㅋㅋㅋㅋㅋㅋㅋㅋㅋㅋㅋㅋㅋㅋㅋㅋㅋㅋㅋㅋㅋㅋㅋㅋㅋㅋㅋㅋㅋㅋㅋㅋㅋㅋㅋㅋㅋㅋㅋㅋㅋㅋㅋㅋㅋㅋㅋㅋㅋㅋㅋㅋㅋㅋㅋㅋㅋㅋㅋㅋㅋㅋㅋㅋㅋㅋㅋㅋㅋㅋㅋㅋㅋㅋㅋㅋㅋㅋㅋㅋㅋㅋㅋㅋㅋㅋㅋㅋㅋㅋㅋㅋㅋㅋㅋㅋㅋㅋㅋㅋㅋㅋㅋㅋㅋㅋㅋㅋㅋㅋㅋㅋㅋㅋㅋㅋㅋㅋㅋㅋㅋㅋㅋㅋㅋㅋㅋㅋㅋㅋㅋㅋㅋㅋㅋㅋㅋㅋㅋㅋㅋㅋㅋㅋㅋㅋㅋㅋㅋㅋㅋㅋㅋㅋㅋㅋㅋㅋㅋㅋㅋㅋㅋㅋㅋㅋㅋㅋㅋㅋㅋㅋㅋㅋㅋㅋㅋㅋㅋㅋㅋㅋㅋㅋㅋㅋㅋㅋㅋㅋㅋㅋㅋㅋㅋㅋㅋㅋㅋㅋㅋㅋㅋㅋㅋㅋㅋㅋㅋㅋㅋㅋㅋㅋㅋㅋㅋㅋㅋㅋㅋㅋㅋㅋㅋㅋㅋㅋㅋㅋㅋㅋㅋㅋㅋㅋㅋㅋㅋㅋㅋㅋㅋㅋㅋㅋㅋㅋㅋㅋㅋㅋㅋㅋㅋㅋㅋㅋㅋㅋㅋㅋㅋㅋㅋㅋㅋㅋㅋㅋㅋㅋㅋㅋㅋㅋㅋㅋㅋㅋㅋㅋㅋㅋㅋㅋㅋㅋㅋㅋㅋㅋㅋㅋㅋㅋㅋㅋㅋㅋㅋㅋㅋㅋㅋㅋㅋㅋㅋㅋㅋㅋㅋㅋㅋㅋㅋㅋㅋㅋㅋㅋㅋㅋㅋㅋㅋㅋㅋㅋㅋㅋㅋㅋㅋㅋㅋㅋㅋㅋㅋㅋㅋㅋㅋㅋㅋㅋㅋㅋㅋㅋㅋㅋㅋㅋㅋㅋㅋㅋㅋㅋㅋㅋㅋㅋㅋㅋㅋㅋㅋㅋㅋㅋㅋㅋㅋㅋㅋㅋㅋㅋㅋㅋㅋㅋㅋㅋㅋㅋㅋㅋㅋㅋㅋ|417591559 |12    |true   |mail****|전상욱          |2027      |14       |1.684421427088184E9|771018  |11          |2021-06-14 14:15:13|500    |\n",
      "|ㅋㅋㅋㅋㅋㅋㅋㅋㅋㅋㅋㅋㅋㅋㅋㅋㅋㅋㅋㅋㅋㅋㅋㅋㅋㅋㅋㅋㅋㅋㅋㅋㅋㅋㅋㅋㅋㅋㅋㅋㅋㅋㅋㅋㅋㅋㅋㅋㅋㅋㅋㅋㅋㅋㅋㅋㅋㅋㅋㅋㅋㅋㅋㅋㅋㅋㅋㅋㅋㅋㅋㅋㅋㅋㅋㅋㅋㅋㅋㅋㅋㅋㅋㅋㅋㅋㅋㅋㅋㅋㅋㅋㅋㅋㅋㅋㅋㅋㅋㅋㅋㅋㅋㅋㅋㅋㅋㅋㅋㅋㅋㅋㅋㅋㅋㅋㅋㅋㅋㅋㅋㅋㅋㅋㅋㅋㅋㅋㅋㅋㅋㅋㅋㅋㅋㅋㅋㅋㅋㅋㅋㅋㅋㅋㅋㅋㅋㅋㅋㅋㅋㅋㅋㅋㅋㅋㅋㅋㅋㅋㅋㅋㅋㅋㅋㅋㅋㅋㅋㅋㅋㅋㅋㅋㅋㅋㅋㅋㅋㅋㅋㅋㅋㅋㅋㅋㅋㅋㅋㅋㅋㅋㅋㅋㅋㅋㅋㅋㅋㅋㅋㅋㅋㅋㅋㅋㅋㅋㅋㅋㅋㅋㅋㅋㅋㅋㅋㅋㅋㅋㅋㅋㅋㅋㅋㅋㅋㅋㅋㅋㅋㅋㅋㅋㅋㅋㅋㅋㅋㅋㅋㅋㅋㅋㅋㅋㅋㅋㅋㅋㅋㅋㅋㅋㅋㅋㅋㅋㅋㅋㅋㅋㅋㅋㅋㅋㅋㅋㅋㅋㅋㅋㅋㅋㅋㅋㅋㅋㅋㅋㅋㅋㅋㅋㅋㅋㅋㅋㅋㅋㅋㅋㅋㅋㅋㅋㅋㅋㅋㅋㅋㅋㅋㅋㅋㅋㅋㅋㅋㅋㅋㅋㅋㅋㅋㅋㅋㅋㅋㅋㅋㅋㅋㅋㅋㅋㅋㅋㅋㅋㅋㅋㅋㅋㅋㅋㅋㅋㅋㅋㅋㅋㅋㅋㅋㅋㅋㅋㅋㅋㅋㅋㅋㅋㅋㅋㅋㅋㅋㅋㅋㅋㅋㅋㅋㅋㅋㅋㅋㅋㅋㅋㅋㅋㅋㅋㅋㅋㅋㅋㅋㅋㅋㅋㅋㅋㅋㅋㅋㅋㅋㅋㅋㅋㅋㅋㅋㅋㅋㅋㅋㅋㅋㅋㅋㅋㅋㅋㅋㅋㅋㅋㅋㅋㅋㅋㅋㅋㅋㅋㅋㅋㅋㅋㅋㅋㅋㅋㅋㅋㅋㅋㅋㅋㅋㅋㅋㅋㅋㅋㅋㅋㅋㅋㅋㅋㅋㅋㅋㅋㅋㅋㅋㅋㅋㅋㅋㅋㅋㅋㅋㅋㅋㅋㅋㅋㅋㅋㅋㅋㅋㅋㅋㅋㅋㅋㅋㅋㅋㅋㅋㅋㅋㅋㅋㅋㅋㅋㅋㅋㅋㅋㅋㅋㅋㅋㅋㅋㅋㅋ|424304525 |63    |true   |dusg****|Eminem          |1427      |8        |1.684851324998059E9|750826  |14          |2021-09-15 09:59:38|500    |\n",
      "|ㅋㅋㅋㅋㅋㅋㅋㅋㅋㅋㅋㅋㅋㅋㅋㅋㅋㅋㅋㅋㅋㅋㅋㅋㅋㅋㅋㅋㅋㅋㅋㅋㅋㅋㅋㅋㅋㅋㅋㅋㅋㅋㅋㅋㅋㅋㅋㅋㅋㅋㅋㅋㅋㅋㅋㅋㅋㅋㅋㅋㅋㅋㅋㅋㅋㅋㅋㅋㅋㅋㅋㅋㅋㅋㅋㅋㅋㅋㅋㅋㅋㅋㅋㅋㅋㅋㅋㅋㅋㅋㅋㅋㅋㅋㅋㅋㅋㅋㅋㅋㅋㅋㅋㅋㅋㅋㅋㅋㅋㅋㅋㅋㅋㅋㅋㅋㅋㅋㅋㅋㅋㅋㅋㅋㅋㅋㅋㅋㅋㅋㅋㅋㅋㅋㅋㅋㅋㅋㅋㅋㅋㅋㅋㅋㅋㅋㅋㅋㅋㅋㅋㅋㅋㅋㅋㅋㅋㅋㅋㅋㅋㅋㅋㅋㅋㅋㅋㅋㅋㅋㅋㅋㅋㅋㅋㅋㅋㅋㅋㅋㅋㅋㅋㅋㅋㅋㅋㅋㅋㅋㅋㅋㅋㅋㅋㅋㅋㅋㅋㅋㅋㅋㅋㅋㅋㅋㅋㅋㅋㅋㅋㅋㅋㅋㅋㅋㅋㅋㅋㅋㅋㅋㅋㅋㅋㅋㅋㅋㅋㅋㅋㅋㅋㅋㅋㅋㅋㅋㅋㅋㅋㅋㅋㅋㅋㅋㅋㅋㅋㅋㅋㅋㅋㅋㅋㅋㅋㅋㅋㅋㅋㅋㅋㅋㅋㅋㅋㅋㅋㅋㅋㅋㅋㅋㅋㅋㅋㅋㅋㅋㅋㅋㅋㅋㅋㅋㅋㅋㅋㅋㅋㅋㅋㅋㅋㅋㅋㅋㅋㅋㅋㅋㅋㅋㅋㅋㅋㅋㅋㅋㅋㅋㅋㅋㅋㅋㅋㅋㅋㅋㅋㅋㅋㅋㅋㅋㅋㅋㅋㅋㅋㅋㅋㅋㅋㅋㅋㅋㅋㅋㅋㅋㅋㅋㅋㅋㅋㅋㅋㅋㅋㅋㅋㅋㅋㅋㅋㅋㅋㅋㅋㅋㅋㅋㅋㅋㅋㅋㅋㅋㅋㅋㅋㅋㅋㅋㅋㅋㅋㅋㅋㅋㅋㅋㅋㅋㅋㅋㅋㅋㅋㅋㅋㅋㅋㅋㅋㅋㅋㅋㅋㅋㅋㅋㅋㅋㅋㅋㅋㅋㅋㅋㅋㅋㅋㅋㅋㅋㅋㅋㅋㅋㅋㅋㅋㅋㅋㅋㅋㅋㅋㅋㅋㅋㅋㅋㅋㅋㅋㅋㅋㅋㅋㅋㅋㅋㅋㅋㅋㅋㅋㅋㅋㅋㅋㅋㅋㅋㅋㅋㅋㅋㅋㅋㅋㅋㅋㅋㅋㅋㅋㅋㅋㅋㅋㅋㅋㅋㅋㅋㅋㅋㅋㅋㅋㅋㅋㅋㅋㅋㅋㅋㅋㅋㅋㅋㅋㅋㅋㅋ|376432925 |305   |true   |junr****|어머            |130242    |34       |1.68575327636433E9 |597447  |318         |2019-09-06 14:16:16|500    |\n",
      "|ㅋㅋㅋㅋㅋㅋㅋㅋㅋㅋㅋㅋㅋㅋㅋㅋㅋㅋㅋㅋㅋㅋㅋㅋㅋㅋㅋㅋㅋㅋㅋㅋㅋㅋㅋㅋㅋㅋㅋㅋㅋㅋㅋㅋㅋㅋㅋㅋㅋㅋㅋㅋㅋㅋㅋㅋㅋㅋㅋㅋㅋㅋㅋㅋㅋㅋㅋㅋㅋㅋㅋㅋㅋㅋㅋㅋㅋㅋㅋㅋㅋㅋㅋㅋㅋㅋㅋㅋㅋㅋㅋㅋㅋㅋㅋㅋㅋㅋㅋㅋㅋㅋㅋㅋㅋㅋㅋㅋㅋㅋㅋㅋㅋㅋㅋㅋㅋㅋㅋㅋㅋㅋㅋㅋㅋㅋㅋㅋㅋㅋㅋㅋㅋㅋㅋㅋㅋㅋㅋㅋㅋㅋㅋㅋㅋㅋㅋㅋㅋㅋㅋㅋㅋㅋㅋㅋㅋㅋㅋㅋㅋㅋㅋㅋㅋㅋㅋㅋㅋㅋㅋㅋㅋㅋㅋㅋㅋㅋㅋㅋㅋㅋㅋㅋㅋㅋㅋㅋㅋㅋㅋㅋㅋㅋㅋㅋㅋㅋㅋㅋㅋㅋㅋㅋㅋㅋㅋㅋㅋㅋㅋㅋㅋㅋㅋㅋㅋㅋㅋㅋㅋㅋㅋㅋㅋㅋㅋㅋㅋㅋㅋㅋㅋㅋㅋㅋㅋㅋㅋㅋㅋㅋㅋㅋㅋㅋㅋㅋㅋㅋㅋㅋㅋㅋㅋㅋㅋㅋㅋㅋㅋㅋㅋㅋㅋㅋㅋㅋㅋㅋㅋㅋㅋㅋㅋㅋㅋㅋㅋㅋㅋㅋㅋㅋㅋㅋㅋㅋㅋㅋㅋㅋㅋㅋㅋㅋㅋㅋㅋㅋㅋㅋㅋㅋㅋㅋㅋㅋㅋㅋㅋㅋㅋㅋㅋㅋㅋㅋㅋㅋㅋㅋㅋㅋㅋㅋㅋㅋㅋㅋㅋㅋㅋㅋㅋㅋㅋㅋㅋㅋㅋㅋㅋㅋㅋㅋㅋㅋㅋㅋㅋㅋㅋㅋㅋㅋㅋㅋㅋㅋㅋㅋㅋㅋㅋㅋㅋㅋㅋㅋㅋㅋㅋㅋㅋㅋㅋㅋㅋㅋㅋㅋㅋㅋㅋㅋㅋㅋㅋㅋㅋㅋㅋㅋㅋㅋㅋㅋㅋㅋㅋㅋㅋㅋㅋㅋㅋㅋㅋㅋㅋㅋㅋㅋㅋㅋㅋㅋㅋㅋㅋㅋㅋㅋㅋㅋㅋㅋㅋㅋㅋㅋㅋㅋㅋㅋㅋㅋㅋㅋㅋㅋㅋㅋㅋㅋㅋㅋㅋㅋㅋㅋㅋㅋㅋㅋㅋㅋㅋㅋㅋㅋㅋㅋㅋㅋㅋㅋㅋㅋㅋㅋㅋㅋㅋㅋㅋㅋㅋㅋㅋㅋㅋㅋㅋㅋㅋㅋㅋㅋㅋㅋㅋㅋㅋㅋㅋㅋㅋㅋ|420785222 |212   |true   |qvp5****|파오리          |159       |2        |1.687298831116498E9|698918  |21          |2021-07-29 11:33:40|500    |\n",
      "|ㅋㅋㅋㅋㅋㅋㅋㅋㅋㅋㅋㅋㅋㅋㅋㅋㅋㅋㅋㅋㅋㅋㅋㅋㅋㅋㅋㅋㅋㅋㅋㅋㅋㅋㅋㅋㅋㅋㅋㅋㅋㅋㅋㅋㅋㅋㅋㅋㅋㅋㅋㅋㅋㅋㅋㅋㅋㅋㅋㅋㅋㅋㅋㅋㅋㅋㅋㅋㅋㅋㅋㅋㅋㅋㅋㅋㅋㅋㅋㅋㅋㅋㅋㅋㅋㅋㅋㅋㅋㅋㅋㅋㅋㅋㅋㅋㅋㅋㅋㅋㅋㅋㅋㅋㅋㅋㅋㅋㅋㅋㅋㅋㅋㅋㅋㅋㅋㅋㅋㅋㅋㅋㅋㅋㅋㅋㅋㅋㅋㅋㅋㅋㅋㅋㅋㅋㅋㅋㅋㅋㅋㅋㅋㅋㅋㅋㅋㅋㅋㅋㅋㅋㅋㅋㅋㅋㅋㅋㅋㅋㅋㅋㅋㅋㅋㅋㅋㅋㅋㅋㅋㅋㅋㅋㅋㅋㅋㅋㅋㅋㅋㅋㅋㅋㅋㅋㅋㅋㅋㅋㅋㅋㅋㅋㅋㅋㅋㅋㅋㅋㅋㅋㅋㅋㅋㅋㅋㅋㅋㅋㅋㅋㅋㅋㅋㅋㅋㅋㅋㅋㅋㅋㅋㅋㅋㅋㅋㅋㅋㅋㅋㅋㅋㅋㅋㅋㅋㅋㅋㅋㅋㅋㅋㅋㅋㅋㅋㅋㅋㅋㅋㅋㅋㅋㅋㅋㅋㅋㅋㅋㅋㅋㅋㅋㅋㅋㅋㅋㅋㅋㅋㅋㅋㅋㅋㅋㅋㅋㅋㅋㅋㅋㅋㅋㅋㅋㅋㅋㅋㅋㅋㅋㅋㅋㅋㅋㅋㅋㅋㅋㅋㅋㅋㅋㅋㅋㅋㅋㅋㅋㅋㅋㅋㅋㅋㅋㅋㅋㅋㅋㅋㅋㅋㅋㅋㅋㅋㅋㅋㅋㅋㅋㅋㅋㅋㅋㅋㅋㅋㅋㅋㅋㅋㅋㅋㅋㅋㅋㅋㅋㅋㅋㅋㅋㅋㅋㅋㅋㅋㅋㅋㅋㅋㅋㅋㅋㅋㅋㅋㅋㅋㅋㅋㅋㅋㅋㅋㅋㅋㅋㅋㅋㅋㅋㅋㅋㅋㅋㅋㅋㅋㅋㅋㅋㅋㅋㅋㅋㅋㅋㅋㅋㅋㅋㅋㅋㅋㅋㅋㅋㅋㅋㅋㅋㅋㅋㅋㅋㅋㅋㅋㅋㅋㅋㅋㅋㅋㅋㅋㅋㅋㅋㅋㅋㅋㅋㅋㅋㅋㅋㅋㅋㅋㅋㅋㅋㅋㅋㅋㅋㅋㅋㅋㅋㅋㅋㅋㅋㅋㅋㅋㅋㅋㅋㅋㅋㅋㅋㅋㅋㅋㅋㅋㅋㅋㅋㅋㅋㅋㅋㅋㅋㅋㅋㅋㅋㅋㅋㅋㅋㅋㅋㅋㅋㅋㅋㅋㅋㅋㅋ|390717757 |343   |true   |skek****|skek****        |91395     |13       |1.685757179900769E9|597447  |253         |2020-05-29 14:19:41|500    |\n",
      "|ㅋㅋㅋㅋㅋㅋㅋㅋㅋㅋㅋㅋㅋㅋㅋㅋㅋㅋㅋㅋㅋㅋㅋㅋㅋㅋㅋㅋㅋㅋㅋㅋㅋㅋㅋㅋㅋㅋㅋㅋㅋㅋㅋㅋㅋㅋㅋㅋㅋㅋㅋㅋㅋㅋㅋㅋㅋㅋㅋㅋㅋㅋㅋㅋㅋㅋㅋㅋㅋㅋㅋㅋㅋㅋㅋㅋㅋㅋㅋㅋㅋㅋㅋㅋㅋㅋㅋㅋㅋㅋㅋㅋㅋㅋㅋㅋㅋㅋㅋㅋㅋㅋㅋㅋㅋㅋㅋㅋㅋㅋㅋㅋㅋㅋㅋㅋㅋㅋㅋㅋㅋㅋㅋㅋㅋㅋㅋㅋㅋㅋㅋㅋㅋㅋㅋㅋㅋㅋㅋㅋㅋㅋㅋㅋㅋㅋㅋㅋㅋㅋㅋㅋㅋㅋㅋㅋㅋㅋㅋㅋㅋㅋㅋㅋㅋㅋㅋㅋㅋㅋㅋㅋㅋㅋㅋㅋㅋㅋㅋㅋㅋㅋㅋㅋㅋㅋㅋㅋㅋㅋㅋㅋㅋㅋㅋㅋㅋㅋㅋㅋㅋㅋㅋㅋㅋㅋㅋㅋㅋㅋㅋㅋㅋㅋㅋㅋㅋㅋㅋㅋㅋㅋㅋㅋㅋㅋㅋㅋㅋㅋㅋㅋㅋㅋㅋㅋㅋㅋㅋㅋㅋㅋㅋㅋㅋㅋㅋㅋㅋㅋㅋㅋㅋㅋㅋㅋㅋㅋㅋㅋㅋㅋㅋㅋㅋㅋㅋㅋㅋㅋㅋㅋㅋㅋㅋㅋㅋㅋㅋㅋㅋㅋㅋㅋㅋㅋㅋㅋㅋㅋㅋㅋㅋㅋㅋㅋㅋㅋㅋㅋㅋㅋㅋㅋㅋㅋㅋㅋㅋㅋㅋㅋㅋㅋㅋㅋㅋㅋㅋㅋㅋㅋㅋㅋㅋㅋㅋㅋㅋㅋㅋㅋㅋㅋㅋㅋㅋㅋㅋㅋㅋㅋㅋㅋㅋㅋㅋㅋㅋㅋㅋㅋㅋㅋㅋㅋㅋㅋㅋㅋㅋㅋㅋㅋㅋㅋㅋㅋㅋㅋㅋㅋㅋㅋㅋㅋㅋㅋㅋㅋㅋㅋㅋㅋㅋㅋㅋㅋㅋㅋㅋㅋㅋㅋㅋㅋㅋㅋㅋㅋㅋㅋㅋㅋㅋㅋㅋㅋㅋㅋㅋㅋㅋㅋㅋㅋㅋㅋㅋㅋㅋㅋㅋㅋㅋㅋㅋㅋㅋㅋㅋㅋㅋㅋㅋㅋㅋㅋㅋㅋㅋㅋㅋㅋㅋㅋㅋㅋㅋㅋㅋㅋㅋㅋㅋㅋㅋㅋㅋㅋㅋㅋㅋㅋㅋㅋㅋㅋㅋㅋㅋㅋㅋㅋㅋㅋㅋㅋㅋㅋㅋㅋㅋㅋㅋㅋㅋㅋㅋㅋㅋㅋㅋㅋㅋㅋㅋㅋㅋㅋ|426514254 |163   |true   |seon****|용가리붕어      |35107     |308      |1.684752699756672E9|717481  |81          |2021-10-19 13:58:36|500    |\n",
      "|ㅋㅋㅋㅋㅋㅋㅋㅋㅋㅋㅋㅋㅋㅋㅋㅋㅋㅋㅋㅋㅋㅋㅋㅋㅋㅋㅋㅋㅋㅋㅋㅋㅋㅋㅋㅋㅋㅋㅋㅋㅋㅋㅋㅋㅋㅋㅋㅋㅋㅋㅋㅋㅋㅋㅋㅋㅋㅋㅋㅋㅋㅋㅋㅋㅋㅋㅋㅋㅋㅋㅋㅋㅋㅋㅋㅋㅋㅋㅋㅋㅋㅋㅋㅋㅋㅋㅋㅋㅋㅋㅋㅋㅋㅋㅋㅋㅋㅋㅋㅋㅋㅋㅋㅋㅋㅋㅋㅋㅋㅋㅋㅋㅋㅋㅋㅋㅋㅋㅋㅋㅋㅋㅋㅋㅋㅋㅋㅋㅋㅋㅋㅋㅋㅋㅋㅋㅋㅋㅋㅋㅋㅋㅋㅋㅋㅋㅋㅋㅋㅋㅋㅋㅋㅋㅋㅋㅋㅋㅋㅋㅋㅋㅋㅋㅋㅋㅋㅋㅋㅋㅋㅋㅋㅋㅋㅋㅋㅋㅋㅋㅋㅋㅋㅋㅋㅋㅋㅋㅋㅋㅋㅋㅋㅋㅋㅋㅋㅋㅋㅋㅋㅋㅋㅋㅋㅋㅋㅋㅋㅋㅋㅋㅋㅋㅋㅋㅋㅋㅋㅋㅋㅋㅋㅋㅋㅋㅋㅋㅋㅋㅋㅋㅋㅋㅋㅋㅋㅋㅋㅋㅋㅋㅋㅋㅋㅋㅋㅋㅋㅋㅋㅋㅋㅋㅋㅋㅋㅋㅋㅋㅋㅋㅋㅋㅋㅋㅋㅋㅋㅋㅋㅋㅋㅋㅋㅋㅋㅋㅋㅋㅋㅋㅋㅋㅋㅋㅋㅋㅋㅋㅋㅋㅋㅋㅋㅋㅋㅋㅋㅋㅋㅋㅋㅋㅋㅋㅋㅋㅋㅋㅋㅋㅋㅋㅋㅋㅋㅋㅋㅋㅋㅋㅋㅋㅋㅋㅋㅋㅋㅋㅋㅋㅋㅋㅋㅋㅋㅋㅋㅋㅋㅋㅋㅋㅋㅋㅋㅋㅋㅋㅋㅋㅋㅋㅋㅋㅋㅋㅋㅋㅋㅋㅋㅋㅋㅋㅋㅋㅋㅋㅋㅋㅋㅋㅋㅋㅋㅋㅋㅋㅋㅋㅋㅋㅋㅋㅋㅋㅋㅋㅋㅋㅋㅋㅋㅋㅋㅋㅋㅋㅋㅋㅋㅋㅋㅋㅋㅋㅋㅋㅋㅋㅋㅋㅋㅋㅋㅋㅋㅋㅋㅋㅋㅋㅋㅋㅋㅋㅋㅋㅋㅋㅋㅋㅋㅋㅋㅋㅋㅋㅋㅋㅋㅋㅋㅋㅋㅋㅋㅋㅋㅋㅋㅋㅋㅋㅋㅋㅋㅋㅋㅋㅋㅋㅋㅋㅋㅋㅋㅋㅋㅋㅋㅋㅋㅋㅋㅋㅋㅋㅋㅋㅋㅋㅋㅋㅋㅋㅋㅋㅋㅋㅋㅋㅋㅋㅋㅋㅋㅋ|451756333 |428   |true   |jhon****|황상황상황상황상|489       |0        |1.687335314813488E9|400739  |1           |2023-03-06 14:11:36|500    |\n",
      "|ㅋㅋㅋㅋㅋㅋㅋㅋㅋㅋㅋㅋㅋㅋㅋㅋㅋㅋㅋㅋㅋㅋㅋㅋㅋㅋㅋㅋㅋㅋㅋㅋㅋㅋㅋㅋㅋㅋㅋㅋㅋㅋㅋㅋㅋㅋㅋㅋㅋㅋㅋㅋㅋㅋㅋㅋㅋㅋㅋㅋㅋㅋㅋㅋㅋㅋㅋㅋㅋㅋㅋㅋㅋㅋㅋㅋㅋㅋㅋㅋㅋㅋㅋㅋㅋㅋㅋㅋㅋㅋㅋㅋㅋㅋㅋㅋㅋㅋㅋㅋㅋㅋㅋㅋㅋㅋㅋㅋㅋㅋㅋㅋㅋㅋㅋㅋㅋㅋㅋㅋㅋㅋㅋㅋㅋㅋㅋㅋㅋㅋㅋㅋㅋㅋㅋㅋㅋㅋㅋㅋㅋㅋㅋㅋㅋㅋㅋㅋㅋㅋㅋㅋㅋㅋㅋㅋㅋㅋㅋㅋㅋㅋㅋㅋㅋㅋㅋㅋㅋㅋㅋㅋㅋㅋㅋㅋㅋㅋㅋㅋㅋㅋㅋㅋㅋㅋㅋㅋㅋㅋㅋㅋㅋㅋㅋㅋㅋㅋㅋㅋㅋㅋㅋㅋㅋㅋㅋㅋㅋㅋㅋㅋㅋㅋㅋㅋㅋㅋㅋㅋㅋㅋㅋㅋㅋㅋㅋㅋㅋㅋㅋㅋㅋㅋㅋㅋㅋㅋㅋㅋㅋㅋㅋㅋㅋㅋㅋㅋㅋㅋㅋㅋㅋㅋㅋㅋㅋㅋㅋㅋㅋㅋㅋㅋㅋㅋㅋㅋㅋㅋㅋㅋㅋㅋㅋㅋㅋㅋㅋㅋㅋㅋㅋㅋㅋㅋㅋㅋㅋㅋㅋㅋㅋㅋㅋㅋㅋㅋㅋㅋㅋㅋㅋㅋㅋㅋㅋㅋㅋㅋㅋㅋㅋㅋㅋㅋㅋㅋㅋㅋㅋㅋㅋㅋㅋㅋㅋㅋㅋㅋㅋㅋㅋㅋㅋㅋㅋㅋㅋㅋㅋㅋㅋㅋㅋㅋㅋㅋㅋㅋㅋㅋㅋㅋㅋㅋㅋㅋㅋㅋㅋㅋㅋㅋㅋㅋㅋㅋㅋㅋㅋㅋㅋㅋㅋㅋㅋㅋㅋㅋㅋㅋㅋㅋㅋㅋㅋㅋㅋㅋㅋㅋㅋㅋㅋㅋㅋㅋㅋㅋㅋㅋㅋㅋㅋㅋㅋㅋㅋㅋㅋㅋㅋㅋㅋㅋㅋㅋㅋㅋㅋㅋㅋㅋㅋㅋㅋㅋㅋㅋㅋㅋㅋㅋㅋㅋㅋㅋㅋㅋㅋㅋㅋㅋㅋㅋㅋㅋㅋㅋㅋㅋㅋㅋㅋㅋㅋㅋㅋㅋㅋㅋㅋㅋㅋㅋㅋㅋㅋㅋㅋㅋㅋㅋㅋㅋㅋㅋㅋㅋㅋㅋㅋㅋㅋㅋㅋㅋㅋㅋㅋㅋㅋㅋㅋㅋㅋㅋㅋㅋ|419523956 |290   |true   |jack****|jac             |1128      |57       |1.687071826126485E9|671421  |36          |2021-07-13 15:18:01|500    |\n",
      "|ㅋㅋㅋㅋㅋㅋㅋㅋㅋㅋㅋㅋㅋㅋㅋㅋㅋㅋㅋㅋㅋㅋㅋㅋㅋㅋㅋㅋㅋㅋㅋㅋㅋㅋㅋㅋㅋㅋㅋㅋㅋㅋㅋㅋㅋㅋㅋㅋㅋㅋㅋㅋㅋㅋㅋㅋㅋㅋㅋㅋㅋㅋㅋㅋㅋㅋㅋㅋㅋㅋㅋㅋㅋㅋㅋㅋㅋㅋㅋㅋㅋㅋㅋㅋㅋㅋㅋㅋㅋㅋㅋㅋㅋㅋㅋㅋㅋㅋㅋㅋㅋㅋㅋㅋㅋㅋㅋㅋㅋㅋㅋㅋㅋㅋㅋㅋㅋㅋㅋㅋㅋㅋㅋㅋㅋㅋㅋㅋㅋㅋㅋㅋㅋㅋㅋㅋㅋㅋㅋㅋㅋㅋㅋㅋㅋㅋㅋㅋㅋㅋㅋㅋㅋㅋㅋㅋㅋㅋㅋㅋㅋㅋㅋㅋㅋㅋㅋㅋㅋㅋㅋㅋㅋㅋㅋㅋㅋㅋㅋㅋㅋㅋㅋㅋㅋㅋㅋㅋㅋㅋㅋㅋㅋㅋㅋㅋㅋㅋㅋㅋㅋㅋㅋㅋㅋㅋㅋㅋㅋㅋㅋㅋㅋㅋㅋㅋㅋㅋㅋㅋㅋㅋㅋㅋㅋㅋㅋㅋㅋㅋㅋㅋㅋㅋㅋㅋㅋㅋㅋㅋㅋㅋㅋㅋㅋㅋㅋㅋㅋㅋㅋㅋㅋㅋㅋㅋㅋㅋㅋㅋㅋㅋㅋㅋㅋㅋㅋㅋㅋㅋㅋㅋㅋㅋㅋㅋㅋㅋㅋㅋㅋㅋㅋㅋㅋㅋㅋㅋㅋㅋㅋㅋㅋㅋㅋㅋㅋㅋㅋㅋㅋㅋㅋㅋㅋㅋㅋㅋㅋㅋㅋㅋㅋㅋㅋㅋㅋㅋㅋㅋㅋㅋㅋㅋㅋㅋㅋㅋㅋㅋㅋㅋㅋㅋㅋㅋㅋㅋㅋㅋㅋㅋㅋㅋㅋㅋㅋㅋㅋㅋㅋㅋㅋㅋㅋㅋㅋㅋㅋㅋㅋㅋㅋㅋㅋㅋㅋㅋㅋㅋㅋㅋㅋㅋㅋㅋㅋㅋㅋㅋㅋㅋㅋㅋㅋㅋㅋㅋㅋㅋㅋㅋㅋㅋㅋㅋㅋㅋㅋㅋㅋㅋㅋㅋㅋㅋㅋㅋㅋㅋㅋㅋㅋㅋㅋㅋㅋㅋㅋㅋㅋㅋㅋㅋㅋㅋㅋㅋㅋㅋㅋㅋㅋㅋㅋㅋㅋㅋㅋㅋㅋㅋㅋㅋㅋㅋㅋㅋㅋㅋㅋㅋㅋㅋㅋㅋㅋㅋㅋㅋㅋㅋㅋㅋㅋㅋㅋㅋㅋㅋㅋㅋㅋㅋㅋㅋㅋㅋㅋㅋㅋㅋㅋㅋㅋㅋㅋㅋㅋㅋㅋㅋㅋㅋㅋㅋㅋㅋㅋㅋ|430427820 |348   |true   |jooh****|배주현          |5518      |14       |1.687378380186915E9|711422  |32          |2021-12-23 14:05:06|500    |\n",
      "|ㅋㅋㅋㅋㅋㅋㅋㅋㅋㅋㅋㅋㅋㅋㅋㅋㅋㅋㅋㅋㅋㅋㅋㅋㅋㅋㅋㅋㅋㅋㅋㅋㅋㅋㅋㅋㅋㅋㅋㅋㅋㅋㅋㅋㅋㅋㅋㅋㅋㅋㅋㅋㅋㅋㅋㅋㅋㅋㅋㅋㅋㅋㅋㅋㅋㅋㅋㅋㅋㅋㅋㅋㅋㅋㅋㅋㅋㅋㅋㅋㅋㅋㅋㅋㅋㅋㅋㅋㅋㅋㅋㅋㅋㅋㅋㅋㅋㅋㅋㅋㅋㅋㅋㅋㅋㅋㅋㅋㅋㅋㅋㅋㅋㅋㅋㅋㅋㅋㅋㅋㅋㅋㅋㅋㅋㅋㅋㅋㅋㅋㅋㅋㅋㅋㅋㅋㅋㅋㅋㅋㅋㅋㅋㅋㅋㅋㅋㅋㅋㅋㅋㅋㅋㅋㅋㅋㅋㅋㅋㅋㅋㅋㅋㅋㅋㅋㅋㅋㅋㅋㅋㅋㅋㅋㅋㅋㅋㅋㅋㅋㅋㅋㅋㅋㅋㅋㅋㅋㅋㅋㅋㅋㅋㅋㅋㅋㅋㅋㅋㅋㅋㅋㅋㅋㅋㅋㅋㅋㅋㅋㅋㅋㅋㅋㅋㅋㅋㅋㅋㅋㅋㅋㅋㅋㅋㅋㅋㅋㅋㅋㅋㅋㅋㅋㅋㅋㅋㅋㅋㅋㅋㅋㅋㅋㅋㅋㅋㅋㅋㅋㅋㅋㅋㅋㅋㅋㅋㅋㅋㅋㅋㅋㅋㅋㅋㅋㅋㅋㅋㅋㅋㅋㅋㅋㅋㅋㅋㅋㅋㅋㅋㅋㅋㅋㅋㅋㅋㅋㅋㅋㅋㅋㅋㅋㅋㅋㅋㅋㅋㅋㅋㅋㅋㅋㅋㅋㅋㅋㅋㅋㅋㅋㅋㅋㅋㅋㅋㅋㅋㅋㅋㅋㅋㅋㅋㅋㅋㅋㅋㅋㅋㅋㅋㅋㅋㅋㅋㅋㅋㅋㅋㅋㅋㅋㅋㅋㅋㅋㅋㅋㅋㅋㅋㅋㅋㅋㅋㅋㅋㅋㅋㅋㅋㅋㅋㅋㅋㅋㅋㅋㅋㅋㅋㅋㅋㅋㅋㅋㅋㅋㅋㅋㅋㅋㅋㅋㅋㅋㅋㅋㅋㅋㅋㅋㅋㅋㅋㅋㅋㅋㅋㅋㅋㅋㅋㅋㅋㅋㅋㅋㅋㅋㅋㅋㅋㅋㅋㅋㅋㅋㅋㅋㅋㅋㅋㅋㅋㅋㅋㅋㅋㅋㅋㅋㅋㅋㅋㅋㅋㅋㅋㅋㅋㅋㅋㅋㅋㅋㅋㅋㅋㅋㅋㅋㅋㅋㅋㅋㅋㅋㅋㅋㅋㅋㅋㅋㅋㅋㅋㅋㅋㅋㅋㅋㅋㅋㅋㅋㅋㅋㅋㅋㅋㅋㅋㅋㅋㅋㅋㅋㅋㅋㅋㅋㅋㅋㅋㅋㅋㅋ|417818925 |118   |true   |core****|서코리          |36361     |141      |1.684404226356876E9|727188  |80          |2021-06-18 14:06:34|500    |\n",
      "|ㅋㅋㅋㅋㅋㅋㅋㅋㅋㅋㅋㅋㅋㅋㅋㅋㅋㅋㅋㅋㅋㅋㅋㅋㅋㅋㅋㅋㅋㅋㅋㅋㅋㅋㅋㅋㅋㅋㅋㅋㅋㅋㅋㅋㅋㅋㅋㅋㅋㅋㅋㅋㅋㅋㅋㅋㅋㅋㅋㅋㅋㅋㅋㅋㅋㅋㅋㅋㅋㅋㅋㅋㅋㅋㅋㅋㅋㅋㅋㅋㅋㅋㅋㅋㅋㅋㅋㅋㅋㅋㅋㅋㅋㅋㅋㅋㅋㅋㅋㅋㅋㅋㅋㅋㅋㅋㅋㅋㅋㅋㅋㅋㅋㅋㅋㅋㅋㅋㅋㅋㅋㅋㅋㅋㅋㅋㅋㅋㅋㅋㅋㅋㅋㅋㅋㅋㅋㅋㅋㅋㅋㅋㅋㅋㅋㅋㅋㅋㅋㅋㅋㅋㅋㅋㅋㅋㅋㅋㅋㅋㅋㅋㅋㅋㅋㅋㅋㅋㅋㅋㅋㅋㅋㅋㅋㅋㅋㅋㅋㅋㅋㅋㅋㅋㅋㅋㅋㅋㅋㅋㅋㅋㅋㅋㅋㅋㅋㅋㅋㅋㅋㅋㅋㅋㅋㅋㅋㅋㅋㅋㅋㅋㅋㅋㅋㅋㅋㅋㅋㅋㅋㅋㅋㅋㅋㅋㅋㅋㅋㅋㅋㅋㅋㅋㅋㅋㅋㅋㅋㅋㅋㅋㅋㅋㅋㅋㅋㅋㅋㅋㅋㅋㅋㅋㅋㅋㅋㅋㅋㅋㅋㅋㅋㅋㅋㅋㅋㅋㅋㅋㅋㅋㅋㅋㅋㅋㅋㅋㅋㅋㅋㅋㅋㅋㅋㅋㅋㅋㅋㅋㅋㅋㅋㅋㅋㅋㅋㅋㅋㅋㅋㅋㅋㅋㅋㅋㅋㅋㅋㅋㅋㅋㅋㅋㅋㅋㅋㅋㅋㅋㅋㅋㅋㅋㅋㅋㅋㅋㅋㅋㅋㅋㅋㅋㅋㅋㅋㅋㅋㅋㅋㅋㅋㅋㅋㅋㅋㅋㅋㅋㅋㅋㅋㅋㅋㅋㅋㅋㅋㅋㅋㅋㅋㅋㅋㅋㅋㅋㅋㅋㅋㅋㅋㅋㅋㅋㅋㅋㅋㅋㅋㅋㅋㅋㅋㅋㅋㅋㅋㅋㅋㅋㅋㅋㅋㅋㅋㅋㅋㅋㅋㅋㅋㅋㅋㅋㅋㅋㅋㅋㅋㅋㅋㅋㅋㅋㅋㅋㅋㅋㅋㅋㅋㅋㅋㅋㅋㅋㅋㅋㅋㅋㅋㅋㅋㅋㅋㅋㅋㅋㅋㅋㅋㅋㅋㅋㅋㅋㅋㅋㅋㅋㅋㅋㅋㅋㅋㅋㅋㅋㅋㅋㅋㅋㅋㅋㅋㅋㅋㅋㅋㅋㅋㅋㅋㅋㅋㅋㅋㅋㅋㅋㅋㅋㅋㅋㅋㅋㅋㅋㅋㅋㅋㅋㅋㅋㅋㅋㅋㅋ|363382183 |70    |true   |kslr****|OnY             |5243      |0        |1.687352776812715E9|711422  |34          |2019-01-14 14:25:46|500    |\n",
      "|ㅋㅋㅋㅋㅋㅋㅋㅋㅋㅋㅋㅋㅋㅋㅋㅋㅋㅋㅋㅋㅋㅋㅋㅋㅋㅋㅋㅋㅋㅋㅋㅋㅋㅋㅋㅋㅋㅋㅋㅋㅋㅋㅋㅋㅋㅋㅋㅋㅋㅋㅋㅋㅋㅋㅋㅋㅋㅋㅋㅋㅋㅋㅋㅋㅋㅋㅋㅋㅋㅋㅋㅋㅋㅋㅋㅋㅋㅋㅋㅋㅋㅋㅋㅋㅋㅋㅋㅋㅋㅋㅋㅋㅋㅋㅋㅋㅋㅋㅋㅋㅋㅋㅋㅋㅋㅋㅋㅋㅋㅋㅋㅋㅋㅋㅋㅋㅋㅋㅋㅋㅋㅋㅋㅋㅋㅋㅋㅋㅋㅋㅋㅋㅋㅋㅋㅋㅋㅋㅋㅋㅋㅋㅋㅋㅋㅋㅋㅋㅋㅋㅋㅋㅋㅋㅋㅋㅋㅋㅋㅋㅋㅋㅋㅋㅋㅋㅋㅋㅋㅋㅋㅋㅋㅋㅋㅋㅋㅋㅋㅋㅋㅋㅋㅋㅋㅋㅋㅋㅋㅋㅋㅋㅋㅋㅋㅋㅋㅋㅋㅋㅋㅋㅋㅋㅋㅋㅋㅋㅋㅋㅋㅋㅋㅋㅋㅋㅋㅋㅋㅋㅋㅋㅋㅋㅋㅋㅋㅋㅋㅋㅋㅋㅋㅋㅋㅋㅋㅋㅋㅋㅋㅋㅋㅋㅋㅋㅋㅋㅋㅋㅋㅋㅋㅋㅋㅋㅋㅋㅋㅋㅋㅋㅋㅋㅋㅋㅋㅋㅋㅋㅋㅋㅋㅋㅋㅋㅋㅋㅋㅋㅋㅋㅋㅋㅋㅋㅋㅋㅋㅋㅋㅋㅋㅋㅋㅋㅋㅋㅋㅋㅋㅋㅋㅋㅋㅋㅋㅋㅋㅋㅋㅋㅋㅋㅋㅋㅋㅋㅋㅋㅋㅋㅋㅋㅋㅋㅋㅋㅋㅋㅋㅋㅋㅋㅋㅋㅋㅋㅋㅋㅋㅋㅋㅋㅋㅋㅋㅋㅋㅋㅋㅋㅋㅋㅋㅋㅋㅋㅋㅋㅋㅋㅋㅋㅋㅋㅋㅋㅋㅋㅋㅋㅋㅋㅋㅋㅋㅋㅋㅋㅋㅋㅋㅋㅋㅋㅋㅋㅋㅋㅋㅋㅋㅋㅋㅋㅋㅋㅋㅋㅋㅋㅋㅋㅋㅋㅋㅋㅋㅋㅋㅋㅋㅋㅋㅋㅋㅋㅋㅋㅋㅋㅋㅋㅋㅋㅋㅋㅋㅋㅋㅋㅋㅋㅋㅋㅋㅋㅋㅋㅋㅋㅋㅋㅋㅋㅋㅋㅋㅋㅋㅋㅋㅋㅋㅋㅋㅋㅋㅋㅋㅋㅋㅋㅋㅋㅋㅋㅋㅋㅋㅋㅋㅋㅋㅋㅋㅋㅋㅋㅋㅋㅋㅋㅋㅋㅋㅋㅋㅋㅋㅋㅋㅋㅋㅋㅋㅋㅋㅋ|418201475 |381   |true   |saga****|web             |447       |3        |1.685603287646082E9|552960  |12          |2021-06-24 16:26:42|500    |\n",
      "|ㅋㅋㅋㅋㅋㅋㅋㅋㅋㅋㅋㅋㅋㅋㅋㅋㅋㅋㅋㅋㅋㅋㅋㅋㅋㅋㅋㅋㅋㅋㅋㅋㅋㅋㅋㅋㅋㅋㅋㅋㅋㅋㅋㅋㅋㅋㅋㅋㅋㅋㅋㅋㅋㅋㅋㅋㅋㅋㅋㅋㅋㅋㅋㅋㅋㅋㅋㅋㅋㅋㅋㅋㅋㅋㅋㅋㅋㅋㅋㅋㅋㅋㅋㅋㅋㅋㅋㅋㅋㅋㅋㅋㅋㅋㅋㅋㅋㅋㅋㅋㅋㅋㅋㅋㅋㅋㅋㅋㅋㅋㅋㅋㅋㅋㅋㅋㅋㅋㅋㅋㅋㅋㅋㅋㅋㅋㅋㅋㅋㅋㅋㅋㅋㅋㅋㅋㅋㅋㅋㅋㅋㅋㅋㅋㅋㅋㅋㅋㅋㅋㅋㅋㅋㅋㅋㅋㅋㅋㅋㅋㅋㅋㅋㅋㅋㅋㅋㅋㅋㅋㅋㅋㅋㅋㅋㅋㅋㅋㅋㅋㅋㅋㅋㅋㅋㅋㅋㅋㅋㅋㅋㅋㅋㅋㅋㅋㅋㅋㅋㅋㅋㅋㅋㅋㅋㅋㅋㅋㅋㅋㅋㅋㅋㅋㅋㅋㅋㅋㅋㅋㅋㅋㅋㅋㅋㅋㅋㅋㅋㅋㅋㅋㅋㅋㅋㅋㅋㅋㅋㅋㅋㅋㅋㅋㅋㅋㅋㅋㅋㅋㅋㅋㅋㅋㅋㅋㅋㅋㅋㅋㅋㅋㅋㅋㅋㅋㅋㅋㅋㅋㅋㅋㅋㅋㅋㅋㅋㅋㅋㅋㅋㅋㅋㅋㅋㅋㅋㅋㅋㅋㅋㅋㅋㅋㅋㅋㅋㅋㅋㅋㅋㅋㅋㅋㅋㅋㅋㅋㅋㅋㅋㅋㅋㅋㅋㅋㅋㅋㅋㅋㅋㅋㅋㅋㅋㅋㅋㅋㅋㅋㅋㅋㅋㅋㅋㅋㅋㅋㅋㅋㅋㅋㅋㅋㅋㅋㅋㅋㅋㅋㅋㅋㅋㅋㅋㅋㅋㅋㅋㅋㅋㅋㅋㅋㅋㅋㅋㅋㅋㅋㅋㅋㅋㅋㅋㅋㅋㅋㅋㅋㅋㅋㅋㅋㅋㅋㅋㅋㅋㅋㅋㅋㅋㅋㅋㅋㅋㅋㅋㅋㅋㅋㅋㅋㅋㅋㅋㅋㅋㅋㅋㅋㅋㅋㅋㅋㅋㅋㅋㅋㅋㅋㅋㅋㅋㅋㅋㅋㅋㅋㅋㅋㅋㅋㅋㅋㅋㅋㅋㅋㅋㅋㅋㅋㅋㅋㅋㅋㅋㅋㅋㅋㅋㅋㅋㅋㅋㅋㅋㅋㅋㅋㅋㅋㅋㅋㅋㅋㅋㅋㅋㅋㅋㅋㅋㅋㅋㅋㅋㅋㅋㅋㅋㅋㅋㅋㅋㅋㅋㅋㅋㅋㅋㅋㅋㅋㅋㅋㅋㅋ|256641022 |164   |true   |shoo****|두번피는연화    |3062      |0        |1.684580211541287E9|570506  |194         |2016-10-05 16:10:56|500    |\n",
      "|ㅋㅋㅋㅋㅋㅋㅋㅋㅋㅋㅋㅋㅋㅋㅋㅋㅋㅋㅋㅋㅋㅋㅋㅋㅋㅋㅋㅋㅋㅋㅋㅋㅋㅋㅋㅋㅋㅋㅋㅋㅋㅋㅋㅋㅋㅋㅋㅋㅋㅋㅋㅋㅋㅋㅋㅋㅋㅋㅋㅋㅋㅋㅋㅋㅋㅋㅋㅋㅋㅋㅋㅋㅋㅋㅋㅋㅋㅋㅋㅋㅋㅋㅋㅋㅋㅋㅋㅋㅋㅋㅋㅋㅋㅋㅋㅋㅋㅋㅋㅋㅋㅋㅋㅋㅋㅋㅋㅋㅋㅋㅋㅋㅋㅋㅋㅋㅋㅋㅋㅋㅋㅋㅋㅋㅋㅋㅋㅋㅋㅋㅋㅋㅋㅋㅋㅋㅋㅋㅋㅋㅋㅋㅋㅋㅋㅋㅋㅋㅋㅋㅋㅋㅋㅋㅋㅋㅋㅋㅋㅋㅋㅋㅋㅋㅋㅋㅋㅋㅋㅋㅋㅋㅋㅋㅋㅋㅋㅋㅋㅋㅋㅋㅋㅋㅋㅋㅋㅋㅋㅋㅋㅋㅋㅋㅋㅋㅋㅋㅋㅋㅋㅋㅋㅋㅋㅋㅋㅋㅋㅋㅋㅋㅋㅋㅋㅋㅋㅋㅋㅋㅋㅋㅋㅋㅋㅋㅋㅋㅋㅋㅋㅋㅋㅋㅋㅋㅋㅋㅋㅋㅋㅋㅋㅋㅋㅋㅋㅋㅋㅋㅋㅋㅋㅋㅋㅋㅋㅋㅋㅋㅋㅋㅋㅋㅋㅋㅋㅋㅋㅋㅋㅋㅋㅋㅋㅋㅋㅋㅋㅋㅋㅋㅋㅋㅋㅋㅋㅋㅋㅋㅋㅋㅋㅋㅋㅋㅋㅋㅋㅋㅋㅋㅋㅋㅋㅋㅋㅋㅋㅋㅋㅋㅋㅋㅋㅋㅋㅋㅋㅋㅋㅋㅋㅋㅋㅋㅋㅋㅋㅋㅋㅋㅋㅋㅋㅋㅋㅋㅋㅋㅋㅋㅋㅋㅋㅋㅋㅋㅋㅋㅋㅋㅋㅋㅋㅋㅋㅋㅋㅋㅋㅋㅋㅋㅋㅋㅋㅋㅋㅋㅋㅋㅋㅋㅋㅋㅋㅋㅋㅋㅋㅋㅋㅋㅋㅋㅋㅋㅋㅋㅋㅋㅋㅋㅋㅋㅋㅋㅋㅋㅋㅋㅋㅋㅋㅋㅋㅋㅋㅋㅋㅋㅋㅋㅋㅋㅋㅋㅋㅋㅋㅋㅋㅋㅋㅋㅋㅋㅋㅋㅋㅋㅋㅋㅋㅋㅋㅋㅋㅋㅋㅋㅋㅋㅋㅋㅋㅋㅋㅋㅋㅋㅋㅋㅋㅋㅋㅋㅋㅋㅋㅋㅋㅋㅋㅋㅋㅋㅋㅋㅋㅋㅋㅋㅋㅋㅋㅋㅋㅋㅋㅋㅋㅋㅋㅋㅋㅋㅋㅋㅋㅋㅋㅋㅋㅋㅋㅋㅋㅋ|398955070 |368   |true   |jung****|swper           |626       |0        |1.684598493794772E9|570506  |31          |2020-09-16 14:35:10|500    |\n",
      "|ㅋㅋㅋㅋㅋㅋㅋㅋㅋㅋㅋㅋㅋㅋㅋㅋㅋㅋㅋㅋㅋㅋㅋㅋㅋㅋㅋㅋㅋㅋㅋㅋㅋㅋㅋㅋㅋㅋㅋㅋㅋㅋㅋㅋㅋㅋㅋㅋㅋㅋㅋㅋㅋㅋㅋㅋㅋㅋㅋㅋㅋㅋㅋㅋㅋㅋㅋㅋㅋㅋㅋㅋㅋㅋㅋㅋㅋㅋㅋㅋㅋㅋㅋㅋㅋㅋㅋㅋㅋㅋㅋㅋㅋㅋㅋㅋㅋㅋㅋㅋㅋㅋㅋㅋㅋㅋㅋㅋㅋㅋㅋㅋㅋㅋㅋㅋㅋㅋㅋㅋㅋㅋㅋㅋㅋㅋㅋㅋㅋㅋㅋㅋㅋㅋㅋㅋㅋㅋㅋㅋㅋㅋㅋㅋㅋㅋㅋㅋㅋㅋㅋㅋㅋㅋㅋㅋㅋㅋㅋㅋㅋㅋㅋㅋㅋㅋㅋㅋㅋㅋㅋㅋㅋㅋㅋㅋㅋㅋㅋㅋㅋㅋㅋㅋㅋㅋㅋㅋㅋㅋㅋㅋㅋㅋㅋㅋㅋㅋㅋㅋㅋㅋㅋㅋㅋㅋㅋㅋㅋㅋㅋㅋㅋㅋㅋㅋㅋㅋㅋㅋㅋㅋㅋㅋㅋㅋㅋㅋㅋㅋㅋㅋㅋㅋㅋㅋㅋㅋㅋㅋㅋㅋㅋㅋㅋㅋㅋㅋㅋㅋㅋㅋㅋㅋㅋㅋㅋㅋㅋㅋㅋㅋㅋㅋㅋㅋㅋㅋㅋㅋㅋㅋㅋㅋㅋㅋㅋㅋㅋㅋㅋㅋㅋㅋㅋㅋㅋㅋㅋㅋㅋㅋㅋㅋㅋㅋㅋㅋㅋㅋㅋㅋㅋㅋㅋㅋㅋㅋㅋㅋㅋㅋㅋㅋㅋㅋㅋㅋㅋㅋㅋㅋㅋㅋㅋㅋㅋㅋㅋㅋㅋㅋㅋㅋㅋㅋㅋㅋㅋㅋㅋㅋㅋㅋㅋㅋㅋㅋㅋㅋㅋㅋㅋㅋㅋㅋㅋㅋㅋㅋㅋㅋㅋㅋㅋㅋㅋㅋㅋㅋㅋㅋㅋㅋㅋㅋㅋㅋㅋㅋㅋㅋㅋㅋㅋㅋㅋㅋㅋㅋㅋㅋㅋㅋㅋㅋㅋㅋㅋㅋㅋㅋㅋㅋㅋㅋㅋㅋㅋㅋㅋㅋㅋㅋㅋㅋㅋㅋㅋㅋㅋㅋㅋㅋㅋㅋㅋㅋㅋㅋㅋㅋㅋㅋㅋㅋㅋㅋㅋㅋㅋㅋㅋㅋㅋㅋㅋㅋㅋㅋㅋㅋㅋㅋㅋㅋㅋㅋㅋㅋㅋㅋㅋㅋㅋㅋㅋㅋㅋㅋㅋㅋㅋㅋㅋㅋㅋㅋㅋㅋㅋㅋㅋㅋㅋㅋㅋㅋㅋㅋㅋㅋㅋㅋㅋㅋㅋㅋㅋㅋ|452364907 |497   |true   |junj****|가나다          |61        |1        |1.684608945762149E9|570506  |3           |2023-03-22 16:02:46|500    |\n",
      "+----------------------------------------------------------------------------------------------------------------------------------------------------------------------------------------------------------------------------------------------------------------------------------------------------------------------------------------------------------------------------------------------------------------------------------------------------------------------------------------------------------------------------------------------------------------------------------------------------------------------------------------------------------------------------------------------------------------------------------------------------------------------------------------------------------------------------------------------------------------------------------------------------------------------------------------------------------------------------------------------------------------------------------------+----------+------+-------+--------+----------------+----------+---------+-------------------+--------+------------+-------------------+-------+\n",
      "only showing top 20 rows\n",
      "\n"
     ]
    },
    {
     "name": "stderr",
     "output_type": "stream",
     "text": [
      "\r",
      "                                                                                \r"
     ]
    }
   ],
   "source": [
    "# 상세 결과 출력\n",
    "df_with_k_count.orderBy(desc('k_count')).show(truncate=False)"
   ]
  },
  {
   "cell_type": "markdown",
   "id": "093b181a",
   "metadata": {},
   "source": [
    "#### 최대 개수 \n",
    "- 'ㅎ'를 사용한 개수에 따른 집계\n",
    "- 'ㅋ'를 사용한 개수에 따른 집계 "
   ]
  },
  {
   "cell_type": "code",
   "execution_count": 109,
   "id": "a26fc6eb",
   "metadata": {},
   "outputs": [],
   "source": [
    "gr_df_with_h_count = df_with_h_count.groupBy('h_count').count()\n",
    "gr_df_with_k_count = df_with_k_count.groupBy('k_count').count()"
   ]
  },
  {
   "cell_type": "code",
   "execution_count": 110,
   "id": "40f7fa64",
   "metadata": {},
   "outputs": [
    {
     "name": "stderr",
     "output_type": "stream",
     "text": [
      "[Stage 116:====================================================>  (18 + 1) / 19]\r"
     ]
    },
    {
     "name": "stdout",
     "output_type": "stream",
     "text": [
      "+-------+-----+\n",
      "|h_count|count|\n",
      "+-------+-----+\n",
      "|    500|    1|\n",
      "|    432|    1|\n",
      "|    103|    1|\n",
      "|     92|    1|\n",
      "|     57|    1|\n",
      "|     56|    1|\n",
      "|     51|    1|\n",
      "|     47|    2|\n",
      "|     40|    1|\n",
      "|     39|    1|\n",
      "|     36|    1|\n",
      "|     35|    2|\n",
      "|     33|    1|\n",
      "|     32|    1|\n",
      "|     31|    2|\n",
      "|     30|    1|\n",
      "|     25|    2|\n",
      "|     24|    2|\n",
      "|     23|    1|\n",
      "|     22|    2|\n",
      "+-------+-----+\n",
      "only showing top 20 rows\n",
      "\n"
     ]
    },
    {
     "name": "stderr",
     "output_type": "stream",
     "text": [
      "\r",
      "                                                                                \r"
     ]
    }
   ],
   "source": [
    "gr_df_with_h_count.orderBy(desc('h_count')).show()"
   ]
  },
  {
   "cell_type": "code",
   "execution_count": 112,
   "id": "240d123a",
   "metadata": {},
   "outputs": [
    {
     "name": "stderr",
     "output_type": "stream",
     "text": [
      "[Stage 119:====================================================>  (18 + 1) / 19]\r"
     ]
    },
    {
     "name": "stdout",
     "output_type": "stream",
     "text": [
      "+-------+------+\n",
      "|h_count| count|\n",
      "+-------+------+\n",
      "|      0|554447|\n",
      "|      1|  2532|\n",
      "|      2|  4236|\n",
      "|      3|   873|\n",
      "|      4|   519|\n",
      "|      5|   225|\n",
      "|      6|   135|\n",
      "|      7|    57|\n",
      "|      8|    48|\n",
      "|      9|    21|\n",
      "|     10|    18|\n",
      "|     11|    15|\n",
      "|     12|    12|\n",
      "|     13|    11|\n",
      "|     14|     5|\n",
      "|     15|     2|\n",
      "|     16|     4|\n",
      "|     17|     2|\n",
      "|     18|     4|\n",
      "|     19|     4|\n",
      "+-------+------+\n",
      "only showing top 20 rows\n",
      "\n"
     ]
    },
    {
     "name": "stderr",
     "output_type": "stream",
     "text": [
      "\r",
      "                                                                                \r"
     ]
    }
   ],
   "source": [
    "gr_df_with_h_count.orderBy('h_count').show()"
   ]
  },
  {
   "cell_type": "code",
   "execution_count": 114,
   "id": "9fb6eb35",
   "metadata": {},
   "outputs": [
    {
     "name": "stderr",
     "output_type": "stream",
     "text": [
      "[Stage 125:====================================================>  (18 + 1) / 19]\r"
     ]
    },
    {
     "name": "stdout",
     "output_type": "stream",
     "text": [
      "+-------+-----+\n",
      "|k_count|count|\n",
      "+-------+-----+\n",
      "|    500|   20|\n",
      "|    499|    2|\n",
      "|    497|    1|\n",
      "|    496|    1|\n",
      "|    494|    1|\n",
      "|    493|    1|\n",
      "|    491|    2|\n",
      "|    490|    1|\n",
      "|    489|    1|\n",
      "|    488|    1|\n",
      "|    483|    1|\n",
      "|    482|    1|\n",
      "|    481|    1|\n",
      "|    480|    2|\n",
      "|    476|    1|\n",
      "|    474|    1|\n",
      "|    464|    1|\n",
      "|    458|    1|\n",
      "|    444|    1|\n",
      "|    436|    1|\n",
      "+-------+-----+\n",
      "only showing top 20 rows\n",
      "\n"
     ]
    },
    {
     "name": "stderr",
     "output_type": "stream",
     "text": [
      "\r",
      "                                                                                \r"
     ]
    }
   ],
   "source": [
    "gr_df_with_k_count.orderBy(desc('k_count')).show()"
   ]
  },
  {
   "cell_type": "code",
   "execution_count": 113,
   "id": "a823b2b4",
   "metadata": {},
   "outputs": [
    {
     "name": "stderr",
     "output_type": "stream",
     "text": [
      "[Stage 122:====================================================>  (18 + 1) / 19]\r"
     ]
    },
    {
     "name": "stdout",
     "output_type": "stream",
     "text": [
      "+-------+------+\n",
      "|k_count| count|\n",
      "+-------+------+\n",
      "|      0|467380|\n",
      "|      1|  2709|\n",
      "|      2| 15768|\n",
      "|      3| 14331|\n",
      "|      4| 12691|\n",
      "|      5|  9706|\n",
      "|      6|  7725|\n",
      "|      7|  5762|\n",
      "|      8|  4692|\n",
      "|      9|  3656|\n",
      "|     10|  3022|\n",
      "|     11|  2373|\n",
      "|     12|  1953|\n",
      "|     13|  1551|\n",
      "|     14|  1351|\n",
      "|     15|  1093|\n",
      "|     16|   928|\n",
      "|     17|   764|\n",
      "|     18|   615|\n",
      "|     19|   551|\n",
      "+-------+------+\n",
      "only showing top 20 rows\n",
      "\n"
     ]
    },
    {
     "name": "stderr",
     "output_type": "stream",
     "text": [
      "\r",
      "                                                                                \r"
     ]
    }
   ],
   "source": [
    "gr_df_with_k_count.orderBy('k_count').show()"
   ]
  },
  {
   "cell_type": "markdown",
   "id": "2d6113a0",
   "metadata": {},
   "source": [
    "## 2) 어떤 특수 문자가 제일 많이 사용될까"
   ]
  },
  {
   "cell_type": "code",
   "execution_count": 142,
   "id": "010524a8",
   "metadata": {},
   "outputs": [
    {
     "name": "stderr",
     "output_type": "stream",
     "text": [
      "[Stage 157:====================================================>  (18 + 1) / 19]\r"
     ]
    },
    {
     "name": "stdout",
     "output_type": "stream",
     "text": [
      "+------------+-------+\n",
      "|special_char|  count|\n",
      "+------------+-------+\n",
      "|           .|1068309|\n",
      "|            | 214241|\n",
      "|           ?| 188650|\n",
      "|           !| 136279|\n",
      "|           ,|  92134|\n",
      "|           ⠀|  83068|\n",
      "|           ⣿|  66304|\n",
      "|           )|  30507|\n",
      "|           (|  29281|\n",
      "|           ~|  28710|\n",
      "|           :|  28598|\n",
      "|           '|  26515|\n",
      "|           ;|  24013|\n",
      "|           \"|  21431|\n",
      "|           -|  15546|\n",
      "|          　|  14571|\n",
      "|           ^|  10131|\n",
      "|           /|   7296|\n",
      "|           ️|   5951|\n",
      "|           ❤|   5615|\n",
      "+------------+-------+\n",
      "only showing top 20 rows\n",
      "\n"
     ]
    },
    {
     "name": "stderr",
     "output_type": "stream",
     "text": [
      "\r",
      "                                                                                \r"
     ]
    }
   ],
   "source": [
    "from pyspark.sql.functions import explode, split, regexp_replace, count, desc\n",
    "\n",
    "# 특수 문자 추출\n",
    "special_chars = df.select(explode(split(regexp_replace(df.comment, r\"[a-zA-Z가-힣ㄱ-ㅎㅏ-ㅣ\\s\\n0-9]\", \"\"), \"\")).alias(\"special_char\"))\n",
    "\n",
    "# 특수 문자별 사용 횟수 집계\n",
    "\n",
    "# 특수 문자별 사용 횟수 집계\n",
    "char_counts = special_chars.groupBy(\"special_char\").agg(count(\"*\").alias(\"count\"))\n",
    "\n",
    "# 가장 많이 사용된 특수 문자 확인\n",
    "most_common_char = char_counts.orderBy(desc(\"count\"))\n",
    "\n",
    "# 결과 출력\n",
    "most_common_char.show()\n"
   ]
  },
  {
   "cell_type": "markdown",
   "id": "7f79fd59",
   "metadata": {},
   "source": [
    "## 3) 이모티콘 사용한 댓글 출력 "
   ]
  },
  {
   "cell_type": "code",
   "execution_count": 144,
   "id": "bf91689f",
   "metadata": {},
   "outputs": [
    {
     "name": "stderr",
     "output_type": "stream",
     "text": [
      "                                                                                \r"
     ]
    }
   ],
   "source": [
    "from pyspark.sql.functions import col, expr, explode, count\n",
    "\n",
    "# 이모티콘을 포함하는 댓글 개수\n",
    "emoji_pattern = r\"[\\U0001F300-\\U0001F64F\\U0001F680-\\U0001F6FF\\U0001F910-\\U0001F96B\\U0001F980-\\U0001F9E0\\U0001FA70-\\U0001FAFF]\"\n",
    "emoji_count = df.filter(expr(f\"comment rlike '{emoji_pattern}'\")).count()\n",
    "\n",
    "# 이모티콘 별 댓글 사용 횟수 집계\n",
    "# emoji_data = df.withColumn(\"emoji\", explode(expr(f\"split(comment, '[^{emoji_pattern}]')\"))) \\\n",
    "#     .filter(expr(f\"emoji rlike '{emoji_pattern}'\")) \\\n",
    "#     .groupBy(\"emoji\").agg(count(\"*\").alias(\"count\"))"
   ]
  },
  {
   "cell_type": "code",
   "execution_count": 145,
   "id": "a03906a9",
   "metadata": {},
   "outputs": [
    {
     "name": "stdout",
     "output_type": "stream",
     "text": [
      "이모티콘을 포함하는 댓글 개수 (개수/전체): 7284/ 563197 비율 :  1.2933307528271634 \n"
     ]
    }
   ],
   "source": [
    "print(f\"이모티콘을 포함하는 댓글 개수 (개수/전체): {emoji_count}/ {row_count} 비율 :  {(emoji_count/row_count)*100} \" )\n",
    "# emoji_data.show(truncate=False)"
   ]
  },
  {
   "cell_type": "markdown",
   "id": "98ecf184",
   "metadata": {},
   "source": [
    "# 5. ✅ 분석: 웹툰 장르별 댓글 상세 분석"
   ]
  },
  {
   "cell_type": "markdown",
   "id": "18858e74",
   "metadata": {},
   "source": [
    "> 추후 진행"
   ]
  },
  {
   "cell_type": "code",
   "execution_count": null,
   "id": "9c87c83a",
   "metadata": {},
   "outputs": [],
   "source": []
  }
 ],
 "metadata": {
  "kernelspec": {
   "display_name": "Python 3 (ipykernel)",
   "language": "python",
   "name": "python3"
  },
  "language_info": {
   "codemirror_mode": {
    "name": "ipython",
    "version": 3
   },
   "file_extension": ".py",
   "mimetype": "text/x-python",
   "name": "python",
   "nbconvert_exporter": "python",
   "pygments_lexer": "ipython3",
   "version": "3.9.2"
  }
 },
 "nbformat": 4,
 "nbformat_minor": 5
}
